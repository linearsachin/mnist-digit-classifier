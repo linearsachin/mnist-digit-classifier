{
 "cells": [
  {
   "cell_type": "code",
   "execution_count": 1,
   "metadata": {},
   "outputs": [],
   "source": [
    "import pandas as pd\n",
    "import numpy as np\n",
    "import matplotlib.pyplot as plt\n",
    "import matplotlib.image as mpimg\n",
    "from PIL import Image\n",
    "\n",
    "\n",
    "%matplotlib inline\n"
   ]
  },
  {
   "cell_type": "code",
   "execution_count": 2,
   "metadata": {},
   "outputs": [],
   "source": [
    "class NeuralNetwork():\n",
    "    def __init__(self,X,Y,nn_layers,n_iters=2000,alpha = 0.01,lambda_=10):\n",
    "        self.X = X\n",
    "        self.Y = Y\n",
    "        self.nn_layers= nn_layers\n",
    "        self.n_iters= n_iters\n",
    "        self.alpha= alpha\n",
    "        self.lambda_= lambda_\n",
    "        self.params = self.random_weights_initialization(nn_layers)\n",
    "        self.fp_cache = None\n",
    "        self.cost = None\n",
    "        \n",
    "    def tanh(self,z):\n",
    "        return np.tanh(z)\n",
    "    def sigmoid(self,z):\n",
    "        return 1 / (1+np.exp(-z))\n",
    "    def sigmoid_deriv(self,z):# z --> sigmoid(Z)\n",
    "        return z * (1-z)\n",
    "    def tanh_deriv(self,z): # z --> tanh(Z)\n",
    "        return 1 - (z)**2\n",
    "    def relu(self,Z):\n",
    "        z_copy = np.array(Z,copy=True)\n",
    "        return np.maximum(0,z_copy)\n",
    "    def relu_backward(self,dA, Z):\n",
    "        dZ = np.array(dA, copy = True)\n",
    "        dZ[Z <= 0] = 0\n",
    "        return dZ\n",
    "    \n",
    "    def random_weights_initialization(self,n_layers):\n",
    "        params = {}\n",
    "\n",
    "        # n_layers --> (len-1) is no of layers and elements of list are no of neurons in (index+1)th layer\n",
    "\n",
    "        for i in range(1,len(n_layers)):\n",
    "            params[\"W\"+str(i)] = np.random.randn(n_layers[i-1],n_layers[i]) \n",
    "            params[\"b\"+str(i)] = b3 = np.zeros((1,n_layers[i]))\n",
    "\n",
    "        return params\n",
    "    \n",
    "    \n",
    "    \n",
    "    def forward_prop(self,input_X,parameters):   \n",
    "        cache = {\n",
    "            \"A0\":input_X\n",
    "        }\n",
    "        last_index = int(len(parameters)/2)\n",
    "        for i in range(1,last_index):\n",
    "            cache[\"Z\"+str(i)] = np.dot(cache[\"A\"+str(i-1)],parameters[\"W\"+str(i)]) + parameters[\"b\"+str(i)]\n",
    "            cache[\"A\"+str(i)] = self.relu(cache[\"Z\"+str(i)])\n",
    "\n",
    "        cache[\"Z\"+str(last_index)] = np.dot(cache[\"A\"+str(last_index-1)],\n",
    "                                            parameters[\"W\"+str(last_index)])  + parameters[\"b\"+str(last_index)]\n",
    "        cache[\"A\"+str(last_index)] = self.sigmoid(cache[\"Z\"+str(last_index)])\n",
    "        self.fp_cache=cache\n",
    "        return cache[\"A\"+str(last_index)],cache\n",
    "    \n",
    "    \n",
    "    def compute_cost(self,pred_output,actual_output,parameters,lamdba):    \n",
    "        A = pred_output\n",
    "        y =actual_output\n",
    "        m = y.shape[0]\n",
    "        norm=0\n",
    "        for i in range(1,int(len(parameters)/2)):\n",
    "            norm = np.linalg.norm(parameters[\"W\"+str(i)])\n",
    "\n",
    "        cost_ =  (1./m)* np.sum((A-y)**2) + (lamdba * norm)/(2*m)\n",
    "        return np.squeeze(cost_)\n",
    "\n",
    "\n",
    "    def get_accuracy_value(self,Y_hat, Y):\n",
    "        testing = Y_hat.copy()\n",
    "        testing[Y_hat>0.5]= 1 \n",
    "        testing[Y_hat <= 0.5]=0\n",
    "        return (testing == Y).all(axis=1).mean()\n",
    "    \n",
    "    def backward_prop(self,Y,cache,parameters):\n",
    "\n",
    "        last_index = int(len(parameters)/2)\n",
    "        m = Y.shape[0]\n",
    "        back_cache = {}\n",
    "\n",
    "        delta3  = 2*(cache[\"A\"+str(last_index)] - Y) * self.sigmoid_deriv(cache[\"A\"+str(last_index)])\n",
    "        back_cache[\"dW\"+str(last_index)] = np.dot(cache[\"A\"+str(last_index-1)].T,delta3)/ m \n",
    "        back_cache[\"db\"+str(last_index)] =np.sum(delta3,axis=0,keepdims=True)/ m \n",
    "\n",
    "        delta = delta3\n",
    "        for i in reversed(range(1,last_index)):\n",
    "            delta =self.relu_backward(np.dot(delta,parameters[\"W\"+str(i+1)].T),cache[\"Z\"+str(i)])\n",
    "            back_cache[\"dW\"+str(i)] = np.dot(cache[\"A\"+str(i-1)].T,delta) / m\n",
    "            back_cache[\"db\"+str(i)] = np.sum(delta,axis=0,keepdims=True)/ m\n",
    "\n",
    "        for i in range(1,(last_index)):\n",
    "            assert (parameters[\"W\"+str(i)].shape == back_cache[\"dW\"+str(i)].shape) \n",
    "\n",
    "        return back_cache\n",
    "    \n",
    "    def update_params(self,params,backward_cache,learning_rate,lamdba,m):\n",
    "        ferb = (learning_rate * lamdba)/m\n",
    "        last_index = int(len(params)/2)\n",
    "        for i in range(1,last_index+1):\n",
    "            params[\"W\"+str(i)] = (1-ferb)*params[\"W\"+str(i)]- (learning_rate * backward_cache[\"dW\"+str(i)])\n",
    "            params[\"b\"+str(i)] = params[\"b\"+str(i)]- (learning_rate * backward_cache[\"db\"+str(i)])\n",
    "        return params\n",
    "    \n",
    "    def train(self,print_cost=False):    \n",
    "        params  = self.random_weights_initialization(self.nn_layers)\n",
    "        J_cost =[]\n",
    "        print(\"Starting Training\")\n",
    "        for i in range(self.n_iters):\n",
    "\n",
    "            A3,cache = self.forward_prop(self.X,params)\n",
    "            J = self.compute_cost(A3,self.Y,params,self.lambda_)\n",
    "            J_cost.append(J)\n",
    "            if print_cost:\n",
    "                if (i%100 == 0):\n",
    "                    print(\"iter:\",str(i),\"cost:\",str(J),\"Accuracy:\",str(self.get_accuracy_value(A3,self.Y)))\n",
    "                    print(\"----------------------------------------------------------------------\")\n",
    "\n",
    "            back_cache = self.backward_prop(self.Y,cache,params)\n",
    "\n",
    "            self.params  = self.update_params(params,back_cache,self.alpha,self.lambda_,self.X.shape[0])\n",
    "        self.cost  = J_cost\n",
    "        print(\"Training Done.\")\n",
    "        print(\"With \\n\" + \"Cost: \"+str(J)+\" Accuracy: \"+str(self.get_accuracy_value(A3,self.Y)))\n",
    "        \n",
    "\n",
    "    \n",
    "    def predict(self,testX,threshold):    \n",
    "        cache = {\n",
    "            \"A0\":testX\n",
    "        }\n",
    "        last_index = int(len(self.params)/2)\n",
    "        for i in range(1,last_index):\n",
    "            cache[\"Z\"+str(i)] = np.dot(cache[\"A\"+str(i-1)],self.params[\"W\"+str(i)]) + self.params[\"b\"+str(i)]\n",
    "            cache[\"A\"+str(i)] = self.relu(cache[\"Z\"+str(i)])\n",
    "\n",
    "        cache[\"Z\"+str(last_index)] = np.dot(cache[\"A\"+str(last_index-1)],\n",
    "                                            self.params[\"W\"+str(last_index)])  + self.params[\"b\"+str(last_index)]\n",
    "        cache[\"A\"+str(last_index)] = self.sigmoid(cache[\"Z\"+str(last_index)])\n",
    "\n",
    "        output = np.array(cache[\"A\"+str(last_index)],copy=True)\n",
    "        output[output > threshold] = 1\n",
    "        output[output <= threshold] = 0    \n",
    "\n",
    "        return output\n",
    "    \n",
    "    def evaluate(self,input_X,output_y,threshold=0.5):\n",
    "        predictions = self.predict(input_X,threshold)\n",
    "        print( \" precision:\" , str(precision_score(output_y,predictions))[:5],\"\\n\",\n",
    "        \"recall:\",str(recall_score(output_y,predictions))[:5],\"\\n\",\n",
    "        \"fl score:\",str(f1_score(output_y,predictions))[:5],\"\\n\",\n",
    "        \"accuracy:\",str((predictions == output_y).all(axis=1).mean())[:5])\n",
    "        results = confusion_matrix(output_y,predictions)\n",
    "        fig, ax = plt.subplots()\n",
    "        ax.matshow(results)\n",
    "        for (i, j), z in np.ndenumerate(results):\n",
    "            ax.text(j, i, '{:0.1f}'.format(z), ha='center', va='center',\n",
    "                    bbox=dict(boxstyle='round', facecolor='white', edgecolor='0.3'))\n",
    "        plt.show()\n",
    "    \n",
    "    def plot_cost(self):\n",
    "        plt.plot(np.arange(len(self.cost)),self.cost)\n",
    "        plt.xlabel(\"Number of Iterations\")\n",
    "        plt.ylabel(\"Cost\")\n",
    "        plt.show()"
   ]
  },
  {
   "cell_type": "code",
   "execution_count": 3,
   "metadata": {},
   "outputs": [
    {
     "name": "stderr",
     "output_type": "stream",
     "text": [
      "Using TensorFlow backend.\n",
      "C:\\Users\\sachi\\anaconda3\\lib\\site-packages\\tensorflow\\python\\framework\\dtypes.py:516: FutureWarning: Passing (type, 1) or '1type' as a synonym of type is deprecated; in a future version of numpy, it will be understood as (type, (1,)) / '(1,)type'.\n",
      "  _np_qint8 = np.dtype([(\"qint8\", np.int8, 1)])\n",
      "C:\\Users\\sachi\\anaconda3\\lib\\site-packages\\tensorflow\\python\\framework\\dtypes.py:517: FutureWarning: Passing (type, 1) or '1type' as a synonym of type is deprecated; in a future version of numpy, it will be understood as (type, (1,)) / '(1,)type'.\n",
      "  _np_quint8 = np.dtype([(\"quint8\", np.uint8, 1)])\n",
      "C:\\Users\\sachi\\anaconda3\\lib\\site-packages\\tensorflow\\python\\framework\\dtypes.py:518: FutureWarning: Passing (type, 1) or '1type' as a synonym of type is deprecated; in a future version of numpy, it will be understood as (type, (1,)) / '(1,)type'.\n",
      "  _np_qint16 = np.dtype([(\"qint16\", np.int16, 1)])\n",
      "C:\\Users\\sachi\\anaconda3\\lib\\site-packages\\tensorflow\\python\\framework\\dtypes.py:519: FutureWarning: Passing (type, 1) or '1type' as a synonym of type is deprecated; in a future version of numpy, it will be understood as (type, (1,)) / '(1,)type'.\n",
      "  _np_quint16 = np.dtype([(\"quint16\", np.uint16, 1)])\n",
      "C:\\Users\\sachi\\anaconda3\\lib\\site-packages\\tensorflow\\python\\framework\\dtypes.py:520: FutureWarning: Passing (type, 1) or '1type' as a synonym of type is deprecated; in a future version of numpy, it will be understood as (type, (1,)) / '(1,)type'.\n",
      "  _np_qint32 = np.dtype([(\"qint32\", np.int32, 1)])\n",
      "C:\\Users\\sachi\\anaconda3\\lib\\site-packages\\tensorflow\\python\\framework\\dtypes.py:525: FutureWarning: Passing (type, 1) or '1type' as a synonym of type is deprecated; in a future version of numpy, it will be understood as (type, (1,)) / '(1,)type'.\n",
      "  np_resource = np.dtype([(\"resource\", np.ubyte, 1)])\n",
      "C:\\Users\\sachi\\anaconda3\\lib\\site-packages\\tensorboard\\compat\\tensorflow_stub\\dtypes.py:541: FutureWarning: Passing (type, 1) or '1type' as a synonym of type is deprecated; in a future version of numpy, it will be understood as (type, (1,)) / '(1,)type'.\n",
      "  _np_qint8 = np.dtype([(\"qint8\", np.int8, 1)])\n",
      "C:\\Users\\sachi\\anaconda3\\lib\\site-packages\\tensorboard\\compat\\tensorflow_stub\\dtypes.py:542: FutureWarning: Passing (type, 1) or '1type' as a synonym of type is deprecated; in a future version of numpy, it will be understood as (type, (1,)) / '(1,)type'.\n",
      "  _np_quint8 = np.dtype([(\"quint8\", np.uint8, 1)])\n",
      "C:\\Users\\sachi\\anaconda3\\lib\\site-packages\\tensorboard\\compat\\tensorflow_stub\\dtypes.py:543: FutureWarning: Passing (type, 1) or '1type' as a synonym of type is deprecated; in a future version of numpy, it will be understood as (type, (1,)) / '(1,)type'.\n",
      "  _np_qint16 = np.dtype([(\"qint16\", np.int16, 1)])\n",
      "C:\\Users\\sachi\\anaconda3\\lib\\site-packages\\tensorboard\\compat\\tensorflow_stub\\dtypes.py:544: FutureWarning: Passing (type, 1) or '1type' as a synonym of type is deprecated; in a future version of numpy, it will be understood as (type, (1,)) / '(1,)type'.\n",
      "  _np_quint16 = np.dtype([(\"quint16\", np.uint16, 1)])\n",
      "C:\\Users\\sachi\\anaconda3\\lib\\site-packages\\tensorboard\\compat\\tensorflow_stub\\dtypes.py:545: FutureWarning: Passing (type, 1) or '1type' as a synonym of type is deprecated; in a future version of numpy, it will be understood as (type, (1,)) / '(1,)type'.\n",
      "  _np_qint32 = np.dtype([(\"qint32\", np.int32, 1)])\n",
      "C:\\Users\\sachi\\anaconda3\\lib\\site-packages\\tensorboard\\compat\\tensorflow_stub\\dtypes.py:550: FutureWarning: Passing (type, 1) or '1type' as a synonym of type is deprecated; in a future version of numpy, it will be understood as (type, (1,)) / '(1,)type'.\n",
      "  np_resource = np.dtype([(\"resource\", np.ubyte, 1)])\n"
     ]
    }
   ],
   "source": [
    "import sys, numpy as np \n",
    "from keras.datasets import mnist\n",
    "(x_train, y_train), (x_test, y_test) = mnist.load_data()\n"
   ]
  },
  {
   "cell_type": "markdown",
   "metadata": {},
   "source": [
    "Getting the Data for 1 and 0 to classify:"
   ]
  },
  {
   "cell_type": "code",
   "execution_count": 4,
   "metadata": {},
   "outputs": [
    {
     "name": "stdout",
     "output_type": "stream",
     "text": [
      "[22928  6446 53016 ... 25456 35516 44871]\n"
     ]
    }
   ],
   "source": [
    "y_1_train = np.where(y_train == 1)\n",
    "y_0_train = np.where(y_train == 0)\n",
    "index_train =np.append(y_1_train[0],y_0_train[0])\n",
    "np.random.shuffle(index_train)\n",
    "\n",
    "y_1_test = np.where(y_test == 1)\n",
    "y_0_test = np.where(y_test == 0)\n",
    "index_test =np.append(y_1_test[0],y_0_test[0])\n",
    "np.random.shuffle(index_test)\n",
    "\n",
    "\n",
    "# index\n",
    "x_train= x_train[(index_train)]\n",
    "y_train= y_train[(index_train)]\n",
    "x_test= x_test[(index_test)]\n",
    "y_test= y_test[(index_test)]\n",
    "\n",
    "print(index_train)\n"
   ]
  },
  {
   "cell_type": "code",
   "execution_count": 5,
   "metadata": {},
   "outputs": [
    {
     "data": {
      "text/plain": [
       "1"
      ]
     },
     "execution_count": 5,
     "metadata": {},
     "output_type": "execute_result"
    },
    {
     "data": {
      "image/png": "[encoded data removed]",
      "text/plain": [
       "<Figure size 432x288 with 1 Axes>"
      ]
     },
     "metadata": {
      "needs_background": "light"
     },
     "output_type": "display_data"
    }
   ],
   "source": [
    "n_samples_train = 12000\n",
    "i = np.random.randint(0, n_samples_train)\n",
    "img = Image.fromarray(x_train[i])\n",
    "plt.imshow(img)\n",
    "\n",
    "y_train[i]"
   ]
  },
  {
   "cell_type": "code",
   "execution_count": 6,
   "metadata": {},
   "outputs": [
    {
     "data": {
      "text/plain": [
       "((12000, 784), (12000, 1))"
      ]
     },
     "execution_count": 6,
     "metadata": {},
     "output_type": "execute_result"
    }
   ],
   "source": [
    "images, labels = (x_train[0:n_samples_train].reshape(n_samples_train,28*28) /255, y_train[0:n_samples_train].reshape(n_samples_train,1)) \n",
    "df = pd.DataFrame(images)\n",
    "images.shape,labels.shape"
   ]
  },
  {
   "cell_type": "code",
   "execution_count": 20,
   "metadata": {
    "scrolled": false
   },
   "outputs": [
    {
     "name": "stdout",
     "output_type": "stream",
     "text": [
      "Starting Training\n",
      "Training Done.\n",
      "With \n",
      "Cost: 0.030603884678638223 Accuracy: 0.9685833333333334\n"
     ]
    }
   ],
   "source": [
    "# params_ , cost_ = train(images,labels,[images.shape[1],6,4,labels.shape[1]],n_iters=2000,alpha =  0.01,lambda_=10,)\n",
    "nn_arch=[images.shape[1],6,5,labels.shape[1]]\n",
    "nn =NeuralNetwork(images,labels,nn_arch)\n",
    "nn.train()"
   ]
  },
  {
   "cell_type": "code",
   "execution_count": 21,
   "metadata": {},
   "outputs": [
    {
     "data": {
      "image/png": "[encoded data removed]",
      "text/plain": [
       "<Figure size 432x288 with 1 Axes>"
      ]
     },
     "metadata": {
      "needs_background": "light"
     },
     "output_type": "display_data"
    }
   ],
   "source": [
    "nn.plot_cost()"
   ]
  },
  {
   "cell_type": "markdown",
   "metadata": {},
   "source": [
    "Testing the Trained Neural Network"
   ]
  },
  {
   "cell_type": "code",
   "execution_count": 22,
   "metadata": {},
   "outputs": [],
   "source": [
    "from sklearn.metrics import confusion_matrix, classification_report\n",
    "from sklearn.metrics import precision_score, recall_score ,f1_score\n"
   ]
  },
  {
   "cell_type": "code",
   "execution_count": 23,
   "metadata": {},
   "outputs": [],
   "source": [
    "n_test_samples = x_test.shape[0]\n",
    "testX = x_test.reshape(n_test_samples,28*28)/255\n",
    "testY = y_test.reshape(n_test_samples,1)\n"
   ]
  },
  {
   "cell_type": "code",
   "execution_count": 24,
   "metadata": {},
   "outputs": [
    {
     "name": "stdout",
     "output_type": "stream",
     "text": [
      "Threshold: 0.5\n",
      "-------------test set-------------\n",
      " precision: 0.960 \n",
      " recall: 0.977 \n",
      " fl score: 0.969 \n",
      " accuracy: 0.966\n"
     ]
    },
    {
     "data": {
      "image/png": "[encoded data removed]",
      "text/plain": [
       "<Figure size 432x288 with 1 Axes>"
      ]
     },
     "metadata": {
      "needs_background": "light"
     },
     "output_type": "display_data"
    },
    {
     "name": "stdout",
     "output_type": "stream",
     "text": [
      "-------------train set-------------\n",
      " precision: 0.964 \n",
      " recall: 0.976 \n",
      " fl score: 0.970 \n",
      " accuracy: 0.968\n"
     ]
    },
    {
     "data": {
      "image/png": "[encoded data removed]",
      "text/plain": [
       "<Figure size 432x288 with 1 Axes>"
      ]
     },
     "metadata": {
      "needs_background": "light"
     },
     "output_type": "display_data"
    }
   ],
   "source": [
    "thres = 0.5\n",
    "print(\"Threshold:\",str(thres))\n",
    "print(\"-------------test set-------------\")\n",
    "nn.evaluate(testX,testY,thres)\n",
    "\n",
    "print(\"-------------train set-------------\")\n",
    "nn.evaluate(images,labels,thres)\n"
   ]
  },
  {
   "cell_type": "code",
   "execution_count": 25,
   "metadata": {},
   "outputs": [
    {
     "name": "stdout",
     "output_type": "stream",
     "text": [
      "Threshold: 0.8\n",
      "-------------test set-------------\n",
      " precision: 0.964 \n",
      " recall: 0.949 \n",
      " fl score: 0.956 \n",
      " accuracy: 0.954\n"
     ]
    },
    {
     "data": {
      "image/png": "[encoded data removed]",
      "text/plain": [
       "<Figure size 432x288 with 1 Axes>"
      ]
     },
     "metadata": {
      "needs_background": "light"
     },
     "output_type": "display_data"
    },
    {
     "name": "stdout",
     "output_type": "stream",
     "text": [
      "-------------train set-------------\n",
      " precision: 0.967 \n",
      " recall: 0.949 \n",
      " fl score: 0.958 \n",
      " accuracy: 0.956\n"
     ]
    },
    {
     "data": {
      "image/png": "[encoded data removed]",
      "text/plain": [
       "<Figure size 432x288 with 1 Axes>"
      ]
     },
     "metadata": {
      "needs_background": "light"
     },
     "output_type": "display_data"
    }
   ],
   "source": [
    "thres = 0.8\n",
    "print(\"Threshold:\",str(thres))\n",
    "print(\"-------------test set-------------\")\n",
    "nn.evaluate(testX,testY,thres)\n",
    "\n",
    "print(\"-------------train set-------------\")\n",
    "nn.evaluate(images,labels,thres)"
   ]
  },
  {
   "cell_type": "code",
   "execution_count": 26,
   "metadata": {},
   "outputs": [
    {
     "name": "stdout",
     "output_type": "stream",
     "text": [
      "Threshold: 0.3\n",
      "-------------test set-------------\n",
      " precision: 0.954 \n",
      " recall: 0.984 \n",
      " fl score: 0.969 \n",
      " accuracy: 0.966\n"
     ]
    },
    {
     "data": {
      "image/png": "[encoded data removed]",
      "text/plain": [
       "<Figure size 432x288 with 1 Axes>"
      ]
     },
     "metadata": {
      "needs_background": "light"
     },
     "output_type": "display_data"
    },
    {
     "name": "stdout",
     "output_type": "stream",
     "text": [
      "-------------train set-------------\n",
      " precision: 0.961 \n",
      " recall: 0.983 \n",
      " fl score: 0.972 \n",
      " accuracy: 0.970\n"
     ]
    },
    {
     "data": {
      "image/png": "[encoded data removed]",
      "text/plain": [
       "<Figure size 432x288 with 1 Axes>"
      ]
     },
     "metadata": {
      "needs_background": "light"
     },
     "output_type": "display_data"
    }
   ],
   "source": [
    "thres = 0.3\n",
    "print(\"Threshold:\",str(thres))\n",
    "print(\"-------------test set-------------\")\n",
    "nn.evaluate(testX,testY,thres)\n",
    "\n",
    "print(\"-------------train set-------------\")\n",
    "nn.evaluate(images,labels,thres)"
   ]
  },
  {
   "cell_type": "code",
   "execution_count": 27,
   "metadata": {},
   "outputs": [
    {
     "name": "stdout",
     "output_type": "stream",
     "text": [
      "Threshold: 0.7\n",
      "-------------test set-------------\n",
      " precision: 0.963 \n",
      " recall: 0.956 \n",
      " fl score: 0.960 \n",
      " accuracy: 0.957\n"
     ]
    },
    {
     "data": {
      "image/png": "[encoded data removed]",
      "text/plain": [
       "<Figure size 432x288 with 1 Axes>"
      ]
     },
     "metadata": {
      "needs_background": "light"
     },
     "output_type": "display_data"
    },
    {
     "name": "stdout",
     "output_type": "stream",
     "text": [
      "-------------train set-------------\n",
      " precision: 0.966 \n",
      " recall: 0.958 \n",
      " fl score: 0.962 \n",
      " accuracy: 0.960\n"
     ]
    },
    {
     "data": {
      "image/png": "[encoded data removed]",
      "text/plain": [
       "<Figure size 432x288 with 1 Axes>"
      ]
     },
     "metadata": {
      "needs_background": "light"
     },
     "output_type": "display_data"
    }
   ],
   "source": [
    "thres = 0.7\n",
    "print(\"Threshold:\",str(thres))\n",
    "print(\"-------------test set-------------\")\n",
    "nn.evaluate(testX,testY,thres)\n",
    "\n",
    "print(\"-------------train set-------------\")\n",
    "nn.evaluate(images,labels,thres)"
   ]
  },
  {
   "cell_type": "code",
   "execution_count": 28,
   "metadata": {},
   "outputs": [
    {
     "name": "stdout",
     "output_type": "stream",
     "text": [
      "Threshold: 0.9\n",
      "-------------test set-------------\n",
      " precision: 0.969 \n",
      " recall: 0.933 \n",
      " fl score: 0.951 \n",
      " accuracy: 0.948\n"
     ]
    },
    {
     "data": {
      "image/png": "[encoded data removed]",
      "text/plain": [
       "<Figure size 432x288 with 1 Axes>"
      ]
     },
     "metadata": {
      "needs_background": "light"
     },
     "output_type": "display_data"
    },
    {
     "name": "stdout",
     "output_type": "stream",
     "text": [
      "-------------train set-------------\n",
      " precision: 0.970 \n",
      " recall: 0.936 \n",
      " fl score: 0.953 \n",
      " accuracy: 0.950\n"
     ]
    },
    {
     "data": {
      "image/png": "[encoded data removed]",
      "text/plain": [
       "<Figure size 432x288 with 1 Axes>"
      ]
     },
     "metadata": {
      "needs_background": "light"
     },
     "output_type": "display_data"
    }
   ],
   "source": [
    "thres = 0.9\n",
    "print(\"Threshold:\",str(thres))\n",
    "print(\"-------------test set-------------\")\n",
    "nn.evaluate(testX,testY,thres)\n",
    "\n",
    "print(\"-------------train set-------------\")\n",
    "nn.evaluate(images,labels,thres)"
   ]
  }
 ],
 "metadata": {
  "kernelspec": {
   "display_name": "Python 3",
   "language": "python",
   "name": "python3"
  },
  "language_info": {
   "codemirror_mode": {
    "name": "ipython",
    "version": 3
   },
   "file_extension": ".py",
   "mimetype": "text/x-python",
   "name": "python",
   "nbconvert_exporter": "python",
   "pygments_lexer": "ipython3",
   "version": "3.7.6"
  }
 },
 "nbformat": 4,
 "nbformat_minor": 4
}
