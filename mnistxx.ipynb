{
 "cells": [
  {
   "cell_type": "code",
   "execution_count": 108,
   "metadata": {},
   "outputs": [],
   "source": [
    "import pandas as pd\n",
    "import numpy as np\n",
    "import matplotlib.pyplot as plt\n",
    "import matplotlib.image as mpimg\n",
    "from PIL import Image\n",
    "\n",
    "\n",
    "%matplotlib inline\n"
   ]
  },
  {
   "cell_type": "code",
   "execution_count": 402,
   "metadata": {},
   "outputs": [],
   "source": [
    "class NeuralNetwork():\n",
    "    def __init__(self,X,Y,nn_layers,n_iters=2000,alpha = 0.01,lambda_=10):\n",
    "        self.X = X\n",
    "        self.Y = Y\n",
    "        self.nn_layers= nn_layers\n",
    "        self.n_iters= n_iters\n",
    "        self.alpha= alpha\n",
    "        self.lambda_= lambda_\n",
    "        self.params = self.random_weights_initialization(nn_layers)\n",
    "        self.fp_cache = None\n",
    "        self.cost = None\n",
    "        \n",
    "    def tanh(self,z):\n",
    "        return np.tanh(z)\n",
    "    def sigmoid(self,z):\n",
    "        return 1 / (1+np.exp(-z))\n",
    "    def sigmoid_deriv(self,z):# z --> sigmoid(Z)\n",
    "        return z * (1-z)\n",
    "    def tanh_deriv(self,z): # z --> tanh(Z)\n",
    "        return 1 - (z)**2\n",
    "    def relu(self,Z):\n",
    "        z_copy = np.array(Z,copy=True)\n",
    "        return np.maximum(0,z_copy)\n",
    "    def relu_backward(self,dA, Z):\n",
    "        dZ = np.array(dA, copy = True)\n",
    "        dZ[Z <= 0] = 0\n",
    "        return dZ\n",
    "    def softmax(self,u):\n",
    "        return np.exp(u) / np.sum(np.exp(u), axis=0, keepdims=True)\n",
    "    def random_weights_initialization(self,n_layers):\n",
    "        params = {}\n",
    "\n",
    "        # n_layers --> (len-1) is no of layers and elements of list are no of neurons in (index+1)th layer\n",
    "\n",
    "        for i in range(1,len(n_layers)):\n",
    "            params[\"W\"+str(i)] = np.random.randn(n_layers[i-1],n_layers[i]) \n",
    "            params[\"b\"+str(i)] = b3 = np.zeros((1,n_layers[i]))\n",
    "\n",
    "        return params\n",
    "    \n",
    "    \n",
    "    \n",
    "    def forward_prop(self,input_X,parameters):   \n",
    "        cache = {\n",
    "            \"A0\":input_X\n",
    "        }\n",
    "        last_index = int(len(parameters)/2)\n",
    "        for i in range(1,last_index):\n",
    "            cache[\"Z\"+str(i)] = np.dot(cache[\"A\"+str(i-1)],parameters[\"W\"+str(i)]) + parameters[\"b\"+str(i)]\n",
    "            cache[\"A\"+str(i)] = self.relu(cache[\"Z\"+str(i)])\n",
    "\n",
    "        cache[\"Z\"+str(last_index)] = np.dot(cache[\"A\"+str(last_index-1)],\n",
    "                                            parameters[\"W\"+str(last_index)])  + parameters[\"b\"+str(last_index)]\n",
    "        cache[\"A\"+str(last_index)] = self.sigmoid(cache[\"Z\"+str(last_index)])\n",
    "        self.fp_cache=cache\n",
    "        return cache[\"A\"+str(last_index)],cache\n",
    "    \n",
    "    \n",
    "    def compute_cost(self,pred_output,actual_output,parameters,lamdba):    \n",
    "        A = pred_output\n",
    "        y =actual_output\n",
    "        m = y.shape[0]\n",
    "        norm=0\n",
    "        for i in range(1,int(len(parameters)/2)):\n",
    "            norm += np.linalg.norm(parameters[\"W\"+str(i)])\n",
    "\n",
    "        cost_ =  (1./m)* np.sum((A-y)**2) + (lamdba * norm)/(2*m)\n",
    "        return np.squeeze(cost_)\n",
    "\n",
    "\n",
    "    def get_accuracy_value(self,Y_hat, Y):\n",
    "        testing = Y_hat.copy()\n",
    "        if Y_hat.shape[1]<=1:\n",
    "            testing[Y_hat>0.5]= 1 \n",
    "            testing[Y_hat <= 0.5]=0 \n",
    "        else:\n",
    "            testing = np.argmax(Y_hat,axis=1).reshape(Y.shape[0],1)\n",
    "            Y = np.argmax(Y,axis=1).reshape(Y.shape[0],1)\n",
    "#         print(testing.T,Y.T)\n",
    "#         print(testing.shape,Y.shape)\n",
    "        return (testing == Y).all(axis=1).mean()\n",
    "    \n",
    "    def backward_prop(self,Y,cache,parameters):\n",
    "\n",
    "        last_index = int(len(parameters)/2)\n",
    "        m = Y.shape[0]\n",
    "        back_cache = {}\n",
    "\n",
    "        delta3  = 2*(cache[\"A\"+str(last_index)] - Y) * self.sigmoid_deriv(cache[\"A\"+str(last_index)])\n",
    "        back_cache[\"dW\"+str(last_index)] = (np.dot(cache[\"A\"+str(last_index-1)].T,delta3)/ m ) + (self.lambda_ / (2 *m)) * parameters[\"W\"+str(last_index)]\n",
    "        back_cache[\"db\"+str(last_index)] =np.sum(delta3,axis=0,keepdims=True)/ m \n",
    "\n",
    "        delta = delta3\n",
    "        for i in reversed(range(1,last_index)):\n",
    "            delta =self.relu_backward(np.dot(delta,parameters[\"W\"+str(i+1)].T),cache[\"Z\"+str(i)])\n",
    "            back_cache[\"dW\"+str(i)] = (np.dot(cache[\"A\"+str(i-1)].T,delta) / m) + (self.lambda_ / (2 *m)) * parameters[\"W\"+str(i)]\n",
    "            back_cache[\"db\"+str(i)] = np.sum(delta,axis=0,keepdims=True)/ m\n",
    "\n",
    "        for i in range(1,(last_index)):\n",
    "            assert (parameters[\"W\"+str(i)].shape == back_cache[\"dW\"+str(i)].shape) \n",
    "\n",
    "        return back_cache\n",
    "    \n",
    "    def update_params(self,params,backward_cache,learning_rate,lamdba,m):\n",
    "        ferb = (learning_rate * lamdba)/m\n",
    "        last_index = int(len(params)/2)\n",
    "        for i in range(1,last_index+1):\n",
    "            params[\"W\"+str(i)] = (1-ferb)*params[\"W\"+str(i)]- (learning_rate * backward_cache[\"dW\"+str(i)])\n",
    "            params[\"b\"+str(i)] = params[\"b\"+str(i)]- (learning_rate * backward_cache[\"db\"+str(i)])\n",
    "        return params\n",
    "    \n",
    "    def train(self,print_cost=False):    \n",
    "        params  = self.random_weights_initialization(self.nn_layers)\n",
    "        J_cost =[]\n",
    "        print(\"Starting Training\")\n",
    "        for i in range(self.n_iters):\n",
    "\n",
    "            A3,cache = self.forward_prop(self.X,params)\n",
    "            J = self.compute_cost(A3,self.Y,params,self.lambda_)\n",
    "            J_cost.append(J)\n",
    "            if print_cost:\n",
    "                if (i%100 == 0):\n",
    "                    print(\"iter:\",str(i),\"cost:\",str(J),\"Accuracy:\",str(self.get_accuracy_value(A3,self.Y)))\n",
    "                    print(\"----------------------------------------------------------------------\")\n",
    "\n",
    "            back_cache = self.backward_prop(self.Y,cache,params)\n",
    "\n",
    "            self.params  = self.update_params(params,back_cache,self.alpha,self.lambda_,self.X.shape[0])\n",
    "        self.cost  = J_cost\n",
    "        print(\"Training Done.\")\n",
    "        print(\"With \\n\" + \"Cost: \"+str(J)+\" Accuracy: \"+str(self.get_accuracy_value(A3,self.Y)))\n",
    "        \n",
    "\n",
    "    \n",
    "    def predict(self,testX,threshold=0.5):    \n",
    "        a,_ = self.forward_prop(testX,self.params)\n",
    "        output = np.array(a,copy=True)\n",
    "        if a.shape[1]<=1:\n",
    "            output[output > threshold] = 1\n",
    "            output[output <= threshold] = 0   \n",
    "        else:\n",
    "            output = np.argmax(a,axis=1)\n",
    "\n",
    "        return output\n",
    "    \n",
    "    def evaluate(self,input_X,output_y,threshold=0.5):\n",
    "        predictions = self.predict(input_X,threshold)\n",
    "        print( \" precision:\" , str(precision_score(output_y,predictions))[:5],\"\\n\",\n",
    "        \"recall:\",str(recall_score(output_y,predictions))[:5],\"\\n\",\n",
    "        \"fl score:\",str(f1_score(output_y,predictions))[:5],\"\\n\",\n",
    "        \"accuracy:\",str((predictions == output_y).all(axis=1).mean())[:5])\n",
    "        results = confusion_matrix(output_y,predictions)\n",
    "        fig, ax = plt.subplots()\n",
    "        ax.matshow(results)\n",
    "        for (i, j), z in np.ndenumerate(results):\n",
    "            ax.text(j, i, '{:0.1f}'.format(z), ha='center', va='center',\n",
    "                    bbox=dict(boxstyle='round', facecolor='white', edgecolor='0.3'))\n",
    "        plt.show()\n",
    "    \n",
    "    def plot_cost(self):\n",
    "        plt.plot(np.arange(len(self.cost)),self.cost)\n",
    "        plt.xlabel(\"Number of Iterations\")\n",
    "        plt.ylabel(\"Cost\")\n",
    "        plt.show()"
   ]
  },
  {
   "cell_type": "code",
   "execution_count": 403,
   "metadata": {},
   "outputs": [],
   "source": [
    "import sys, numpy as np \n",
    "from keras.datasets import mnist\n",
    "(x_train, y_train), (x_test, y_test) = mnist.load_data()\n"
   ]
  },
  {
   "cell_type": "markdown",
   "metadata": {},
   "source": [
    "Getting the Data for 1 and 0 to classify:"
   ]
  },
  {
   "cell_type": "code",
   "execution_count": 404,
   "metadata": {},
   "outputs": [
    {
     "name": "stdout",
     "output_type": "stream",
     "text": [
      "[35815 15240 54340 ...  9130 20045 59249]\n"
     ]
    }
   ],
   "source": [
    "y_1_train = np.where(y_train == 1)\n",
    "y_0_train = np.where(y_train == 0)\n",
    "index_train =np.append(y_1_train[0],y_0_train[0])\n",
    "np.random.shuffle(index_train)\n",
    "\n",
    "y_1_test = np.where(y_test == 1)\n",
    "y_0_test = np.where(y_test == 0)\n",
    "index_test =np.append(y_1_test[0],y_0_test[0])\n",
    "np.random.shuffle(index_test)\n",
    "\n",
    "\n",
    "# index\n",
    "x_train= x_train[(index_train)]\n",
    "y_train= y_train[(index_train)]\n",
    "x_test= x_test[(index_test)]\n",
    "y_test= y_test[(index_test)]\n",
    "\n",
    "print(index_train)\n"
   ]
  },
  {
   "cell_type": "code",
   "execution_count": 405,
   "metadata": {},
   "outputs": [
    {
     "data": {
      "text/plain": [
       "1"
      ]
     },
     "execution_count": 405,
     "metadata": {},
     "output_type": "execute_result"
    },
    {
     "data": {
      "image/png": "[encoded data removed]",
      "text/plain": [
       "<Figure size 432x288 with 1 Axes>"
      ]
     },
     "metadata": {
      "needs_background": "light"
     },
     "output_type": "display_data"
    }
   ],
   "source": [
    "n_samples_train = 12000\n",
    "i = np.random.randint(0, n_samples_train)\n",
    "img = Image.fromarray(x_train[i])\n",
    "plt.imshow(img)\n",
    "\n",
    "y_train[i]"
   ]
  },
  {
   "cell_type": "code",
   "execution_count": 406,
   "metadata": {},
   "outputs": [
    {
     "data": {
      "text/plain": [
       "((12000, 784), (12000, 1))"
      ]
     },
     "execution_count": 406,
     "metadata": {},
     "output_type": "execute_result"
    }
   ],
   "source": [
    "images, labels = (x_train[0:n_samples_train].reshape(n_samples_train,28*28) /255, y_train[0:n_samples_train].reshape(n_samples_train,1)) \n",
    "df = pd.DataFrame(images)\n",
    "images.shape,labels.shape"
   ]
  },
  {
   "cell_type": "code",
   "execution_count": 407,
   "metadata": {
    "scrolled": false
   },
   "outputs": [
    {
     "name": "stdout",
     "output_type": "stream",
     "text": [
      "Starting Training\n",
      "iter: 0 cost: 3.578073128853992 Accuracy: 0.5334166666666667\n",
      "----------------------------------------------------------------------\n",
      "iter: 100 cost: 2.601124559983744 Accuracy: 0.53325\n",
      "----------------------------------------------------------------------\n",
      "iter: 200 cost: 1.7153809965297213 Accuracy: 0.6121666666666666\n",
      "----------------------------------------------------------------------\n",
      "iter: 300 cost: 1.2036992533710806 Accuracy: 0.8340833333333333\n",
      "----------------------------------------------------------------------\n",
      "iter: 400 cost: 0.8549745639279883 Accuracy: 0.91575\n",
      "----------------------------------------------------------------------\n",
      "iter: 500 cost: 0.6118053010232958 Accuracy: 0.963\n",
      "----------------------------------------------------------------------\n",
      "iter: 600 cost: 0.4488689634939562 Accuracy: 0.9839166666666667\n",
      "----------------------------------------------------------------------\n",
      "iter: 700 cost: 0.33953619320312706 Accuracy: 0.9896666666666667\n",
      "----------------------------------------------------------------------\n",
      "iter: 800 cost: 0.26563048609257595 Accuracy: 0.9914166666666666\n",
      "----------------------------------------------------------------------\n",
      "iter: 900 cost: 0.21556676069810782 Accuracy: 0.9923333333333333\n",
      "----------------------------------------------------------------------\n",
      "iter: 1000 cost: 0.18188015759052972 Accuracy: 0.9935\n",
      "----------------------------------------------------------------------\n",
      "iter: 1100 cost: 0.15958857853949432 Accuracy: 0.9936666666666667\n",
      "----------------------------------------------------------------------\n",
      "iter: 1200 cost: 0.1452334515710591 Accuracy: 0.9939166666666667\n",
      "----------------------------------------------------------------------\n",
      "iter: 1300 cost: 0.13623629942141308 Accuracy: 0.9940833333333333\n",
      "----------------------------------------------------------------------\n",
      "iter: 1400 cost: 0.1306586891099633 Accuracy: 0.9945833333333334\n",
      "----------------------------------------------------------------------\n",
      "iter: 1500 cost: 0.12709529362782607 Accuracy: 0.9948333333333333\n",
      "----------------------------------------------------------------------\n",
      "iter: 1600 cost: 0.12465854540990487 Accuracy: 0.9950833333333333\n",
      "----------------------------------------------------------------------\n",
      "iter: 1700 cost: 0.12285794649553178 Accuracy: 0.9951666666666666\n",
      "----------------------------------------------------------------------\n",
      "iter: 1800 cost: 0.12143561330316995 Accuracy: 0.99525\n",
      "----------------------------------------------------------------------\n",
      "iter: 1900 cost: 0.1202451755214188 Accuracy: 0.9954166666666666\n",
      "----------------------------------------------------------------------\n",
      "Training Done.\n",
      "With \n",
      "Cost: 0.1192287065189559 Accuracy: 0.9955\n"
     ]
    }
   ],
   "source": [
    "# params_ , cost_ = train(images,labels,[images.shape[1],6,4,labels.shape[1]],n_iters=2000,alpha =  0.01,lambda_=10,)\n",
    "nn_arch=[images.shape[1],6,5,labels.shape[1]]\n",
    "nn =NeuralNetwork(images,labels,nn_arch,alpha=0.03,lambda_=1000)\n",
    "nn.train(True)"
   ]
  },
  {
   "cell_type": "code",
   "execution_count": 408,
   "metadata": {},
   "outputs": [
    {
     "data": {
      "image/png": "[encoded data removed]",
      "text/plain": [
       "<Figure size 432x288 with 1 Axes>"
      ]
     },
     "metadata": {
      "needs_background": "light"
     },
     "output_type": "display_data"
    }
   ],
   "source": [
    "nn.plot_cost()"
   ]
  },
  {
   "cell_type": "markdown",
   "metadata": {},
   "source": [
    "Testing the Trained Neural Network"
   ]
  },
  {
   "cell_type": "code",
   "execution_count": 409,
   "metadata": {},
   "outputs": [],
   "source": [
    "from sklearn.metrics import confusion_matrix, classification_report\n",
    "from sklearn.metrics import precision_score, recall_score ,f1_score\n"
   ]
  },
  {
   "cell_type": "code",
   "execution_count": 410,
   "metadata": {},
   "outputs": [],
   "source": [
    "n_test_samples = x_test.shape[0]\n",
    "testX = x_test.reshape(n_test_samples,28*28)/255\n",
    "testY = y_test.reshape(n_test_samples,1)\n"
   ]
  },
  {
   "cell_type": "code",
   "execution_count": 411,
   "metadata": {},
   "outputs": [
    {
     "name": "stdout",
     "output_type": "stream",
     "text": [
      "Threshold: 0.5\n",
      "-------------test set-------------\n",
      " precision: 0.997 \n",
      " recall: 1.0 \n",
      " fl score: 0.998 \n",
      " accuracy: 0.998\n"
     ]
    },
    {
     "data": {
      "image/png": "[encoded data removed]",
      "text/plain": [
       "<Figure size 432x288 with 1 Axes>"
      ]
     },
     "metadata": {
      "needs_background": "light"
     },
     "output_type": "display_data"
    },
    {
     "name": "stdout",
     "output_type": "stream",
     "text": [
      "-------------train set-------------\n",
      " precision: 0.993 \n",
      " recall: 0.998 \n",
      " fl score: 0.995 \n",
      " accuracy: 0.995\n"
     ]
    },
    {
     "data": {
      "image/png": "[encoded data removed]",
      "text/plain": [
       "<Figure size 432x288 with 1 Axes>"
      ]
     },
     "metadata": {
      "needs_background": "light"
     },
     "output_type": "display_data"
    }
   ],
   "source": [
    "thres = 0.5\n",
    "print(\"Threshold:\",str(thres))\n",
    "print(\"-------------test set-------------\")\n",
    "nn.evaluate(testX,testY,thres)\n",
    "\n",
    "print(\"-------------train set-------------\")\n",
    "nn.evaluate(images,labels,thres)\n"
   ]
  },
  {
   "cell_type": "code",
   "execution_count": 412,
   "metadata": {},
   "outputs": [
    {
     "name": "stdout",
     "output_type": "stream",
     "text": [
      "Threshold: 0.8\n",
      "-------------test set-------------\n",
      " precision: 1.0 \n",
      " recall: 0.555 \n",
      " fl score: 0.713 \n",
      " accuracy: 0.761\n"
     ]
    },
    {
     "data": {
      "image/png": "[encoded data removed]",
      "text/plain": [
       "<Figure size 432x288 with 1 Axes>"
      ]
     },
     "metadata": {
      "needs_background": "light"
     },
     "output_type": "display_data"
    },
    {
     "name": "stdout",
     "output_type": "stream",
     "text": [
      "-------------train set-------------\n",
      " precision: 0.999 \n",
      " recall: 0.525 \n",
      " fl score: 0.688 \n",
      " accuracy: 0.746\n"
     ]
    },
    {
     "data": {
      "image/png": "[encoded data removed]",
      "text/plain": [
       "<Figure size 432x288 with 1 Axes>"
      ]
     },
     "metadata": {
      "needs_background": "light"
     },
     "output_type": "display_data"
    }
   ],
   "source": [
    "thres = 0.8\n",
    "print(\"Threshold:\",str(thres))\n",
    "print(\"-------------test set-------------\")\n",
    "nn.evaluate(testX,testY,thres)\n",
    "\n",
    "print(\"-------------train set-------------\")\n",
    "nn.evaluate(images,labels,thres)"
   ]
  },
  {
   "cell_type": "code",
   "execution_count": 413,
   "metadata": {},
   "outputs": [
    {
     "name": "stdout",
     "output_type": "stream",
     "text": [
      "Threshold: 0.3\n",
      "-------------test set-------------\n",
      " precision: 0.946 \n",
      " recall: 1.0 \n",
      " fl score: 0.972 \n",
      " accuracy: 0.969\n"
     ]
    },
    {
     "data": {
      "image/png": "[encoded data removed]",
      "text/plain": [
       "<Figure size 432x288 with 1 Axes>"
      ]
     },
     "metadata": {
      "needs_background": "light"
     },
     "output_type": "display_data"
    },
    {
     "name": "stdout",
     "output_type": "stream",
     "text": [
      "-------------train set-------------\n",
      " precision: 0.919 \n",
      " recall: 1.0 \n",
      " fl score: 0.957 \n",
      " accuracy: 0.953\n"
     ]
    },
    {
     "data": {
      "image/png": "[encoded data removed]",
      "text/plain": [
       "<Figure size 432x288 with 1 Axes>"
      ]
     },
     "metadata": {
      "needs_background": "light"
     },
     "output_type": "display_data"
    }
   ],
   "source": [
    "thres = 0.3\n",
    "print(\"Threshold:\",str(thres))\n",
    "print(\"-------------test set-------------\")\n",
    "nn.evaluate(testX,testY,thres)\n",
    "\n",
    "print(\"-------------train set-------------\")\n",
    "nn.evaluate(images,labels,thres)"
   ]
  },
  {
   "cell_type": "code",
   "execution_count": null,
   "metadata": {},
   "outputs": [],
   "source": []
  },
  {
   "cell_type": "code",
   "execution_count": 414,
   "metadata": {},
   "outputs": [],
   "source": [
    "(x_train_10, y_train_10), (x_test_10, y_test_10) = mnist.load_data()\n",
    "x_cross_10 = x_train_10[0:5000]\n",
    "y_cross_10 = y_train_10[0:5000]\n",
    "x_train_10 = x_train_10[5000:]\n",
    "y_train_10 = y_train_10[5000:]\n",
    "\n",
    "n_train_samples = x_train_10.shape[0]\n",
    "n_train_labels = y_train_10.shape[0]\n",
    "n_test_samples = x_test_10.shape[0]\n",
    "n_test_labels = y_test_10.shape[0]\n",
    "n_cross_samples = x_cross_10.shape[0]\n",
    "n_cross_labels = y_cross_10.shape[0]"
   ]
  },
  {
   "cell_type": "code",
   "execution_count": 415,
   "metadata": {},
   "outputs": [
    {
     "data": {
      "text/plain": [
       "((55000, 784), (55000, 1))"
      ]
     },
     "execution_count": 415,
     "metadata": {},
     "output_type": "execute_result"
    }
   ],
   "source": [
    "x_input = x_train_10.reshape(n_train_samples,28*28)/255\n",
    "y_output = y_train_10.reshape(n_train_labels,1)\n",
    "\n",
    "y_train_labels = np.zeros((n_train_labels,10))\n",
    "for i_row,j in enumerate(y_output):\n",
    "    y_train_labels[i_row][j]=1\n",
    "        \n",
    "x_input.shape,y_output.shape"
   ]
  },
  {
   "cell_type": "code",
   "execution_count": 416,
   "metadata": {},
   "outputs": [],
   "source": [
    "nn10 = NeuralNetwork(x_input,y_train_labels,[x_input.shape[1],12,10,10],n_iters=1001)"
   ]
  },
  {
   "cell_type": "code",
   "execution_count": 417,
   "metadata": {},
   "outputs": [
    {
     "name": "stdout",
     "output_type": "stream",
     "text": [
      "Starting Training\n",
      "iter: 0 cost: 3.7665664160837324 Accuracy: 0.08663636363636364\n",
      "----------------------------------------------------------------------\n",
      "iter: 100 cost: 3.0791235932200762 Accuracy: 0.10329090909090909\n",
      "----------------------------------------------------------------------\n",
      "iter: 200 cost: 2.7744632680824677 Accuracy: 0.11283636363636364\n",
      "----------------------------------------------------------------------\n",
      "iter: 300 cost: 2.4445422137396724 Accuracy: 0.1101090909090909\n",
      "----------------------------------------------------------------------\n",
      "iter: 400 cost: 1.983823696441548 Accuracy: 0.09365454545454545\n",
      "----------------------------------------------------------------------\n",
      "iter: 500 cost: 1.883525535274696 Accuracy: 0.09392727272727272\n",
      "----------------------------------------------------------------------\n",
      "iter: 600 cost: 1.8551669844050434 Accuracy: 0.09472727272727273\n",
      "----------------------------------------------------------------------\n",
      "iter: 700 cost: 1.843209353643 Accuracy: 0.09518181818181819\n",
      "----------------------------------------------------------------------\n",
      "iter: 800 cost: 1.8368617757237795 Accuracy: 0.09549090909090908\n",
      "----------------------------------------------------------------------\n",
      "iter: 900 cost: 1.833137878226639 Accuracy: 0.09563636363636363\n",
      "----------------------------------------------------------------------\n",
      "iter: 1000 cost: 1.8304833094017283 Accuracy: 0.0958\n",
      "----------------------------------------------------------------------\n",
      "Training Done.\n",
      "With \n",
      "Cost: 1.8304833094017283 Accuracy: 0.0958\n"
     ]
    }
   ],
   "source": [
    "nn10.train(True)"
   ]
  },
  {
   "cell_type": "code",
   "execution_count": 418,
   "metadata": {},
   "outputs": [
    {
     "data": {
      "image/png": "[encoded data removed]",
      "text/plain": [
       "<Figure size 432x288 with 1 Axes>"
      ]
     },
     "metadata": {
      "needs_background": "light"
     },
     "output_type": "display_data"
    }
   ],
   "source": [
    "nn10.plot_cost()"
   ]
  },
  {
   "cell_type": "code",
   "execution_count": 419,
   "metadata": {},
   "outputs": [],
   "source": [
    "x = nn10.predict(x_cross_10.reshape(n_cross_samples,28*28)/255,0.5)"
   ]
  },
  {
   "cell_type": "code",
   "execution_count": 420,
   "metadata": {},
   "outputs": [
    {
     "data": {
      "text/plain": [
       "(4, 3)"
      ]
     },
     "execution_count": 420,
     "metadata": {},
     "output_type": "execute_result"
    }
   ],
   "source": [
    "x[500],y_cross_10[500]"
   ]
  },
  {
   "cell_type": "code",
   "execution_count": null,
   "metadata": {},
   "outputs": [],
   "source": []
  }
 ],
 "metadata": {
  "kernelspec": {
   "display_name": "Python 3",
   "language": "python",
   "name": "python3"
  },
  "language_info": {
   "codemirror_mode": {
    "name": "ipython",
    "version": 3
   },
   "file_extension": ".py",
   "mimetype": "text/x-python",
   "name": "python",
   "nbconvert_exporter": "python",
   "pygments_lexer": "ipython3",
   "version": "3.7.6"
  }
 },
 "nbformat": 4,
 "nbformat_minor": 4
}
