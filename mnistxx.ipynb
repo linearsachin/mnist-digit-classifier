{
 "cells": [
  {
   "cell_type": "code",
   "execution_count": 1,
   "metadata": {},
   "outputs": [],
   "source": [
    "import pandas as pd\n",
    "import numpy as np\n",
    "import matplotlib.pyplot as plt\n",
    "import matplotlib.image as mpimg\n",
    "from PIL import Image\n",
    "\n",
    "\n",
    "%matplotlib inline\n"
   ]
  },
  {
   "cell_type": "code",
   "execution_count": 2,
   "metadata": {},
   "outputs": [],
   "source": [
    "def tanh(z):\n",
    "    return np.tanh(z)\n",
    "\n",
    "def sigmoid(z):\n",
    "    return 1 / (1+np.exp(-z))\n",
    "\n",
    "def sigmoid_deriv(z):# z --> sigmoid(Z)\n",
    "    return z * (1-z)\n",
    "\n",
    "def tanh_deriv(z): # z --> tanh(Z)\n",
    "    return 1 - (z)**2\n",
    "\n",
    "\n",
    "\n",
    "def relu(Z):\n",
    "    z_copy = np.array(Z,copy=True)\n",
    "    return np.maximum(0,z_copy)\n",
    "\n",
    "\n",
    "def relu_backward(dA, Z):\n",
    "    dZ = np.array(dA, copy = True)\n",
    "    dZ[Z <= 0] = 0;\n",
    "    return dZ;\n",
    "\n"
   ]
  },
  {
   "cell_type": "code",
   "execution_count": 3,
   "metadata": {},
   "outputs": [],
   "source": [
    "def random_weights_initialization(n_input,n_h1,n_h2,n_output):\n",
    "    W1 = np.random.randn(n_input,n_h1) \n",
    "    b1 = np.zeros((1,n_h1)) \n",
    "    W2 = np.random.randn(n_h1,n_h2)  \n",
    "    b2 = np.zeros((1,n_h2))\n",
    "    W3 = np.random.randn(n_h2,n_output) \n",
    "    b3 = np.zeros((1,n_output))\n",
    "    \n",
    "    params = {\n",
    "        \"W1\":W1,\n",
    "        \"W2\":W2,\n",
    "        \"W3\":W3,\n",
    "        \"b1\":b1,\n",
    "        \"b2\":b2,\n",
    "        \"b3\":b3,\n",
    "    }\n",
    "    return params"
   ]
  },
  {
   "cell_type": "code",
   "execution_count": 4,
   "metadata": {},
   "outputs": [],
   "source": [
    "def forward_prop(input_X,parameters):\n",
    "    W1 = parameters[\"W1\"]\n",
    "    b1 = parameters[\"b1\"]\n",
    "    W2 = parameters[\"W2\"]\n",
    "    b2 = parameters[\"b2\"]\n",
    "    W3 = parameters[\"W3\"]\n",
    "    b3 = parameters[\"b3\"]\n",
    "    \n",
    "    \n",
    "    layer_0  = input_X\n",
    "    Z1 = np.dot(layer_0,W1) + b1\n",
    "    A1 = relu(Z1)               # layer_0(input) --> Z1 --> A1 = tanh(Z1) (layer_1)\n",
    "    \n",
    "    Z2 = np.dot(A1,W2) + b2\n",
    "    A2 = relu(Z2) # layer_1(hidden layer 1) --> Z2 --> A2 = tanh(Z1) (layer_2)\n",
    "    \n",
    "    Z3 = np.dot(A2,W3) + b3\n",
    "    A3 = sigmoid(Z3)            # layer_2(hidden layer 2) --> Z3 --> A3 = sigmoid(Z1) (output layer)\n",
    " \n",
    "    cache = {\n",
    "        \"A1\":A1,\n",
    "        \"A2\":A2,\n",
    "        \"A3\":A3,\n",
    "        \"Z1\":Z1,\n",
    "        \"Z2\":Z2,\n",
    "        \"Z3\":Z3,\n",
    "        \"b1\":b1,\n",
    "        \"b2\":b2,\n",
    "        \"b3\":b3,\n",
    "        \"X\":input_X,\n",
    "    }\n",
    "    return A3,cache"
   ]
  },
  {
   "cell_type": "code",
   "execution_count": 5,
   "metadata": {},
   "outputs": [],
   "source": [
    "def compute_cost(pred_output,actual_output,parameters,lamdba):\n",
    "    W1 = parameters[\"W1\"]\n",
    "    W2 = parameters[\"W2\"]\n",
    "    W3 = parameters[\"W3\"]\n",
    "    \n",
    "\n",
    "    \n",
    "    A = pred_output\n",
    "    y =actual_output\n",
    "    m = y.shape[0]\n",
    "    norm=0\n",
    "    for i in range(1,3):\n",
    "        norm = np.linalg.norm(parameters[\"W\"+str(i)])\n",
    "        \n",
    "    cost_ =  (1./m)* np.sum((A-y)**2) + (lamdba * norm)/(2*m)\n",
    "    return np.squeeze(cost_)\n",
    "\n",
    "\n",
    "def get_accuracy_value(Y_hat, Y):\n",
    "    testing = Y_hat.copy()\n",
    "    testing[Y_hat>0.5]= 1 \n",
    "    testing[Y_hat <= 0.5]=0\n",
    "    return (testing == Y).all(axis=1).mean()"
   ]
  },
  {
   "cell_type": "code",
   "execution_count": 6,
   "metadata": {},
   "outputs": [],
   "source": [
    "def backward_prop(Y,cache,parameters):\n",
    "    \n",
    "\n",
    "    A1 = cache[\"A1\"]\n",
    "    A2 = cache[\"A2\"]\n",
    "    A3 = cache[\"A3\"]\n",
    "    X = cache[\"X\"]\n",
    "    \n",
    "    Z1 = cache[\"Z1\"]\n",
    "    Z2 = cache[\"Z2\"]\n",
    "    Z3 = cache[\"Z3\"]\n",
    "    \n",
    "    W1 = parameters[\"W1\"]\n",
    "    W2 = parameters[\"W2\"]\n",
    "    W3 = parameters[\"W3\"]\n",
    "    b1 = parameters[\"b1\"]\n",
    "    b2 = parameters[\"b2\"]\n",
    "    b3 = parameters[\"b3\"]\n",
    "    \n",
    "    \n",
    "    \n",
    "    AL = A3\n",
    "    \n",
    "    m = Y.shape[0]\n",
    "    delta3  = 2*(AL - Y) * sigmoid_deriv(A3)\n",
    "\n",
    "    \n",
    "    dW3 = np.dot(A2.T,delta3)/ m \n",
    "    db3 =np.sum(delta3,axis=0,keepdims=True)/ m \n",
    "    delta2 =relu_backward(np.dot(delta3,W3.T),Z2)\n",
    "    \n",
    "    \n",
    "    dW2 = np.dot(A1.T,delta2) / m\n",
    "    db2 = np.sum(delta2,axis=0,keepdims=True)/ m\n",
    "    delta1 = relu_backward(np.dot(delta2,W2.T) ,Z1)\n",
    "    \n",
    "    \n",
    "    dW1 = np.dot(X.T,delta1) / m\n",
    "    db1 = np.sum(delta1, axis=0,keepdims=True) / m\n",
    "\n",
    "    assert (W3.shape == dW3.shape)\n",
    "    assert (W2.shape == dW2.shape)\n",
    "    assert (W1.shape == dW1.shape)\n",
    "    assert (b3.shape == db3.shape)\n",
    "    assert (b2.shape == db2.shape)\n",
    "    assert (b1.shape == db1.shape)\n",
    "    \n",
    "    \n",
    "    backward_cache = {\n",
    "        \"dW3\":dW3,\n",
    "        \"db3\":db3,\n",
    "        \"dW2\":dW2,\n",
    "        \"db2\":db2,\n",
    "        \"dW1\":dW1,\n",
    "        \"db1\":db1,\n",
    "\n",
    "    }\n",
    "    return backward_cache"
   ]
  },
  {
   "cell_type": "code",
   "execution_count": 7,
   "metadata": {},
   "outputs": [],
   "source": [
    "def update_params(params,backward_cache,learning_rate,lamdba,m):\n",
    "    W1 = params[\"W1\"]\n",
    "    W2 = params[\"W2\"]\n",
    "    W3 = params[\"W3\"]\n",
    "    b1 = params[\"b1\"]\n",
    "    b2 = params[\"b2\"]\n",
    "    b3 = params[\"b3\"]\n",
    "    \n",
    "    dW3 = backward_cache[\"dW3\"]\n",
    "    db3 = backward_cache[\"db3\"]\n",
    "    dW2 = backward_cache[\"dW2\"]\n",
    "    db2 = backward_cache[\"db2\"]\n",
    "    dW1 = backward_cache[\"dW1\"]\n",
    "    db1 = backward_cache[\"db1\"]\n",
    "    \n",
    "    ferb = (learning_rate * lamdba)/m\n",
    "\n",
    "    W1 = (1-ferb)*W1 - (learning_rate *  dW1)\n",
    "    W2 = (1-ferb)*W2 - (learning_rate *  dW2)\n",
    "    W3 = (1-ferb)*W3 - (learning_rate *  dW3)\n",
    "    b1 = b1 - (learning_rate *  db1)\n",
    "    b2 = b2 - (learning_rate *  db2)\n",
    "    b3 = b3 - (learning_rate *  db3)\n",
    "\n",
    "    params = {\n",
    "    \"W1\":W1,\n",
    "    \"W2\":W2,\n",
    "    \"W3\":W3,\n",
    "    \"b1\":b1,\n",
    "    \"b2\":b2,\n",
    "    \"b3\":b3,\n",
    "    }\n",
    "    return params\n"
   ]
  },
  {
   "cell_type": "code",
   "execution_count": 8,
   "metadata": {},
   "outputs": [],
   "source": [
    "def train(X,Y,n_hidden_neuron_1,n_hidden_neuron_2,n_iters=2000,alpha = 0.01,lambda_=10):\n",
    "    n_input = X.shape[1] # input layer --> no. of features\n",
    "    n_h1 = n_hidden_neuron_1 # hidden layer 1 --> no. of hidden layer 1 neurons\n",
    "    n_h2 = n_hidden_neuron_2 # hidden layer 2 --> no. of hidden layer 2 neurons\n",
    "    n_output = Y.shape[1] # output layer --> no. of outputs\n",
    "    m = X.shape[0] # no. of samples\n",
    "    \n",
    "    params  = random_weights_initialization(n_input,n_h1,n_h2,n_output)\n",
    "    J_cost =[]\n",
    "    for i in range(n_iters):\n",
    "        \n",
    "        A3,cache = forward_prop(X,params)\n",
    "        J = compute_cost(A3,Y,params,lambda_)\n",
    "        J_cost.append(J)\n",
    "        if (i%50 == 0):\n",
    "            print(\"iter:\",str(i),\"cost:\",str(J),\"Accuracy:\",str(get_accuracy_value(A3,Y)))\n",
    "            print(\"----------------------------------------------------------------------\")\n",
    "          \n",
    "        back_cache = backward_prop(Y,cache,params)\n",
    "\n",
    "        params  = update_params(params,back_cache,alpha,lambda_,X.shape[0])\n",
    "        \n",
    "\n",
    "    return params,J_cost"
   ]
  },
  {
   "cell_type": "code",
   "execution_count": 9,
   "metadata": {},
   "outputs": [],
   "source": [
    "def predict(input_X, parameters,threshold):\n",
    "    W1 = parameters[\"W1\"]\n",
    "    b1 = parameters[\"b1\"]\n",
    "    W2 = parameters[\"W2\"]\n",
    "    b2 = parameters[\"b2\"]\n",
    "    W3 = parameters[\"W3\"]\n",
    "    b3 = parameters[\"b3\"]\n",
    "    \n",
    "    \n",
    "    layer_0  = input_X\n",
    "    Z1 = np.dot(layer_0,W1) + b1\n",
    "    A1 = relu(Z1)               # layer_0(input) --> Z1 --> A1 = tanh(Z1) (layer_1)\n",
    "    \n",
    "    Z2 = np.dot(A1,W2) + b2\n",
    "    A2 = relu(Z2)               # layer_1(hidden layer 1) --> Z2 --> A2 = tanh(Z1) (layer_2)\n",
    "    \n",
    "    Z3 = np.dot(A2,W3) + b3\n",
    "    A3 = sigmoid(Z3)     # layer_2(hidden layer 2) --> Z3 --> A3 = sigmoid(Z1) (output layer)\n",
    "    \n",
    "    output = np.array(A3,copy=True)\n",
    "    output[output > threshold] = 1\n",
    "    output[output <= threshold] = 0    \n",
    "\n",
    "    return output\n",
    "    "
   ]
  },
  {
   "cell_type": "code",
   "execution_count": 10,
   "metadata": {},
   "outputs": [
    {
     "name": "stderr",
     "output_type": "stream",
     "text": [
      "Using TensorFlow backend.\n",
      "C:\\Users\\sachi\\anaconda3\\lib\\site-packages\\tensorflow\\python\\framework\\dtypes.py:516: FutureWarning: Passing (type, 1) or '1type' as a synonym of type is deprecated; in a future version of numpy, it will be understood as (type, (1,)) / '(1,)type'.\n",
      "  _np_qint8 = np.dtype([(\"qint8\", np.int8, 1)])\n",
      "C:\\Users\\sachi\\anaconda3\\lib\\site-packages\\tensorflow\\python\\framework\\dtypes.py:517: FutureWarning: Passing (type, 1) or '1type' as a synonym of type is deprecated; in a future version of numpy, it will be understood as (type, (1,)) / '(1,)type'.\n",
      "  _np_quint8 = np.dtype([(\"quint8\", np.uint8, 1)])\n",
      "C:\\Users\\sachi\\anaconda3\\lib\\site-packages\\tensorflow\\python\\framework\\dtypes.py:518: FutureWarning: Passing (type, 1) or '1type' as a synonym of type is deprecated; in a future version of numpy, it will be understood as (type, (1,)) / '(1,)type'.\n",
      "  _np_qint16 = np.dtype([(\"qint16\", np.int16, 1)])\n",
      "C:\\Users\\sachi\\anaconda3\\lib\\site-packages\\tensorflow\\python\\framework\\dtypes.py:519: FutureWarning: Passing (type, 1) or '1type' as a synonym of type is deprecated; in a future version of numpy, it will be understood as (type, (1,)) / '(1,)type'.\n",
      "  _np_quint16 = np.dtype([(\"quint16\", np.uint16, 1)])\n",
      "C:\\Users\\sachi\\anaconda3\\lib\\site-packages\\tensorflow\\python\\framework\\dtypes.py:520: FutureWarning: Passing (type, 1) or '1type' as a synonym of type is deprecated; in a future version of numpy, it will be understood as (type, (1,)) / '(1,)type'.\n",
      "  _np_qint32 = np.dtype([(\"qint32\", np.int32, 1)])\n",
      "C:\\Users\\sachi\\anaconda3\\lib\\site-packages\\tensorflow\\python\\framework\\dtypes.py:525: FutureWarning: Passing (type, 1) or '1type' as a synonym of type is deprecated; in a future version of numpy, it will be understood as (type, (1,)) / '(1,)type'.\n",
      "  np_resource = np.dtype([(\"resource\", np.ubyte, 1)])\n",
      "C:\\Users\\sachi\\anaconda3\\lib\\site-packages\\tensorboard\\compat\\tensorflow_stub\\dtypes.py:541: FutureWarning: Passing (type, 1) or '1type' as a synonym of type is deprecated; in a future version of numpy, it will be understood as (type, (1,)) / '(1,)type'.\n",
      "  _np_qint8 = np.dtype([(\"qint8\", np.int8, 1)])\n",
      "C:\\Users\\sachi\\anaconda3\\lib\\site-packages\\tensorboard\\compat\\tensorflow_stub\\dtypes.py:542: FutureWarning: Passing (type, 1) or '1type' as a synonym of type is deprecated; in a future version of numpy, it will be understood as (type, (1,)) / '(1,)type'.\n",
      "  _np_quint8 = np.dtype([(\"quint8\", np.uint8, 1)])\n",
      "C:\\Users\\sachi\\anaconda3\\lib\\site-packages\\tensorboard\\compat\\tensorflow_stub\\dtypes.py:543: FutureWarning: Passing (type, 1) or '1type' as a synonym of type is deprecated; in a future version of numpy, it will be understood as (type, (1,)) / '(1,)type'.\n",
      "  _np_qint16 = np.dtype([(\"qint16\", np.int16, 1)])\n",
      "C:\\Users\\sachi\\anaconda3\\lib\\site-packages\\tensorboard\\compat\\tensorflow_stub\\dtypes.py:544: FutureWarning: Passing (type, 1) or '1type' as a synonym of type is deprecated; in a future version of numpy, it will be understood as (type, (1,)) / '(1,)type'.\n",
      "  _np_quint16 = np.dtype([(\"quint16\", np.uint16, 1)])\n",
      "C:\\Users\\sachi\\anaconda3\\lib\\site-packages\\tensorboard\\compat\\tensorflow_stub\\dtypes.py:545: FutureWarning: Passing (type, 1) or '1type' as a synonym of type is deprecated; in a future version of numpy, it will be understood as (type, (1,)) / '(1,)type'.\n",
      "  _np_qint32 = np.dtype([(\"qint32\", np.int32, 1)])\n",
      "C:\\Users\\sachi\\anaconda3\\lib\\site-packages\\tensorboard\\compat\\tensorflow_stub\\dtypes.py:550: FutureWarning: Passing (type, 1) or '1type' as a synonym of type is deprecated; in a future version of numpy, it will be understood as (type, (1,)) / '(1,)type'.\n",
      "  np_resource = np.dtype([(\"resource\", np.ubyte, 1)])\n"
     ]
    }
   ],
   "source": [
    "import sys, numpy as np \n",
    "from keras.datasets import mnist\n",
    "(x_train, y_train), (x_test, y_test) = mnist.load_data()\n"
   ]
  },
  {
   "cell_type": "markdown",
   "metadata": {},
   "source": [
    "Getting the Data for 1 and 0 to classify:"
   ]
  },
  {
   "cell_type": "code",
   "execution_count": 11,
   "metadata": {},
   "outputs": [
    {
     "name": "stdout",
     "output_type": "stream",
     "text": [
      "[ 6103 33086 12930 ... 42276 14897 47055]\n"
     ]
    }
   ],
   "source": [
    "y_1_train = np.where(y_train == 1)\n",
    "y_0_train = np.where(y_train == 0)\n",
    "index_train =np.append(y_1_train[0],y_0_train[0])\n",
    "np.random.shuffle(index_train)\n",
    "\n",
    "y_1_test = np.where(y_test == 1)\n",
    "y_0_test = np.where(y_test == 0)\n",
    "index_test =np.append(y_1_test[0],y_0_test[0])\n",
    "np.random.shuffle(index_test)\n",
    "\n",
    "\n",
    "# index\n",
    "x_train= x_train[(index_train)]\n",
    "y_train= y_train[(index_train)]\n",
    "x_test= x_test[(index_test)]\n",
    "y_test= y_test[(index_test)]\n",
    "\n",
    "print(index_train)\n"
   ]
  },
  {
   "cell_type": "code",
   "execution_count": 12,
   "metadata": {},
   "outputs": [
    {
     "data": {
      "text/plain": [
       "1"
      ]
     },
     "execution_count": 12,
     "metadata": {},
     "output_type": "execute_result"
    },
    {
     "data": {
      "image/png": "[encoded data removed]",
      "text/plain": [
       "<Figure size 432x288 with 1 Axes>"
      ]
     },
     "metadata": {
      "needs_background": "light"
     },
     "output_type": "display_data"
    }
   ],
   "source": [
    "n_samples_train = 12000\n",
    "i = np.random.randint(0, n_samples_train)\n",
    "img = Image.fromarray(x_train[i])\n",
    "plt.imshow(img)\n",
    "\n",
    "y_train[i]"
   ]
  },
  {
   "cell_type": "code",
   "execution_count": 13,
   "metadata": {},
   "outputs": [],
   "source": [
    "images, labels = (x_train[0:n_samples_train].reshape(n_samples_train,28*28) /255, y_train[0:n_samples_train].reshape(n_samples_train,1)) \n",
    "df = pd.DataFrame(images)\n"
   ]
  },
  {
   "cell_type": "code",
   "execution_count": 14,
   "metadata": {
    "scrolled": false
   },
   "outputs": [
    {
     "name": "stdout",
     "output_type": "stream",
     "text": [
      "iter: 0 cost: 0.47624558343366175 Accuracy: 0.47858333333333336\n",
      "----------------------------------------------------------------------\n",
      "iter: 50 cost: 0.46324201955621735 Accuracy: 0.5211666666666667\n",
      "----------------------------------------------------------------------\n",
      "iter: 100 cost: 0.4511892444357986 Accuracy: 0.5281666666666667\n",
      "----------------------------------------------------------------------\n",
      "iter: 150 cost: 0.43923501752387345 Accuracy: 0.5333333333333333\n",
      "----------------------------------------------------------------------\n",
      "iter: 200 cost: 0.42655336843182656 Accuracy: 0.53875\n",
      "----------------------------------------------------------------------\n",
      "iter: 250 cost: 0.4120468700740252 Accuracy: 0.5431666666666667\n",
      "----------------------------------------------------------------------\n",
      "iter: 300 cost: 0.3940568864296847 Accuracy: 0.5485\n",
      "----------------------------------------------------------------------\n",
      "iter: 350 cost: 0.3686391429239411 Accuracy: 0.55675\n",
      "----------------------------------------------------------------------\n",
      "iter: 400 cost: 0.32593695797191585 Accuracy: 0.5664166666666667\n",
      "----------------------------------------------------------------------\n",
      "iter: 450 cost: 0.26195507280810004 Accuracy: 0.58075\n",
      "----------------------------------------------------------------------\n",
      "iter: 500 cost: 0.2058908912335777 Accuracy: 0.7184166666666667\n",
      "----------------------------------------------------------------------\n",
      "iter: 550 cost: 0.1768012615045617 Accuracy: 0.75325\n",
      "----------------------------------------------------------------------\n",
      "iter: 600 cost: 0.16180339013246645 Accuracy: 0.7816666666666666\n",
      "----------------------------------------------------------------------\n",
      "iter: 650 cost: 0.151944275921079 Accuracy: 0.8028333333333333\n",
      "----------------------------------------------------------------------\n",
      "iter: 700 cost: 0.1443045669339424 Accuracy: 0.8433333333333334\n",
      "----------------------------------------------------------------------\n",
      "iter: 750 cost: 0.13780503240126776 Accuracy: 0.88425\n",
      "----------------------------------------------------------------------\n",
      "iter: 800 cost: 0.13201174349816805 Accuracy: 0.8946666666666667\n",
      "----------------------------------------------------------------------\n",
      "iter: 850 cost: 0.12651422069966872 Accuracy: 0.8990833333333333\n",
      "----------------------------------------------------------------------\n",
      "iter: 900 cost: 0.12129069294475328 Accuracy: 0.90375\n",
      "----------------------------------------------------------------------\n",
      "iter: 950 cost: 0.11616048269015539 Accuracy: 0.9061666666666667\n",
      "----------------------------------------------------------------------\n",
      "iter: 1000 cost: 0.11146213460356892 Accuracy: 0.9099166666666667\n",
      "----------------------------------------------------------------------\n",
      "iter: 1050 cost: 0.10708090319826294 Accuracy: 0.9144166666666667\n",
      "----------------------------------------------------------------------\n",
      "iter: 1100 cost: 0.10288845708952184 Accuracy: 0.9175833333333333\n",
      "----------------------------------------------------------------------\n",
      "iter: 1150 cost: 0.09884859487286297 Accuracy: 0.9200833333333334\n",
      "----------------------------------------------------------------------\n",
      "iter: 1200 cost: 0.09504490347546303 Accuracy: 0.92175\n",
      "----------------------------------------------------------------------\n",
      "iter: 1250 cost: 0.09134827831656425 Accuracy: 0.92375\n",
      "----------------------------------------------------------------------\n",
      "iter: 1300 cost: 0.08775464295076874 Accuracy: 0.9264166666666667\n",
      "----------------------------------------------------------------------\n",
      "iter: 1350 cost: 0.08410397748096426 Accuracy: 0.9284166666666667\n",
      "----------------------------------------------------------------------\n",
      "iter: 1400 cost: 0.08052442902320493 Accuracy: 0.9299166666666666\n",
      "----------------------------------------------------------------------\n",
      "iter: 1450 cost: 0.07699105831276962 Accuracy: 0.932\n",
      "----------------------------------------------------------------------\n",
      "iter: 1500 cost: 0.07354984870216381 Accuracy: 0.9346666666666666\n",
      "----------------------------------------------------------------------\n",
      "iter: 1550 cost: 0.07017342017971581 Accuracy: 0.9369166666666666\n",
      "----------------------------------------------------------------------\n",
      "iter: 1600 cost: 0.06700471195722874 Accuracy: 0.9385833333333333\n",
      "----------------------------------------------------------------------\n",
      "iter: 1650 cost: 0.06406427353668696 Accuracy: 0.94\n",
      "----------------------------------------------------------------------\n",
      "iter: 1700 cost: 0.06129547486148864 Accuracy: 0.9416666666666667\n",
      "----------------------------------------------------------------------\n",
      "iter: 1750 cost: 0.058691368837613715 Accuracy: 0.9436666666666667\n",
      "----------------------------------------------------------------------\n",
      "iter: 1800 cost: 0.0561773984849367 Accuracy: 0.9445\n",
      "----------------------------------------------------------------------\n",
      "iter: 1850 cost: 0.05380697791962273 Accuracy: 0.9456666666666667\n",
      "----------------------------------------------------------------------\n",
      "iter: 1900 cost: 0.0516339222265837 Accuracy: 0.9475\n",
      "----------------------------------------------------------------------\n",
      "iter: 1950 cost: 0.04959834840853818 Accuracy: 0.94875\n",
      "----------------------------------------------------------------------\n",
      "iter: 2000 cost: 0.04771644525510001 Accuracy: 0.9505833333333333\n",
      "----------------------------------------------------------------------\n",
      "iter: 2050 cost: 0.04594557909706716 Accuracy: 0.9524166666666667\n",
      "----------------------------------------------------------------------\n",
      "iter: 2100 cost: 0.044265241911264276 Accuracy: 0.9531666666666667\n",
      "----------------------------------------------------------------------\n",
      "iter: 2150 cost: 0.042732370348521585 Accuracy: 0.9544166666666667\n",
      "----------------------------------------------------------------------\n",
      "iter: 2200 cost: 0.04134646845033274 Accuracy: 0.95575\n",
      "----------------------------------------------------------------------\n",
      "iter: 2250 cost: 0.04005531143754467 Accuracy: 0.9568333333333333\n",
      "----------------------------------------------------------------------\n",
      "iter: 2300 cost: 0.03887438909413133 Accuracy: 0.9585833333333333\n",
      "----------------------------------------------------------------------\n",
      "iter: 2350 cost: 0.03779462900981029 Accuracy: 0.9596666666666667\n",
      "----------------------------------------------------------------------\n",
      "iter: 2400 cost: 0.03678455034256668 Accuracy: 0.9604166666666667\n",
      "----------------------------------------------------------------------\n",
      "iter: 2450 cost: 0.03583668837369585 Accuracy: 0.96125\n",
      "----------------------------------------------------------------------\n",
      "iter: 2500 cost: 0.03495767651887627 Accuracy: 0.9616666666666667\n",
      "----------------------------------------------------------------------\n",
      "iter: 2550 cost: 0.03414124713523167 Accuracy: 0.9626666666666667\n",
      "----------------------------------------------------------------------\n",
      "iter: 2600 cost: 0.03338712157414206 Accuracy: 0.9635\n",
      "----------------------------------------------------------------------\n",
      "iter: 2650 cost: 0.03267080345739872 Accuracy: 0.9641666666666666\n",
      "----------------------------------------------------------------------\n",
      "iter: 2700 cost: 0.031994796703505114 Accuracy: 0.9649166666666666\n",
      "----------------------------------------------------------------------\n",
      "iter: 2750 cost: 0.031358769695856485 Accuracy: 0.9655833333333333\n",
      "----------------------------------------------------------------------\n",
      "iter: 2800 cost: 0.030749154749625546 Accuracy: 0.9660833333333333\n",
      "----------------------------------------------------------------------\n",
      "iter: 2850 cost: 0.03016697343797678 Accuracy: 0.967\n",
      "----------------------------------------------------------------------\n",
      "iter: 2900 cost: 0.02960836779514053 Accuracy: 0.9676666666666667\n",
      "----------------------------------------------------------------------\n",
      "iter: 2950 cost: 0.0290758302228924 Accuracy: 0.9681666666666666\n",
      "----------------------------------------------------------------------\n",
      "iter: 3000 cost: 0.028565200159030708 Accuracy: 0.9686666666666667\n",
      "----------------------------------------------------------------------\n"
     ]
    }
   ],
   "source": [
    "params_ , cost_ = train(images,labels,6,4,n_iters=3001,alpha =  0.01,lambda_=10,)\n"
   ]
  },
  {
   "cell_type": "code",
   "execution_count": 15,
   "metadata": {},
   "outputs": [
    {
     "data": {
      "image/png": "[encoded data removed]",
      "text/plain": [
       "<Figure size 432x288 with 1 Axes>"
      ]
     },
     "metadata": {
      "needs_background": "light"
     },
     "output_type": "display_data"
    }
   ],
   "source": [
    "plt.plot(np.arange(len(cost_)),cost_)\n",
    "plt.xlabel(\"Iterations\")\n",
    "plt.ylabel(\"Cost\")\n",
    "plt.show()"
   ]
  },
  {
   "cell_type": "markdown",
   "metadata": {},
   "source": [
    "Testing the Trained Neural Network"
   ]
  },
  {
   "cell_type": "code",
   "execution_count": 18,
   "metadata": {},
   "outputs": [],
   "source": [
    "from sklearn.metrics import confusion_matrix, classification_report\n",
    "from sklearn.metrics import precision_score, recall_score ,f1_score\n",
    "def evaluate(input_X,output_y,parameters,threshold=0.5):\n",
    "    predictions = predict(input_X, parameters,threshold)\n",
    "    print( \" precision:\" , str(precision_score(output_y,predictions))[:5],\"\\n\",\n",
    "    \"recall:\",str(recall_score(output_y,predictions))[:5],\"\\n\",\n",
    "    \"fl score:\",str(f1_score(output_y,predictions))[:5],\"\\n\",\n",
    "    \"accuracy:\",str((predictions == output_y).all(axis=1).mean())[:5])\n",
    "    results = confusion_matrix(output_y,predictions)\n",
    "    fig, ax = plt.subplots()\n",
    "    ax.matshow(results)\n",
    "    for (i, j), z in np.ndenumerate(results):\n",
    "        ax.text(j, i, '{:0.1f}'.format(z), ha='center', va='center',\n",
    "                bbox=dict(boxstyle='round', facecolor='white', edgecolor='0.3'))\n",
    "    plt.show()"
   ]
  },
  {
   "cell_type": "code",
   "execution_count": 19,
   "metadata": {},
   "outputs": [],
   "source": [
    "n_test_samples = x_test.shape[0]\n",
    "testX = x_test.reshape(n_test_samples,28*28)/255\n",
    "testY = y_test.reshape(n_test_samples,1)"
   ]
  },
  {
   "cell_type": "code",
   "execution_count": 20,
   "metadata": {},
   "outputs": [
    {
     "name": "stdout",
     "output_type": "stream",
     "text": [
      "Threshold: 0.5\n",
      "-------------test set-------------\n",
      " precision: 0.965 \n",
      " recall: 0.967 \n",
      " fl score: 0.966 \n",
      " accuracy: 0.964\n"
     ]
    },
    {
     "data": {
      "image/png": "[encoded data removed]",
      "text/plain": [
       "<Figure size 432x288 with 1 Axes>"
      ]
     },
     "metadata": {
      "needs_background": "light"
     },
     "output_type": "display_data"
    },
    {
     "name": "stdout",
     "output_type": "stream",
     "text": [
      "-------------train set-------------\n",
      " precision: 0.972 \n",
      " recall: 0.968 \n",
      " fl score: 0.970 \n",
      " accuracy: 0.968\n"
     ]
    },
    {
     "data": {
      "image/png": "[encoded data removed]",
      "text/plain": [
       "<Figure size 432x288 with 1 Axes>"
      ]
     },
     "metadata": {
      "needs_background": "light"
     },
     "output_type": "display_data"
    }
   ],
   "source": [
    "thres = 0.5\n",
    "print(\"Threshold:\",str(thres))\n",
    "print(\"-------------test set-------------\")\n",
    "evaluate(testX,testY,params_,thres)\n",
    "\n",
    "print(\"-------------train set-------------\")\n",
    "evaluate(images,labels,params_,thres)\n"
   ]
  },
  {
   "cell_type": "code",
   "execution_count": 21,
   "metadata": {},
   "outputs": [
    {
     "name": "stdout",
     "output_type": "stream",
     "text": [
      "Threshold: 0.8\n",
      "-------------test set-------------\n",
      " precision: 0.977 \n",
      " recall: 0.939 \n",
      " fl score: 0.957 \n",
      " accuracy: 0.955\n"
     ]
    },
    {
     "data": {
      "image/png": "[encoded data removed]",
      "text/plain": [
       "<Figure size 432x288 with 1 Axes>"
      ]
     },
     "metadata": {
      "needs_background": "light"
     },
     "output_type": "display_data"
    },
    {
     "name": "stdout",
     "output_type": "stream",
     "text": [
      "-------------train set-------------\n",
      " precision: 0.979 \n",
      " recall: 0.936 \n",
      " fl score: 0.957 \n",
      " accuracy: 0.956\n"
     ]
    },
    {
     "data": {
      "image/png": "[encoded data removed]",
      "text/plain": [
       "<Figure size 432x288 with 1 Axes>"
      ]
     },
     "metadata": {
      "needs_background": "light"
     },
     "output_type": "display_data"
    }
   ],
   "source": [
    "thres = 0.8\n",
    "print(\"Threshold:\",str(thres))\n",
    "print(\"-------------test set-------------\")\n",
    "evaluate(testX,testY,params_,thres)\n",
    "\n",
    "print(\"-------------train set-------------\")\n",
    "evaluate(images,labels,params_,thres)"
   ]
  },
  {
   "cell_type": "code",
   "execution_count": 22,
   "metadata": {},
   "outputs": [
    {
     "name": "stdout",
     "output_type": "stream",
     "text": [
      "Threshold: 0.3\n",
      "-------------test set-------------\n",
      " precision: 0.954 \n",
      " recall: 0.985 \n",
      " fl score: 0.970 \n",
      " accuracy: 0.967\n"
     ]
    },
    {
     "data": {
      "image/png": "[encoded data removed]",
      "text/plain": [
       "<Figure size 432x288 with 1 Axes>"
      ]
     },
     "metadata": {
      "needs_background": "light"
     },
     "output_type": "display_data"
    },
    {
     "name": "stdout",
     "output_type": "stream",
     "text": [
      "-------------train set-------------\n",
      " precision: 0.952 \n",
      " recall: 0.983 \n",
      " fl score: 0.967 \n",
      " accuracy: 0.965\n"
     ]
    },
    {
     "data": {
      "image/png": "[encoded data removed]",
      "text/plain": [
       "<Figure size 432x288 with 1 Axes>"
      ]
     },
     "metadata": {
      "needs_background": "light"
     },
     "output_type": "display_data"
    }
   ],
   "source": [
    "thres = 0.3\n",
    "print(\"Threshold:\",str(thres))\n",
    "print(\"-------------test set-------------\")\n",
    "evaluate(testX,testY,params_,thres)\n",
    "\n",
    "print(\"-------------train set-------------\")\n",
    "evaluate(images,labels,params_,thres)"
   ]
  },
  {
   "cell_type": "code",
   "execution_count": null,
   "metadata": {},
   "outputs": [],
   "source": []
  }
 ],
 "metadata": {
  "kernelspec": {
   "display_name": "Python 3",
   "language": "python",
   "name": "python3"
  },
  "language_info": {
   "codemirror_mode": {
    "name": "ipython",
    "version": 3
   },
   "file_extension": ".py",
   "mimetype": "text/x-python",
   "name": "python",
   "nbconvert_exporter": "python",
   "pygments_lexer": "ipython3",
   "version": "3.7.6"
  }
 },
 "nbformat": 4,
 "nbformat_minor": 4
}
