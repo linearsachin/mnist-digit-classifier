{
 "cells": [
  {
   "cell_type": "code",
   "execution_count": 1,
   "metadata": {},
   "outputs": [],
   "source": [
    "import pandas as pd\n",
    "import numpy as np\n",
    "import matplotlib.pyplot as plt\n",
    "import matplotlib.image as mpimg\n",
    "from PIL import Image\n",
    "\n",
    "\n",
    "%matplotlib inline\n"
   ]
  },
  {
   "cell_type": "code",
   "execution_count": 2,
   "metadata": {},
   "outputs": [],
   "source": [
    "def tanh(z):\n",
    "    return np.tanh(z)\n",
    "\n",
    "def sigmoid(z):\n",
    "    return 1 / (1+np.exp(-z))\n",
    "\n",
    "def sigmoid_deriv(z):# z --> sigmoid(Z)\n",
    "    return z * (1-z)\n",
    "\n",
    "def tanh_deriv(z): # z --> tanh(Z)\n",
    "    return 1 - (z)**2\n",
    "\n",
    "\n",
    "\n",
    "def relu(Z):\n",
    "    z_copy = np.array(Z,copy=True)\n",
    "    return np.maximum(0,z_copy)\n",
    "\n",
    "\n",
    "def relu_backward(dA, Z):\n",
    "    dZ = np.array(dA, copy = True)\n",
    "    dZ[Z <= 0] = 0;\n",
    "    return dZ;\n",
    "\n"
   ]
  },
  {
   "cell_type": "code",
   "execution_count": 3,
   "metadata": {},
   "outputs": [],
   "source": [
    "def random_weights_initialization(n_layers):\n",
    "    params = {}\n",
    "    \n",
    "    # n_layers --> (len-1) is no of layers and elements of list are no of neurons in (index+1)th layer\n",
    "    \n",
    "    for i in range(1,len(n_layers)):\n",
    "        params[\"W\"+str(i)] = np.random.randn(n_layers[i-1],n_layers[i]) \n",
    "        params[\"b\"+str(i)] = b3 = np.zeros((1,n_layers[i]))\n",
    "        \n",
    "    return params"
   ]
  },
  {
   "cell_type": "code",
   "execution_count": 4,
   "metadata": {},
   "outputs": [],
   "source": [
    "def forward_prop(input_X,parameters):   \n",
    "    cache = {\n",
    "        \"A0\":input_X\n",
    "    }\n",
    "    last_index = int(len(parameters)/2)\n",
    "    for i in range(1,last_index):\n",
    "        cache[\"Z\"+str(i)] = np.dot(cache[\"A\"+str(i-1)],parameters[\"W\"+str(i)]) + parameters[\"b\"+str(i)]\n",
    "        cache[\"A\"+str(i)] = relu(cache[\"Z\"+str(i)])\n",
    "        \n",
    "    cache[\"Z\"+str(last_index)] = np.dot(cache[\"A\"+str(last_index-1)],\n",
    "                                        parameters[\"W\"+str(last_index)])  + parameters[\"b\"+str(last_index)]\n",
    "    cache[\"A\"+str(last_index)] = sigmoid(cache[\"Z\"+str(last_index)])\n",
    "\n",
    "    return cache[\"A\"+str(last_index)],cache"
   ]
  },
  {
   "cell_type": "code",
   "execution_count": 5,
   "metadata": {},
   "outputs": [],
   "source": [
    "def compute_cost(pred_output,actual_output,parameters,lamdba):    \n",
    "    A = pred_output\n",
    "    y =actual_output\n",
    "    m = y.shape[0]\n",
    "    norm=0\n",
    "    for i in range(1,int(len(parameters)/2)):\n",
    "        norm = np.linalg.norm(parameters[\"W\"+str(i)])\n",
    "        \n",
    "    cost_ =  (1./m)* np.sum((A-y)**2) + (lamdba * norm)/(2*m)\n",
    "    return np.squeeze(cost_)\n",
    "\n",
    "\n",
    "def get_accuracy_value(Y_hat, Y):\n",
    "    testing = Y_hat.copy()\n",
    "    testing[Y_hat>0.5]= 1 \n",
    "    testing[Y_hat <= 0.5]=0\n",
    "    return (testing == Y).all(axis=1).mean()"
   ]
  },
  {
   "cell_type": "code",
   "execution_count": 6,
   "metadata": {},
   "outputs": [],
   "source": [
    "def backward_prop(Y,cache,parameters):\n",
    "\n",
    "    last_index = int(len(parameters)/2)\n",
    "    m = Y.shape[0]\n",
    "    back_cache = {}\n",
    "    \n",
    "    delta3  = 2*(cache[\"A\"+str(last_index)] - Y) * sigmoid_deriv(cache[\"A\"+str(last_index)])\n",
    "    back_cache[\"dW\"+str(last_index)] = np.dot(cache[\"A\"+str(last_index-1)].T,delta3)/ m \n",
    "    back_cache[\"db\"+str(last_index)] =np.sum(delta3,axis=0,keepdims=True)/ m \n",
    "   \n",
    "    delta = delta3\n",
    "    for i in reversed(range(1,last_index)):\n",
    "        delta =relu_backward(np.dot(delta,parameters[\"W\"+str(i+1)].T),cache[\"Z\"+str(i)])\n",
    "        back_cache[\"dW\"+str(i)] = np.dot(cache[\"A\"+str(i-1)].T,delta) / m\n",
    "        back_cache[\"db\"+str(i)] = np.sum(delta,axis=0,keepdims=True)/ m\n",
    "\n",
    "    for i in range(1,(last_index)):\n",
    "        assert (parameters[\"W\"+str(i)].shape == back_cache[\"dW\"+str(i)].shape) \n",
    "\n",
    "    return back_cache"
   ]
  },
  {
   "cell_type": "code",
   "execution_count": 7,
   "metadata": {},
   "outputs": [],
   "source": [
    "def update_params(params,backward_cache,learning_rate,lamdba,m):\n",
    "    ferb = (learning_rate * lamdba)/m\n",
    "    last_index = int(len(params)/2)\n",
    "    for i in range(1,last_index+1):\n",
    "        params[\"W\"+str(i)] = (1-ferb)*params[\"W\"+str(i)]- (learning_rate * backward_cache[\"dW\"+str(i)])\n",
    "        params[\"b\"+str(i)] = params[\"b\"+str(i)]- (learning_rate * backward_cache[\"db\"+str(i)])\n",
    "    return params\n"
   ]
  },
  {
   "cell_type": "code",
   "execution_count": 8,
   "metadata": {},
   "outputs": [],
   "source": [
    "def train(X,Y,nn_layers,n_iters=2000,alpha = 0.01,lambda_=10):    \n",
    "    params  = random_weights_initialization(nn_layers)\n",
    "    J_cost =[]\n",
    "    for i in range(n_iters):\n",
    "        \n",
    "        A3,cache = forward_prop(X,params)\n",
    "        J = compute_cost(A3,Y,params,lambda_)\n",
    "        J_cost.append(J)\n",
    "        if (i%50 == 0):\n",
    "            print(\"iter:\",str(i),\"cost:\",str(J),\"Accuracy:\",str(get_accuracy_value(A3,Y)))\n",
    "            print(\"----------------------------------------------------------------------\")\n",
    "          \n",
    "        back_cache = backward_prop(Y,cache,params)\n",
    "\n",
    "        params  = update_params(params,back_cache,alpha,lambda_,X.shape[0])\n",
    "    return params,J_cost"
   ]
  },
  {
   "cell_type": "code",
   "execution_count": 9,
   "metadata": {},
   "outputs": [],
   "source": [
    "def predict(input_X, parameters,threshold):    \n",
    "    cache = {\n",
    "        \"A0\":input_X\n",
    "    }\n",
    "    last_index = int(len(parameters)/2)\n",
    "    for i in range(1,last_index):\n",
    "        cache[\"Z\"+str(i)] = np.dot(cache[\"A\"+str(i-1)],parameters[\"W\"+str(i)]) + parameters[\"b\"+str(i)]\n",
    "        cache[\"A\"+str(i)] = relu(cache[\"Z\"+str(i)])\n",
    "        \n",
    "    cache[\"Z\"+str(last_index)] = np.dot(cache[\"A\"+str(last_index-1)],\n",
    "                                        parameters[\"W\"+str(last_index)])  + parameters[\"b\"+str(last_index)]\n",
    "    cache[\"A\"+str(last_index)] = sigmoid(cache[\"Z\"+str(last_index)])\n",
    "    \n",
    "    output = np.array(cache[\"A\"+str(last_index)],copy=True)\n",
    "    output[output > threshold] = 1\n",
    "    output[output <= threshold] = 0    \n",
    "\n",
    "    return output\n",
    "    "
   ]
  },
  {
   "cell_type": "code",
   "execution_count": 10,
   "metadata": {},
   "outputs": [
    {
     "name": "stderr",
     "output_type": "stream",
     "text": [
      "Using TensorFlow backend.\n",
      "C:\\Users\\sachi\\anaconda3\\lib\\site-packages\\tensorflow\\python\\framework\\dtypes.py:516: FutureWarning: Passing (type, 1) or '1type' as a synonym of type is deprecated; in a future version of numpy, it will be understood as (type, (1,)) / '(1,)type'.\n",
      "  _np_qint8 = np.dtype([(\"qint8\", np.int8, 1)])\n",
      "C:\\Users\\sachi\\anaconda3\\lib\\site-packages\\tensorflow\\python\\framework\\dtypes.py:517: FutureWarning: Passing (type, 1) or '1type' as a synonym of type is deprecated; in a future version of numpy, it will be understood as (type, (1,)) / '(1,)type'.\n",
      "  _np_quint8 = np.dtype([(\"quint8\", np.uint8, 1)])\n",
      "C:\\Users\\sachi\\anaconda3\\lib\\site-packages\\tensorflow\\python\\framework\\dtypes.py:518: FutureWarning: Passing (type, 1) or '1type' as a synonym of type is deprecated; in a future version of numpy, it will be understood as (type, (1,)) / '(1,)type'.\n",
      "  _np_qint16 = np.dtype([(\"qint16\", np.int16, 1)])\n",
      "C:\\Users\\sachi\\anaconda3\\lib\\site-packages\\tensorflow\\python\\framework\\dtypes.py:519: FutureWarning: Passing (type, 1) or '1type' as a synonym of type is deprecated; in a future version of numpy, it will be understood as (type, (1,)) / '(1,)type'.\n",
      "  _np_quint16 = np.dtype([(\"quint16\", np.uint16, 1)])\n",
      "C:\\Users\\sachi\\anaconda3\\lib\\site-packages\\tensorflow\\python\\framework\\dtypes.py:520: FutureWarning: Passing (type, 1) or '1type' as a synonym of type is deprecated; in a future version of numpy, it will be understood as (type, (1,)) / '(1,)type'.\n",
      "  _np_qint32 = np.dtype([(\"qint32\", np.int32, 1)])\n",
      "C:\\Users\\sachi\\anaconda3\\lib\\site-packages\\tensorflow\\python\\framework\\dtypes.py:525: FutureWarning: Passing (type, 1) or '1type' as a synonym of type is deprecated; in a future version of numpy, it will be understood as (type, (1,)) / '(1,)type'.\n",
      "  np_resource = np.dtype([(\"resource\", np.ubyte, 1)])\n",
      "C:\\Users\\sachi\\anaconda3\\lib\\site-packages\\tensorboard\\compat\\tensorflow_stub\\dtypes.py:541: FutureWarning: Passing (type, 1) or '1type' as a synonym of type is deprecated; in a future version of numpy, it will be understood as (type, (1,)) / '(1,)type'.\n",
      "  _np_qint8 = np.dtype([(\"qint8\", np.int8, 1)])\n",
      "C:\\Users\\sachi\\anaconda3\\lib\\site-packages\\tensorboard\\compat\\tensorflow_stub\\dtypes.py:542: FutureWarning: Passing (type, 1) or '1type' as a synonym of type is deprecated; in a future version of numpy, it will be understood as (type, (1,)) / '(1,)type'.\n",
      "  _np_quint8 = np.dtype([(\"quint8\", np.uint8, 1)])\n",
      "C:\\Users\\sachi\\anaconda3\\lib\\site-packages\\tensorboard\\compat\\tensorflow_stub\\dtypes.py:543: FutureWarning: Passing (type, 1) or '1type' as a synonym of type is deprecated; in a future version of numpy, it will be understood as (type, (1,)) / '(1,)type'.\n",
      "  _np_qint16 = np.dtype([(\"qint16\", np.int16, 1)])\n",
      "C:\\Users\\sachi\\anaconda3\\lib\\site-packages\\tensorboard\\compat\\tensorflow_stub\\dtypes.py:544: FutureWarning: Passing (type, 1) or '1type' as a synonym of type is deprecated; in a future version of numpy, it will be understood as (type, (1,)) / '(1,)type'.\n",
      "  _np_quint16 = np.dtype([(\"quint16\", np.uint16, 1)])\n",
      "C:\\Users\\sachi\\anaconda3\\lib\\site-packages\\tensorboard\\compat\\tensorflow_stub\\dtypes.py:545: FutureWarning: Passing (type, 1) or '1type' as a synonym of type is deprecated; in a future version of numpy, it will be understood as (type, (1,)) / '(1,)type'.\n",
      "  _np_qint32 = np.dtype([(\"qint32\", np.int32, 1)])\n",
      "C:\\Users\\sachi\\anaconda3\\lib\\site-packages\\tensorboard\\compat\\tensorflow_stub\\dtypes.py:550: FutureWarning: Passing (type, 1) or '1type' as a synonym of type is deprecated; in a future version of numpy, it will be understood as (type, (1,)) / '(1,)type'.\n",
      "  np_resource = np.dtype([(\"resource\", np.ubyte, 1)])\n"
     ]
    }
   ],
   "source": [
    "import sys, numpy as np \n",
    "from keras.datasets import mnist\n",
    "(x_train, y_train), (x_test, y_test) = mnist.load_data()\n"
   ]
  },
  {
   "cell_type": "markdown",
   "metadata": {},
   "source": [
    "Getting the Data for 1 and 0 to classify:"
   ]
  },
  {
   "cell_type": "code",
   "execution_count": 11,
   "metadata": {},
   "outputs": [
    {
     "name": "stdout",
     "output_type": "stream",
     "text": [
      "[21744 18923 28755 ... 20322 49419 23521]\n"
     ]
    }
   ],
   "source": [
    "y_1_train = np.where(y_train == 1)\n",
    "y_0_train = np.where(y_train == 0)\n",
    "index_train =np.append(y_1_train[0],y_0_train[0])\n",
    "np.random.shuffle(index_train)\n",
    "\n",
    "y_1_test = np.where(y_test == 1)\n",
    "y_0_test = np.where(y_test == 0)\n",
    "index_test =np.append(y_1_test[0],y_0_test[0])\n",
    "np.random.shuffle(index_test)\n",
    "\n",
    "\n",
    "# index\n",
    "x_train= x_train[(index_train)]\n",
    "y_train= y_train[(index_train)]\n",
    "x_test= x_test[(index_test)]\n",
    "y_test= y_test[(index_test)]\n",
    "\n",
    "print(index_train)\n"
   ]
  },
  {
   "cell_type": "code",
   "execution_count": 12,
   "metadata": {},
   "outputs": [
    {
     "data": {
      "text/plain": [
       "1"
      ]
     },
     "execution_count": 12,
     "metadata": {},
     "output_type": "execute_result"
    },
    {
     "data": {
      "image/png": "[encoded data removed]",
      "text/plain": [
       "<Figure size 432x288 with 1 Axes>"
      ]
     },
     "metadata": {
      "needs_background": "light"
     },
     "output_type": "display_data"
    }
   ],
   "source": [
    "n_samples_train = 12000\n",
    "i = np.random.randint(0, n_samples_train)\n",
    "img = Image.fromarray(x_train[i])\n",
    "plt.imshow(img)\n",
    "\n",
    "y_train[i]"
   ]
  },
  {
   "cell_type": "code",
   "execution_count": 13,
   "metadata": {},
   "outputs": [
    {
     "data": {
      "text/plain": [
       "((12000, 784), (12000, 1))"
      ]
     },
     "execution_count": 13,
     "metadata": {},
     "output_type": "execute_result"
    }
   ],
   "source": [
    "images, labels = (x_train[0:n_samples_train].reshape(n_samples_train,28*28) /255, y_train[0:n_samples_train].reshape(n_samples_train,1)) \n",
    "df = pd.DataFrame(images)\n",
    "images.shape,labels.shape"
   ]
  },
  {
   "cell_type": "code",
   "execution_count": 14,
   "metadata": {
    "scrolled": false
   },
   "outputs": [
    {
     "name": "stdout",
     "output_type": "stream",
     "text": [
      "iter: 0 cost: 0.2759930775997387 Accuracy: 0.693\n",
      "----------------------------------------------------------------------\n",
      "iter: 50 cost: 0.15187483057873902 Accuracy: 0.83375\n",
      "----------------------------------------------------------------------\n",
      "iter: 100 cost: 0.13320014820112877 Accuracy: 0.85275\n",
      "----------------------------------------------------------------------\n",
      "iter: 150 cost: 0.11786054991259332 Accuracy: 0.8693333333333333\n",
      "----------------------------------------------------------------------\n",
      "iter: 200 cost: 0.10426172357798308 Accuracy: 0.8844166666666666\n",
      "----------------------------------------------------------------------\n",
      "iter: 250 cost: 0.09300461145058939 Accuracy: 0.8961666666666667\n",
      "----------------------------------------------------------------------\n",
      "iter: 300 cost: 0.08296295512927955 Accuracy: 0.90675\n",
      "----------------------------------------------------------------------\n",
      "iter: 350 cost: 0.07436143988969969 Accuracy: 0.9170833333333334\n",
      "----------------------------------------------------------------------\n",
      "iter: 400 cost: 0.06797485832745981 Accuracy: 0.9251666666666667\n",
      "----------------------------------------------------------------------\n",
      "iter: 450 cost: 0.06318874470876273 Accuracy: 0.9311666666666667\n",
      "----------------------------------------------------------------------\n",
      "iter: 500 cost: 0.05947225935025577 Accuracy: 0.9349166666666666\n",
      "----------------------------------------------------------------------\n",
      "iter: 550 cost: 0.056458887860803345 Accuracy: 0.9385\n",
      "----------------------------------------------------------------------\n",
      "iter: 600 cost: 0.05394267641560135 Accuracy: 0.94125\n",
      "----------------------------------------------------------------------\n",
      "iter: 650 cost: 0.051847600403758284 Accuracy: 0.9440833333333334\n",
      "----------------------------------------------------------------------\n",
      "iter: 700 cost: 0.05006983836806893 Accuracy: 0.9459166666666666\n",
      "----------------------------------------------------------------------\n",
      "iter: 750 cost: 0.04854564572748709 Accuracy: 0.9475833333333333\n",
      "----------------------------------------------------------------------\n",
      "iter: 800 cost: 0.04722994074010877 Accuracy: 0.9490833333333333\n",
      "----------------------------------------------------------------------\n",
      "iter: 850 cost: 0.04607639306303547 Accuracy: 0.95075\n",
      "----------------------------------------------------------------------\n",
      "iter: 900 cost: 0.04503724735134165 Accuracy: 0.9520833333333333\n",
      "----------------------------------------------------------------------\n",
      "iter: 950 cost: 0.044069447608566674 Accuracy: 0.9531666666666667\n",
      "----------------------------------------------------------------------\n",
      "iter: 1000 cost: 0.043132581291515704 Accuracy: 0.9540833333333333\n",
      "----------------------------------------------------------------------\n",
      "iter: 1050 cost: 0.042204758216722295 Accuracy: 0.9545833333333333\n",
      "----------------------------------------------------------------------\n",
      "iter: 1100 cost: 0.041305045651461494 Accuracy: 0.9555\n",
      "----------------------------------------------------------------------\n",
      "iter: 1150 cost: 0.04044829716657555 Accuracy: 0.9565833333333333\n",
      "----------------------------------------------------------------------\n",
      "iter: 1200 cost: 0.03963951830742665 Accuracy: 0.9578333333333333\n",
      "----------------------------------------------------------------------\n",
      "iter: 1250 cost: 0.03888332320008373 Accuracy: 0.9585\n",
      "----------------------------------------------------------------------\n",
      "iter: 1300 cost: 0.038175775562086706 Accuracy: 0.9595833333333333\n",
      "----------------------------------------------------------------------\n",
      "iter: 1350 cost: 0.03751485429229837 Accuracy: 0.9604166666666667\n",
      "----------------------------------------------------------------------\n",
      "iter: 1400 cost: 0.03689982305588802 Accuracy: 0.9609166666666666\n",
      "----------------------------------------------------------------------\n",
      "iter: 1450 cost: 0.03632212617193901 Accuracy: 0.9615\n",
      "----------------------------------------------------------------------\n",
      "iter: 1500 cost: 0.03577475671950545 Accuracy: 0.9616666666666667\n",
      "----------------------------------------------------------------------\n",
      "iter: 1550 cost: 0.03524797214636609 Accuracy: 0.9620833333333333\n",
      "----------------------------------------------------------------------\n",
      "iter: 1600 cost: 0.034745690667587266 Accuracy: 0.9626666666666667\n",
      "----------------------------------------------------------------------\n",
      "iter: 1650 cost: 0.03426625279837582 Accuracy: 0.9635\n",
      "----------------------------------------------------------------------\n",
      "iter: 1700 cost: 0.033812016696650994 Accuracy: 0.96425\n",
      "----------------------------------------------------------------------\n",
      "iter: 1750 cost: 0.033375757395776334 Accuracy: 0.965\n",
      "----------------------------------------------------------------------\n",
      "iter: 1800 cost: 0.03295839063514018 Accuracy: 0.9655833333333333\n",
      "----------------------------------------------------------------------\n",
      "iter: 1850 cost: 0.032554668182981084 Accuracy: 0.9658333333333333\n",
      "----------------------------------------------------------------------\n",
      "iter: 1900 cost: 0.0321687429215602 Accuracy: 0.9660833333333333\n",
      "----------------------------------------------------------------------\n",
      "iter: 1950 cost: 0.03180335594645888 Accuracy: 0.967\n",
      "----------------------------------------------------------------------\n"
     ]
    }
   ],
   "source": [
    "params_ , cost_ = train(images,labels,[images.shape[1],6,4,labels.shape[1]],n_iters=2000,alpha =  0.01,lambda_=10,)\n"
   ]
  },
  {
   "cell_type": "code",
   "execution_count": 15,
   "metadata": {},
   "outputs": [
    {
     "data": {
      "image/png": "[encoded data removed]",
      "text/plain": [
       "<Figure size 432x288 with 1 Axes>"
      ]
     },
     "metadata": {
      "needs_background": "light"
     },
     "output_type": "display_data"
    }
   ],
   "source": [
    "plt.plot(np.arange(len(cost_)),cost_)\n",
    "plt.xlabel(\"Iterations\")\n",
    "plt.ylabel(\"Cost\")\n",
    "plt.show()"
   ]
  },
  {
   "cell_type": "markdown",
   "metadata": {},
   "source": [
    "Testing the Trained Neural Network"
   ]
  },
  {
   "cell_type": "code",
   "execution_count": 16,
   "metadata": {},
   "outputs": [],
   "source": [
    "from sklearn.metrics import confusion_matrix, classification_report\n",
    "from sklearn.metrics import precision_score, recall_score ,f1_score\n",
    "def evaluate(input_X,output_y,parameters,threshold=0.5):\n",
    "    predictions = predict(input_X, parameters,threshold)\n",
    "    print( \" precision:\" , str(precision_score(output_y,predictions))[:5],\"\\n\",\n",
    "    \"recall:\",str(recall_score(output_y,predictions))[:5],\"\\n\",\n",
    "    \"fl score:\",str(f1_score(output_y,predictions))[:5],\"\\n\",\n",
    "    \"accuracy:\",str((predictions == output_y).all(axis=1).mean())[:5])\n",
    "    results = confusion_matrix(output_y,predictions)\n",
    "    fig, ax = plt.subplots()\n",
    "    ax.matshow(results)\n",
    "    for (i, j), z in np.ndenumerate(results):\n",
    "        ax.text(j, i, '{:0.1f}'.format(z), ha='center', va='center',\n",
    "                bbox=dict(boxstyle='round', facecolor='white', edgecolor='0.3'))\n",
    "    plt.show()"
   ]
  },
  {
   "cell_type": "code",
   "execution_count": 17,
   "metadata": {},
   "outputs": [],
   "source": [
    "n_test_samples = x_test.shape[0]\n",
    "testX = x_test.reshape(n_test_samples,28*28)/255\n",
    "testY = y_test.reshape(n_test_samples,1)"
   ]
  },
  {
   "cell_type": "code",
   "execution_count": 18,
   "metadata": {},
   "outputs": [
    {
     "name": "stdout",
     "output_type": "stream",
     "text": [
      "Threshold: 0.5\n",
      "-------------test set-------------\n",
      " precision: 0.971 \n",
      " recall: 0.968 \n",
      " fl score: 0.969 \n",
      " accuracy: 0.967\n"
     ]
    },
    {
     "data": {
      "image/png": "[encoded data removed]",
      "text/plain": [
       "<Figure size 432x288 with 1 Axes>"
      ]
     },
     "metadata": {
      "needs_background": "light"
     },
     "output_type": "display_data"
    },
    {
     "name": "stdout",
     "output_type": "stream",
     "text": [
      "-------------train set-------------\n",
      " precision: 0.977 \n",
      " recall: 0.960 \n",
      " fl score: 0.968 \n",
      " accuracy: 0.967\n"
     ]
    },
    {
     "data": {
      "image/png": "[encoded data removed]",
      "text/plain": [
       "<Figure size 432x288 with 1 Axes>"
      ]
     },
     "metadata": {
      "needs_background": "light"
     },
     "output_type": "display_data"
    }
   ],
   "source": [
    "thres = 0.5\n",
    "print(\"Threshold:\",str(thres))\n",
    "print(\"-------------test set-------------\")\n",
    "evaluate(testX,testY,params_,thres)\n",
    "\n",
    "print(\"-------------train set-------------\")\n",
    "evaluate(images,labels,params_,thres)\n"
   ]
  },
  {
   "cell_type": "code",
   "execution_count": 19,
   "metadata": {},
   "outputs": [
    {
     "name": "stdout",
     "output_type": "stream",
     "text": [
      "Threshold: 0.8\n",
      "-------------test set-------------\n",
      " precision: 0.976 \n",
      " recall: 0.958 \n",
      " fl score: 0.967 \n",
      " accuracy: 0.965\n"
     ]
    },
    {
     "data": {
      "image/png": "[encoded data removed]",
      "text/plain": [
       "<Figure size 432x288 with 1 Axes>"
      ]
     },
     "metadata": {
      "needs_background": "light"
     },
     "output_type": "display_data"
    },
    {
     "name": "stdout",
     "output_type": "stream",
     "text": [
      "-------------train set-------------\n",
      " precision: 0.981 \n",
      " recall: 0.949 \n",
      " fl score: 0.964 \n",
      " accuracy: 0.963\n"
     ]
    },
    {
     "data": {
      "image/png": "[encoded data removed]",
      "text/plain": [
       "<Figure size 432x288 with 1 Axes>"
      ]
     },
     "metadata": {
      "needs_background": "light"
     },
     "output_type": "display_data"
    }
   ],
   "source": [
    "thres = 0.8\n",
    "print(\"Threshold:\",str(thres))\n",
    "print(\"-------------test set-------------\")\n",
    "evaluate(testX,testY,params_,thres)\n",
    "\n",
    "print(\"-------------train set-------------\")\n",
    "evaluate(images,labels,params_,thres)"
   ]
  },
  {
   "cell_type": "code",
   "execution_count": 20,
   "metadata": {},
   "outputs": [
    {
     "name": "stdout",
     "output_type": "stream",
     "text": [
      "Threshold: 0.3\n",
      "-------------test set-------------\n",
      " precision: 0.967 \n",
      " recall: 0.973 \n",
      " fl score: 0.970 \n",
      " accuracy: 0.968\n"
     ]
    },
    {
     "data": {
      "image/png": "[encoded data removed]",
      "text/plain": [
       "<Figure size 432x288 with 1 Axes>"
      ]
     },
     "metadata": {
      "needs_background": "light"
     },
     "output_type": "display_data"
    },
    {
     "name": "stdout",
     "output_type": "stream",
     "text": [
      "-------------train set-------------\n",
      " precision: 0.974 \n",
      " recall: 0.964 \n",
      " fl score: 0.969 \n",
      " accuracy: 0.968\n"
     ]
    },
    {
     "data": {
      "image/png": "[encoded data removed]",
      "text/plain": [
       "<Figure size 432x288 with 1 Axes>"
      ]
     },
     "metadata": {
      "needs_background": "light"
     },
     "output_type": "display_data"
    }
   ],
   "source": [
    "thres = 0.3\n",
    "print(\"Threshold:\",str(thres))\n",
    "print(\"-------------test set-------------\")\n",
    "evaluate(testX,testY,params_,thres)\n",
    "\n",
    "print(\"-------------train set-------------\")\n",
    "evaluate(images,labels,params_,thres)"
   ]
  },
  {
   "cell_type": "code",
   "execution_count": 21,
   "metadata": {},
   "outputs": [
    {
     "name": "stdout",
     "output_type": "stream",
     "text": [
      "Threshold: 0.7\n",
      "-------------test set-------------\n",
      " precision: 0.975 \n",
      " recall: 0.962 \n",
      " fl score: 0.968 \n",
      " accuracy: 0.966\n"
     ]
    },
    {
     "data": {
      "image/png": "[encoded data removed]",
      "text/plain": [
       "<Figure size 432x288 with 1 Axes>"
      ]
     },
     "metadata": {
      "needs_background": "light"
     },
     "output_type": "display_data"
    },
    {
     "name": "stdout",
     "output_type": "stream",
     "text": [
      "-------------train set-------------\n",
      " precision: 0.980 \n",
      " recall: 0.954 \n",
      " fl score: 0.967 \n",
      " accuracy: 0.965\n"
     ]
    },
    {
     "data": {
      "image/png": "[encoded data removed]",
      "text/plain": [
       "<Figure size 432x288 with 1 Axes>"
      ]
     },
     "metadata": {
      "needs_background": "light"
     },
     "output_type": "display_data"
    }
   ],
   "source": [
    "thres = 0.7\n",
    "print(\"Threshold:\",str(thres))\n",
    "print(\"-------------test set-------------\")\n",
    "evaluate(testX,testY,params_,thres)\n",
    "\n",
    "print(\"-------------train set-------------\")\n",
    "evaluate(images,labels,params_,thres)"
   ]
  },
  {
   "cell_type": "code",
   "execution_count": 23,
   "metadata": {},
   "outputs": [
    {
     "name": "stdout",
     "output_type": "stream",
     "text": [
      "Threshold: 0.9\n",
      "-------------test set-------------\n",
      " precision: 0.978 \n",
      " recall: 0.950 \n",
      " fl score: 0.964 \n",
      " accuracy: 0.962\n"
     ]
    },
    {
     "data": {
      "image/png": "[encoded data removed]",
      "text/plain": [
       "<Figure size 432x288 with 1 Axes>"
      ]
     },
     "metadata": {
      "needs_background": "light"
     },
     "output_type": "display_data"
    },
    {
     "name": "stdout",
     "output_type": "stream",
     "text": [
      "-------------train set-------------\n",
      " precision: 0.982 \n",
      " recall: 0.940 \n",
      " fl score: 0.960 \n",
      " accuracy: 0.959\n"
     ]
    },
    {
     "data": {
      "image/png": "[encoded data removed]",
      "text/plain": [
       "<Figure size 432x288 with 1 Axes>"
      ]
     },
     "metadata": {
      "needs_background": "light"
     },
     "output_type": "display_data"
    }
   ],
   "source": [
    "thres = 0.9\n",
    "print(\"Threshold:\",str(thres))\n",
    "print(\"-------------test set-------------\")\n",
    "evaluate(testX,testY,params_,thres)\n",
    "\n",
    "print(\"-------------train set-------------\")\n",
    "evaluate(images,labels,params_,thres)"
   ]
  },
  {
   "cell_type": "code",
   "execution_count": null,
   "metadata": {},
   "outputs": [],
   "source": []
  }
 ],
 "metadata": {
  "kernelspec": {
   "display_name": "Python 3",
   "language": "python",
   "name": "python3"
  },
  "language_info": {
   "codemirror_mode": {
    "name": "ipython",
    "version": 3
   },
   "file_extension": ".py",
   "mimetype": "text/x-python",
   "name": "python",
   "nbconvert_exporter": "python",
   "pygments_lexer": "ipython3",
   "version": "3.7.6"
  }
 },
 "nbformat": 4,
 "nbformat_minor": 4
}
