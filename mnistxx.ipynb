{
 "cells": [
  {
   "cell_type": "code",
   "execution_count": 55,
   "metadata": {},
   "outputs": [],
   "source": [
    "import pandas as pd\n",
    "import numpy as np\n",
    "import matplotlib.pyplot as plt\n",
    "import matplotlib.image as mpimg\n",
    "from PIL import Image\n",
    "\n",
    "\n",
    "%matplotlib inline\n"
   ]
  },
  {
   "cell_type": "markdown",
   "metadata": {},
   "source": []
  },
  {
   "cell_type": "code",
   "execution_count": 70,
   "metadata": {},
   "outputs": [],
   "source": [
    "class NeuralNetwork():\n",
    "    def __init__(self,X,Y,nn_layers,n_iters=2000,alpha = 0.01,lambda_=10):\n",
    "        self.X = X\n",
    "        self.Y = Y\n",
    "        self.nn_layers= nn_layers\n",
    "        self.n_iters= n_iters\n",
    "        self.alpha= alpha\n",
    "        self.lambda_= lambda_\n",
    "        self.params = self.random_weights_initialization(nn_layers)\n",
    "        self.fp_cache = None\n",
    "        self.cost = None\n",
    "        \n",
    "    def tanh(self,z):\n",
    "        return np.tanh(z)\n",
    "    def sigmoid(self,z):\n",
    "        return 1 / (1+np.exp(-z))\n",
    "    def sigmoid_deriv(self,z):# z --> sigmoid(Z)\n",
    "        return z * (1-z)\n",
    "    def tanh_deriv(self,z): # z --> tanh(Z)\n",
    "        return 1 - (z)**2\n",
    "    def relu(self,Z):\n",
    "        z_copy = np.array(Z,copy=True)\n",
    "        return np.maximum(0,z_copy)\n",
    "    def relu_backward(self,dA, Z):\n",
    "        dZ = np.array(dA, copy = True)\n",
    "        dZ[Z <= 0] = 0\n",
    "        return dZ\n",
    "    \n",
    "    def random_weights_initialization(self,n_layers):\n",
    "        params = {}\n",
    "\n",
    "        # n_layers --> (len-1) is no of layers and elements of list are no of neurons in (index+1)th layer\n",
    "\n",
    "        for i in range(1,len(n_layers)):\n",
    "            params[\"W\"+str(i)] = np.random.randn(n_layers[i-1],n_layers[i])* np.sqrt(2/n_layers[i-1])\n",
    "            params[\"b\"+str(i)] = b3 = np.zeros((1,n_layers[i]))\n",
    "\n",
    "        return params\n",
    "    \n",
    "    \n",
    "    \n",
    "    def forward_prop(self,input_X,parameters):   \n",
    "        cache = {\n",
    "            \"A0\":input_X\n",
    "        }\n",
    "        last_index = int(len(parameters)/2)\n",
    "        for i in range(1,last_index):\n",
    "            cache[\"Z\"+str(i)] = np.dot(cache[\"A\"+str(i-1)],parameters[\"W\"+str(i)]) + parameters[\"b\"+str(i)]\n",
    "            cache[\"A\"+str(i)] = self.relu(cache[\"Z\"+str(i)])\n",
    "\n",
    "        cache[\"Z\"+str(last_index)] = np.dot(cache[\"A\"+str(last_index-1)],\n",
    "                                            parameters[\"W\"+str(last_index)])  + parameters[\"b\"+str(last_index)]\n",
    "        cache[\"A\"+str(last_index)] = self.sigmoid(cache[\"Z\"+str(last_index)])\n",
    "        self.fp_cache=cache\n",
    "        return cache[\"A\"+str(last_index)],cache\n",
    "    \n",
    "    \n",
    "    def compute_cost(self,pred_output,actual_output,parameters,lamdba):    \n",
    "        A = pred_output\n",
    "        y =actual_output\n",
    "        m = y.shape[0]\n",
    "        norm=0\n",
    "        for i in range(1,int(len(parameters)/2)):\n",
    "            norm += np.linalg.norm(parameters[\"W\"+str(i)])\n",
    "\n",
    "        cost_ =  (1./m)* np.sum((A-y)**2) + (lamdba * norm)/(2*m)\n",
    "        return np.squeeze(cost_)\n",
    "\n",
    "\n",
    "    def get_accuracy_value(self,Y_hat, Y):\n",
    "        testing = Y_hat.copy()\n",
    "        testing[Y_hat>0.5]= 1 \n",
    "        testing[Y_hat <= 0.5]=0\n",
    "        return (testing == Y).all(axis=1).mean()\n",
    "    \n",
    "    def backward_prop(self,Y,cache,parameters):\n",
    "\n",
    "        last_index = int(len(parameters)/2)\n",
    "        m = Y.shape[0]\n",
    "        back_cache = {}\n",
    "\n",
    "        delta3  = 2*(cache[\"A\"+str(last_index)] - Y) * self.sigmoid_deriv(cache[\"A\"+str(last_index)])\n",
    "        back_cache[\"dW\"+str(last_index)] = (np.dot(cache[\"A\"+str(last_index-1)].T,delta3)/ m) + (self.lambda_/m) * parameters[\"W\"+str(last_index)]\n",
    "        back_cache[\"db\"+str(last_index)] =np.sum(delta3,axis=0,keepdims=True)/ m \n",
    "\n",
    "        delta = delta3\n",
    "        for i in reversed(range(1,last_index)):\n",
    "            delta =self.relu_backward(np.dot(delta,parameters[\"W\"+str(i+1)].T),cache[\"Z\"+str(i)])\n",
    "            back_cache[\"dW\"+str(i)] = (np.dot(cache[\"A\"+str(i-1)].T,delta) / m) + (self.lambda_/m) * parameters[\"W\"+str(i)]\n",
    "            back_cache[\"db\"+str(i)] = np.sum(delta,axis=0,keepdims=True)/ m\n",
    "\n",
    "        for i in range(1,(last_index)):\n",
    "            assert (parameters[\"W\"+str(i)].shape == back_cache[\"dW\"+str(i)].shape) \n",
    "\n",
    "        return back_cache\n",
    "    \n",
    "    def update_params(self,params,backward_cache,learning_rate,lamdba,m):\n",
    "        ferb = (learning_rate * lamdba)/m\n",
    "        last_index = int(len(params)/2)\n",
    "        for i in range(1,last_index+1):\n",
    "            params[\"W\"+str(i)] = (1-ferb)*params[\"W\"+str(i)]- (learning_rate * backward_cache[\"dW\"+str(i)])\n",
    "            params[\"b\"+str(i)] = params[\"b\"+str(i)]- (learning_rate * backward_cache[\"db\"+str(i)])\n",
    "        return params\n",
    "    \n",
    "    def train(self,print_cost=False):    \n",
    "        params  = self.random_weights_initialization(self.nn_layers)\n",
    "        J_cost =[]\n",
    "        print(\"Starting Training\")\n",
    "        for i in range(self.n_iters):\n",
    "\n",
    "            A3,cache = self.forward_prop(self.X,params)\n",
    "            J = self.compute_cost(A3,self.Y,params,self.lambda_)\n",
    "            J_cost.append(J)\n",
    "            if print_cost:\n",
    "                if (i%100 == 0):\n",
    "                    print(\"iter:\",str(i),\"cost:\",str(J),\"Accuracy:\",str(self.get_accuracy_value(A3,self.Y)))\n",
    "                    print(\"----------------------------------------------------------------------\")\n",
    "\n",
    "            back_cache = self.backward_prop(self.Y,cache,params)\n",
    "\n",
    "            self.params  = self.update_params(params,back_cache,self.alpha,self.lambda_,self.X.shape[0])\n",
    "        self.cost  = J_cost\n",
    "        print(\"Training Done.\")\n",
    "        print(\"With \\n\" + \"Cost: \"+str(J)+\" Accuracy: \"+str(self.get_accuracy_value(A3,self.Y)))\n",
    "        \n",
    "\n",
    "    \n",
    "    def predict(self,testX,threshold):    \n",
    "        A3,_=self.forward_prop(testX,self.params)\n",
    "#         output = np.array(cache[\"A\"+str(last_index)],copy=True)\n",
    "#         output[output > threshold] = 1\n",
    "#         output[output <= threshold] = 0    \n",
    "        \n",
    "        predictions = np.round(A3)\n",
    "        return predictions\n",
    "\n",
    "#         return output\n",
    "    \n",
    "    def evaluate(self,input_X,output_y,threshold=0.5):\n",
    "        predictions = self.predict(input_X,threshold)\n",
    "        print( \" precision:\" , str(precision_score(output_y,predictions))[:5],\"\\n\",\n",
    "        \"recall:\",str(recall_score(output_y,predictions))[:5],\"\\n\",\n",
    "        \"fl score:\",str(f1_score(output_y,predictions))[:5],\"\\n\",\n",
    "        \"accuracy:\",str((predictions == output_y).all(axis=1).mean())[:5])\n",
    "        results = confusion_matrix(output_y,predictions)\n",
    "        fig, ax = plt.subplots()\n",
    "        ax.matshow(results)\n",
    "        for (i, j), z in np.ndenumerate(results):\n",
    "            ax.text(j, i, '{:0.1f}'.format(z), ha='center', va='center',\n",
    "                    bbox=dict(boxstyle='round', facecolor='white', edgecolor='0.3'))\n",
    "        plt.show()\n",
    "    \n",
    "    def plot_cost(self):\n",
    "        plt.plot(np.arange(len(self.cost)),self.cost)\n",
    "        plt.xlabel(\"Number of Iterations\")\n",
    "        plt.ylabel(\"Cost\")\n",
    "        plt.show()"
   ]
  },
  {
   "cell_type": "code",
   "execution_count": 58,
   "metadata": {},
   "outputs": [],
   "source": [
    "import sys, numpy as np \n",
    "from keras.datasets import mnist\n",
    "(x_train, y_train), (x_test, y_test) = mnist.load_data()\n"
   ]
  },
  {
   "cell_type": "markdown",
   "metadata": {},
   "source": [
    "Getting the Data for 1 and 0 to classify:"
   ]
  },
  {
   "cell_type": "code",
   "execution_count": 81,
   "metadata": {},
   "outputs": [
    {
     "name": "stdout",
     "output_type": "stream",
     "text": [
      "[10692 56110 48488 ... 59521 23589 35409]\n"
     ]
    }
   ],
   "source": [
    "y_1_train = np.where(y_train == 1)\n",
    "y_0_train = np.where(y_train == 0)\n",
    "index_train =np.append(y_1_train[0],y_0_train[0])\n",
    "np.random.shuffle(index_train)\n",
    "\n",
    "y_1_test = np.where(y_test == 1)\n",
    "y_0_test = np.where(y_test == 0)\n",
    "index_test =np.append(y_1_test[0],y_0_test[0])\n",
    "np.random.shuffle(index_test)\n",
    "\n",
    "\n",
    "# index\n",
    "x_train= x_train[(index_train)]\n",
    "y_train= y_train[(index_train)]\n",
    "x_test= x_test[(index_test)]\n",
    "y_test= y_test[(index_test)]\n",
    "\n",
    "print(index_train)\n"
   ]
  },
  {
   "cell_type": "code",
   "execution_count": 82,
   "metadata": {},
   "outputs": [
    {
     "data": {
      "text/plain": [
       "0"
      ]
     },
     "execution_count": 82,
     "metadata": {},
     "output_type": "execute_result"
    },
    {
     "data": {
      "image/png": "[encoded data removed]",
      "text/plain": [
       "<Figure size 432x288 with 1 Axes>"
      ]
     },
     "metadata": {
      "needs_background": "light"
     },
     "output_type": "display_data"
    }
   ],
   "source": [
    "n_samples_train = 12000\n",
    "i = np.random.randint(0, n_samples_train)\n",
    "img = Image.fromarray(x_train[i])\n",
    "plt.imshow(img)\n",
    "\n",
    "y_train[i]"
   ]
  },
  {
   "cell_type": "code",
   "execution_count": 83,
   "metadata": {},
   "outputs": [
    {
     "data": {
      "text/plain": [
       "((12000, 784), (12000, 1))"
      ]
     },
     "execution_count": 83,
     "metadata": {},
     "output_type": "execute_result"
    }
   ],
   "source": [
    "images, labels = (x_train[0:n_samples_train].reshape(n_samples_train,28*28) /255, y_train[0:n_samples_train].reshape(n_samples_train,1)) \n",
    "df = pd.DataFrame(images)\n",
    "images.shape,labels.shape"
   ]
  },
  {
   "cell_type": "code",
   "execution_count": 84,
   "metadata": {
    "scrolled": false
   },
   "outputs": [
    {
     "name": "stdout",
     "output_type": "stream",
     "text": [
      "Starting Training\n",
      "iter: 0 cost: 0.284063911288903 Accuracy: 0.54675\n",
      "----------------------------------------------------------------------\n",
      "iter: 100 cost: 0.025453206179380128 Accuracy: 0.9940833333333333\n",
      "----------------------------------------------------------------------\n",
      "iter: 200 cost: 0.012635426779857125 Accuracy: 0.9955833333333334\n",
      "----------------------------------------------------------------------\n",
      "iter: 300 cost: 0.008735962773424425 Accuracy: 0.9958333333333333\n",
      "----------------------------------------------------------------------\n",
      "iter: 400 cost: 0.006865149357090719 Accuracy: 0.99625\n",
      "----------------------------------------------------------------------\n",
      "iter: 500 cost: 0.005754808581547813 Accuracy: 0.9966666666666667\n",
      "----------------------------------------------------------------------\n",
      "iter: 600 cost: 0.005015164249641807 Accuracy: 0.997\n",
      "----------------------------------------------------------------------\n",
      "iter: 700 cost: 0.0044857139003189285 Accuracy: 0.9970833333333333\n",
      "----------------------------------------------------------------------\n",
      "iter: 800 cost: 0.004083221361658243 Accuracy: 0.99725\n",
      "----------------------------------------------------------------------\n",
      "iter: 900 cost: 0.003765563884021316 Accuracy: 0.99725\n",
      "----------------------------------------------------------------------\n",
      "iter: 1000 cost: 0.003507916131137172 Accuracy: 0.9975833333333334\n",
      "----------------------------------------------------------------------\n",
      "iter: 1100 cost: 0.0032940174742925863 Accuracy: 0.99775\n",
      "----------------------------------------------------------------------\n",
      "iter: 1200 cost: 0.0031126091528091314 Accuracy: 0.9978333333333333\n",
      "----------------------------------------------------------------------\n",
      "iter: 1300 cost: 0.0029559947481630714 Accuracy: 0.9978333333333333\n",
      "----------------------------------------------------------------------\n",
      "iter: 1400 cost: 0.002819281028367353 Accuracy: 0.9978333333333333\n",
      "----------------------------------------------------------------------\n",
      "iter: 1500 cost: 0.0026992396240252507 Accuracy: 0.99775\n",
      "----------------------------------------------------------------------\n",
      "iter: 1600 cost: 0.002592690293361699 Accuracy: 0.9978333333333333\n",
      "----------------------------------------------------------------------\n",
      "iter: 1700 cost: 0.0024979810606361 Accuracy: 0.9978333333333333\n",
      "----------------------------------------------------------------------\n",
      "iter: 1800 cost: 0.0024131058841189022 Accuracy: 0.9978333333333333\n",
      "----------------------------------------------------------------------\n",
      "iter: 1900 cost: 0.0023365061287547624 Accuracy: 0.998\n",
      "----------------------------------------------------------------------\n",
      "Training Done.\n",
      "With \n",
      "Cost: 0.002267650185157917 Accuracy: 0.9980833333333333\n"
     ]
    }
   ],
   "source": [
    "# params_ , cost_ = train(images,labels,[images.shape[1],6,4,labels.shape[1]],n_iters=2000,alpha =  0.01,lambda_=10,)\n",
    "nn_arch=[images.shape[1],6,5,labels.shape[1]]\n",
    "nn =NeuralNetwork(images,labels,nn_arch,lambda_=0)\n",
    "nn.train(True)"
   ]
  },
  {
   "cell_type": "code",
   "execution_count": 85,
   "metadata": {},
   "outputs": [
    {
     "data": {
      "image/png": "[encoded data removed]",
      "text/plain": [
       "<Figure size 432x288 with 1 Axes>"
      ]
     },
     "metadata": {
      "needs_background": "light"
     },
     "output_type": "display_data"
    }
   ],
   "source": [
    "nn.plot_cost()"
   ]
  },
  {
   "cell_type": "markdown",
   "metadata": {},
   "source": [
    "Testing the Trained Neural Network"
   ]
  },
  {
   "cell_type": "code",
   "execution_count": 86,
   "metadata": {},
   "outputs": [],
   "source": [
    "from sklearn.metrics import confusion_matrix, classification_report\n",
    "from sklearn.metrics import precision_score, recall_score ,f1_score\n"
   ]
  },
  {
   "cell_type": "code",
   "execution_count": 87,
   "metadata": {},
   "outputs": [],
   "source": [
    "n_test_samples = x_test.shape[0]\n",
    "testX = x_test.reshape(n_test_samples,28*28)/255\n",
    "testY = y_test.reshape(n_test_samples,1)\n"
   ]
  },
  {
   "cell_type": "code",
   "execution_count": 88,
   "metadata": {},
   "outputs": [
    {
     "name": "stdout",
     "output_type": "stream",
     "text": [
      "Threshold: 0.5\n",
      "-------------test set-------------\n",
      " precision: 1.0 \n",
      " recall: 0.999 \n",
      " fl score: 0.999 \n",
      " accuracy: 0.999\n"
     ]
    },
    {
     "data": {
      "image/png": "[encoded data removed]",
      "text/plain": [
       "<Figure size 432x288 with 1 Axes>"
      ]
     },
     "metadata": {
      "needs_background": "light"
     },
     "output_type": "display_data"
    },
    {
     "name": "stdout",
     "output_type": "stream",
     "text": [
      "-------------train set-------------\n",
      " precision: 0.998 \n",
      " recall: 0.997 \n",
      " fl score: 0.998 \n",
      " accuracy: 0.998\n"
     ]
    },
    {
     "data": {
      "image/png": "[encoded data removed]",
      "text/plain": [
       "<Figure size 432x288 with 1 Axes>"
      ]
     },
     "metadata": {
      "needs_background": "light"
     },
     "output_type": "display_data"
    }
   ],
   "source": [
    "thres = 0.5\n",
    "print(\"Threshold:\",str(thres))\n",
    "print(\"-------------test set-------------\")\n",
    "nn.evaluate(testX,testY,thres)\n",
    "\n",
    "print(\"-------------train set-------------\")\n",
    "nn.evaluate(images,labels,thres)\n"
   ]
  },
  {
   "cell_type": "code",
   "execution_count": 89,
   "metadata": {},
   "outputs": [
    {
     "name": "stdout",
     "output_type": "stream",
     "text": [
      "Threshold: 0.8\n",
      "-------------test set-------------\n",
      " precision: 1.0 \n",
      " recall: 0.999 \n",
      " fl score: 0.999 \n",
      " accuracy: 0.999\n"
     ]
    },
    {
     "data": {
      "image/png": "[encoded data removed]",
      "text/plain": [
       "<Figure size 432x288 with 1 Axes>"
      ]
     },
     "metadata": {
      "needs_background": "light"
     },
     "output_type": "display_data"
    },
    {
     "name": "stdout",
     "output_type": "stream",
     "text": [
      "-------------train set-------------\n",
      " precision: 0.998 \n",
      " recall: 0.997 \n",
      " fl score: 0.998 \n",
      " accuracy: 0.998\n"
     ]
    },
    {
     "data": {
      "image/png": "[encoded data removed]",
      "text/plain": [
       "<Figure size 432x288 with 1 Axes>"
      ]
     },
     "metadata": {
      "needs_background": "light"
     },
     "output_type": "display_data"
    }
   ],
   "source": [
    "thres = 0.8\n",
    "print(\"Threshold:\",str(thres))\n",
    "print(\"-------------test set-------------\")\n",
    "nn.evaluate(testX,testY,thres)\n",
    "\n",
    "print(\"-------------train set-------------\")\n",
    "nn.evaluate(images,labels,thres)"
   ]
  },
  {
   "cell_type": "code",
   "execution_count": 90,
   "metadata": {},
   "outputs": [
    {
     "name": "stdout",
     "output_type": "stream",
     "text": [
      "Threshold: 0.3\n",
      "-------------test set-------------\n",
      " precision: 1.0 \n",
      " recall: 0.999 \n",
      " fl score: 0.999 \n",
      " accuracy: 0.999\n"
     ]
    },
    {
     "data": {
      "image/png": "[encoded data removed]",
      "text/plain": [
       "<Figure size 432x288 with 1 Axes>"
      ]
     },
     "metadata": {
      "needs_background": "light"
     },
     "output_type": "display_data"
    },
    {
     "name": "stdout",
     "output_type": "stream",
     "text": [
      "-------------train set-------------\n",
      " precision: 0.998 \n",
      " recall: 0.997 \n",
      " fl score: 0.998 \n",
      " accuracy: 0.998\n"
     ]
    },
    {
     "data": {
      "image/png": "[encoded data removed]",
      "text/plain": [
       "<Figure size 432x288 with 1 Axes>"
      ]
     },
     "metadata": {
      "needs_background": "light"
     },
     "output_type": "display_data"
    }
   ],
   "source": [
    "thres = 0.3\n",
    "print(\"Threshold:\",str(thres))\n",
    "print(\"-------------test set-------------\")\n",
    "nn.evaluate(testX,testY,thres)\n",
    "\n",
    "print(\"-------------train set-------------\")\n",
    "nn.evaluate(images,labels,thres)"
   ]
  },
  {
   "cell_type": "code",
   "execution_count": 91,
   "metadata": {},
   "outputs": [
    {
     "name": "stdout",
     "output_type": "stream",
     "text": [
      "Threshold: 0.7\n",
      "-------------test set-------------\n",
      " precision: 1.0 \n",
      " recall: 0.999 \n",
      " fl score: 0.999 \n",
      " accuracy: 0.999\n"
     ]
    },
    {
     "data": {
      "image/png": "[encoded data removed]",
      "text/plain": [
       "<Figure size 432x288 with 1 Axes>"
      ]
     },
     "metadata": {
      "needs_background": "light"
     },
     "output_type": "display_data"
    },
    {
     "name": "stdout",
     "output_type": "stream",
     "text": [
      "-------------train set-------------\n",
      " precision: 0.998 \n",
      " recall: 0.997 \n",
      " fl score: 0.998 \n",
      " accuracy: 0.998\n"
     ]
    },
    {
     "data": {
      "image/png": "[encoded data removed]",
      "text/plain": [
       "<Figure size 432x288 with 1 Axes>"
      ]
     },
     "metadata": {
      "needs_background": "light"
     },
     "output_type": "display_data"
    }
   ],
   "source": [
    "thres = 0.7\n",
    "print(\"Threshold:\",str(thres))\n",
    "print(\"-------------test set-------------\")\n",
    "nn.evaluate(testX,testY,thres)\n",
    "\n",
    "print(\"-------------train set-------------\")\n",
    "nn.evaluate(images,labels,thres)"
   ]
  },
  {
   "cell_type": "code",
   "execution_count": 92,
   "metadata": {},
   "outputs": [
    {
     "name": "stdout",
     "output_type": "stream",
     "text": [
      "Threshold: 0.9\n",
      "-------------test set-------------\n",
      " precision: 1.0 \n",
      " recall: 0.999 \n",
      " fl score: 0.999 \n",
      " accuracy: 0.999\n"
     ]
    },
    {
     "data": {
      "image/png": "[encoded data removed]",
      "text/plain": [
       "<Figure size 432x288 with 1 Axes>"
      ]
     },
     "metadata": {
      "needs_background": "light"
     },
     "output_type": "display_data"
    },
    {
     "name": "stdout",
     "output_type": "stream",
     "text": [
      "-------------train set-------------\n",
      " precision: 0.998 \n",
      " recall: 0.997 \n",
      " fl score: 0.998 \n",
      " accuracy: 0.998\n"
     ]
    },
    {
     "data": {
      "image/png": "[encoded data removed]",
      "text/plain": [
       "<Figure size 432x288 with 1 Axes>"
      ]
     },
     "metadata": {
      "needs_background": "light"
     },
     "output_type": "display_data"
    }
   ],
   "source": [
    "thres = 0.9\n",
    "print(\"Threshold:\",str(thres))\n",
    "print(\"-------------test set-------------\")\n",
    "nn.evaluate(testX,testY,thres)\n",
    "\n",
    "print(\"-------------train set-------------\")\n",
    "nn.evaluate(images,labels,thres)"
   ]
  },
  {
   "cell_type": "code",
   "execution_count": null,
   "metadata": {},
   "outputs": [],
   "source": []
  },
  {
   "cell_type": "code",
   "execution_count": null,
   "metadata": {},
   "outputs": [],
   "source": []
  },
  {
   "cell_type": "code",
   "execution_count": 50,
   "metadata": {},
   "outputs": [],
   "source": [
    "(x_train_10, y_train_10), (x_test_10, y_test_10) = mnist.load_data()\n",
    "x_cross_10 = x_train_10[0:5000]\n",
    "y_cross_10 = y_train_10[0:5000]\n",
    "x_train_10 = x_train_10[5000:]\n",
    "y_train_10 = y_train_10[5000:]\n",
    "\n",
    "n_train_samples = x_train_10.shape[0]\n",
    "n_train_labels = y_train_10.shape[0]\n",
    "n_test_samples = x_test_10.shape[0]\n",
    "n_test_labels = y_test_10.shape[0]\n",
    "n_cross_samples = x_cross_10.shape[0]\n",
    "n_cross_labels = y_cross_10.shape[0]"
   ]
  },
  {
   "cell_type": "code",
   "execution_count": 59,
   "metadata": {},
   "outputs": [
    {
     "data": {
      "text/plain": [
       "((55000, 784), (55000, 10), 55000, 55000)"
      ]
     },
     "execution_count": 59,
     "metadata": {},
     "output_type": "execute_result"
    }
   ],
   "source": [
    "x_input = x_train_10.reshape(n_train_samples,28*28)/255\n",
    "y_output = y_train_10.reshape(n_train_labels,1)\n",
    "\n",
    "y_train_labels = np.zeros((n_train_labels,10))\n",
    "for i_row,j in enumerate(y_output):\n",
    "    y_train_labels[i_row][j]=1\n",
    "\n",
    "x_input.shape,y_train_labels.shape,n_train_samples,n_train_labels"
   ]
  },
  {
   "cell_type": "code",
   "execution_count": 71,
   "metadata": {},
   "outputs": [],
   "source": [
    "nn10 =NeuralNetwork(x_input,y_train_labels,[x_input.shape[1],6,4,y_train_labels.shape[1]])"
   ]
  },
  {
   "cell_type": "code",
   "execution_count": 72,
   "metadata": {},
   "outputs": [
    {
     "name": "stdout",
     "output_type": "stream",
     "text": [
      "Starting Training\n",
      "iter: 0 cost: 2.5174205532178835 Accuracy: 0.0\n",
      "----------------------------------------------------------------------\n",
      "iter: 100 cost: 1.5720365810281107 Accuracy: 0.012236363636363635\n",
      "----------------------------------------------------------------------\n",
      "iter: 200 cost: 0.9710425465987028 Accuracy: 0.0014181818181818182\n",
      "----------------------------------------------------------------------\n",
      "iter: 300 cost: 0.9150027522814834 Accuracy: 0.0\n",
      "----------------------------------------------------------------------\n",
      "iter: 400 cost: 0.9065777536009832 Accuracy: 0.0\n",
      "----------------------------------------------------------------------\n",
      "iter: 500 cost: 0.8976075037966673 Accuracy: 0.0\n",
      "----------------------------------------------------------------------\n",
      "iter: 600 cost: 0.8880042440203452 Accuracy: 0.0\n",
      "----------------------------------------------------------------------\n",
      "iter: 700 cost: 0.8787755202105244 Accuracy: 0.00012727272727272728\n",
      "----------------------------------------------------------------------\n",
      "iter: 800 cost: 0.8695948209372605 Accuracy: 0.0029636363636363636\n",
      "----------------------------------------------------------------------\n",
      "iter: 900 cost: 0.860931200202065 Accuracy: 0.009654545454545454\n",
      "----------------------------------------------------------------------\n",
      "iter: 1000 cost: 0.8533968061606966 Accuracy: 0.017763636363636363\n",
      "----------------------------------------------------------------------\n",
      "iter: 1100 cost: 0.8468316442962353 Accuracy: 0.026545454545454546\n",
      "----------------------------------------------------------------------\n",
      "iter: 1200 cost: 0.8410982202375313 Accuracy: 0.03434545454545455\n",
      "----------------------------------------------------------------------\n",
      "iter: 1300 cost: 0.8361306282695802 Accuracy: 0.0404\n",
      "----------------------------------------------------------------------\n",
      "iter: 1400 cost: 0.8318538476804231 Accuracy: 0.04556363636363636\n",
      "----------------------------------------------------------------------\n",
      "iter: 1500 cost: 0.8281830755517272 Accuracy: 0.049727272727272724\n",
      "----------------------------------------------------------------------\n",
      "iter: 1600 cost: 0.8250005139434502 Accuracy: 0.05327272727272727\n",
      "----------------------------------------------------------------------\n",
      "iter: 1700 cost: 0.8222032022891436 Accuracy: 0.05629090909090909\n",
      "----------------------------------------------------------------------\n",
      "iter: 1800 cost: 0.8197079010233034 Accuracy: 0.058727272727272725\n",
      "----------------------------------------------------------------------\n",
      "iter: 1900 cost: 0.8174379541189488 Accuracy: 0.06083636363636364\n",
      "----------------------------------------------------------------------\n",
      "Training Done.\n",
      "With \n",
      "Cost: 0.8153590042572829 Accuracy: 0.06241818181818182\n"
     ]
    }
   ],
   "source": [
    "nn10.train(True)"
   ]
  },
  {
   "cell_type": "code",
   "execution_count": 73,
   "metadata": {},
   "outputs": [
    {
     "data": {
      "image/png": "[encoded data removed]",
      "text/plain": [
       "<Figure size 432x288 with 1 Axes>"
      ]
     },
     "metadata": {
      "needs_background": "light"
     },
     "output_type": "display_data"
    }
   ],
   "source": [
    "nn10.plot_cost()"
   ]
  },
  {
   "cell_type": "code",
   "execution_count": 77,
   "metadata": {},
   "outputs": [
    {
     "data": {
      "text/plain": [
       "array([0., 0., 0., 0., 0., 0., 0., 0., 0., 0.])"
      ]
     },
     "execution_count": 77,
     "metadata": {},
     "output_type": "execute_result"
    }
   ],
   "source": [
    "nn10.predict(x_cross_10.reshape(n_cross_samples,28*28)/255,y_cross_10.reshape(n_cross_labels,1))[5]"
   ]
  },
  {
   "cell_type": "code",
   "execution_count": 80,
   "metadata": {},
   "outputs": [
    {
     "ename": "ValueError",
     "evalue": "Classification metrics can't handle a mix of multiclass and multilabel-indicator targets",
     "output_type": "error",
     "traceback": [
      "\u001b[1;31m---------------------------------------------------------------------------\u001b[0m",
      "\u001b[1;31mValueError\u001b[0m                                Traceback (most recent call last)",
      "\u001b[1;32m<ipython-input-80-44854307bf65>\u001b[0m in \u001b[0;36m<module>\u001b[1;34m\u001b[0m\n\u001b[1;32m----> 1\u001b[1;33m \u001b[0mnn10\u001b[0m\u001b[1;33m.\u001b[0m\u001b[0mevaluate\u001b[0m\u001b[1;33m(\u001b[0m\u001b[0mx_cross_10\u001b[0m\u001b[1;33m.\u001b[0m\u001b[0mreshape\u001b[0m\u001b[1;33m(\u001b[0m\u001b[0mn_cross_samples\u001b[0m\u001b[1;33m,\u001b[0m\u001b[1;36m28\u001b[0m\u001b[1;33m*\u001b[0m\u001b[1;36m28\u001b[0m\u001b[1;33m)\u001b[0m\u001b[1;33m/\u001b[0m\u001b[1;36m255\u001b[0m\u001b[1;33m,\u001b[0m\u001b[0my_cross_10\u001b[0m\u001b[1;33m.\u001b[0m\u001b[0mreshape\u001b[0m\u001b[1;33m(\u001b[0m\u001b[0mn_cross_labels\u001b[0m\u001b[1;33m,\u001b[0m\u001b[1;36m1\u001b[0m\u001b[1;33m)\u001b[0m\u001b[1;33m)\u001b[0m\u001b[1;33m\u001b[0m\u001b[1;33m\u001b[0m\u001b[0m\n\u001b[0m",
      "\u001b[1;32m<ipython-input-70-32a94bcf8cd4>\u001b[0m in \u001b[0;36mevaluate\u001b[1;34m(self, input_X, output_y, threshold)\u001b[0m\n\u001b[0;32m    139\u001b[0m     \u001b[1;32mdef\u001b[0m \u001b[0mevaluate\u001b[0m\u001b[1;33m(\u001b[0m\u001b[0mself\u001b[0m\u001b[1;33m,\u001b[0m\u001b[0minput_X\u001b[0m\u001b[1;33m,\u001b[0m\u001b[0moutput_y\u001b[0m\u001b[1;33m,\u001b[0m\u001b[0mthreshold\u001b[0m\u001b[1;33m=\u001b[0m\u001b[1;36m0.5\u001b[0m\u001b[1;33m)\u001b[0m\u001b[1;33m:\u001b[0m\u001b[1;33m\u001b[0m\u001b[1;33m\u001b[0m\u001b[0m\n\u001b[0;32m    140\u001b[0m         \u001b[0mpredictions\u001b[0m \u001b[1;33m=\u001b[0m \u001b[0mself\u001b[0m\u001b[1;33m.\u001b[0m\u001b[0mpredict\u001b[0m\u001b[1;33m(\u001b[0m\u001b[0minput_X\u001b[0m\u001b[1;33m,\u001b[0m\u001b[0mthreshold\u001b[0m\u001b[1;33m)\u001b[0m\u001b[1;33m\u001b[0m\u001b[1;33m\u001b[0m\u001b[0m\n\u001b[1;32m--> 141\u001b[1;33m         print( \" precision:\" , str(precision_score(output_y,predictions))[:5],\"\\n\",\n\u001b[0m\u001b[0;32m    142\u001b[0m         \u001b[1;34m\"recall:\"\u001b[0m\u001b[1;33m,\u001b[0m\u001b[0mstr\u001b[0m\u001b[1;33m(\u001b[0m\u001b[0mrecall_score\u001b[0m\u001b[1;33m(\u001b[0m\u001b[0moutput_y\u001b[0m\u001b[1;33m,\u001b[0m\u001b[0mpredictions\u001b[0m\u001b[1;33m)\u001b[0m\u001b[1;33m)\u001b[0m\u001b[1;33m[\u001b[0m\u001b[1;33m:\u001b[0m\u001b[1;36m5\u001b[0m\u001b[1;33m]\u001b[0m\u001b[1;33m,\u001b[0m\u001b[1;34m\"\\n\"\u001b[0m\u001b[1;33m,\u001b[0m\u001b[1;33m\u001b[0m\u001b[1;33m\u001b[0m\u001b[0m\n\u001b[0;32m    143\u001b[0m         \u001b[1;34m\"fl score:\"\u001b[0m\u001b[1;33m,\u001b[0m\u001b[0mstr\u001b[0m\u001b[1;33m(\u001b[0m\u001b[0mf1_score\u001b[0m\u001b[1;33m(\u001b[0m\u001b[0moutput_y\u001b[0m\u001b[1;33m,\u001b[0m\u001b[0mpredictions\u001b[0m\u001b[1;33m)\u001b[0m\u001b[1;33m)\u001b[0m\u001b[1;33m[\u001b[0m\u001b[1;33m:\u001b[0m\u001b[1;36m5\u001b[0m\u001b[1;33m]\u001b[0m\u001b[1;33m,\u001b[0m\u001b[1;34m\"\\n\"\u001b[0m\u001b[1;33m,\u001b[0m\u001b[1;33m\u001b[0m\u001b[1;33m\u001b[0m\u001b[0m\n",
      "\u001b[1;32m~\\anaconda3\\lib\\site-packages\\sklearn\\metrics\\_classification.py\u001b[0m in \u001b[0;36mprecision_score\u001b[1;34m(y_true, y_pred, labels, pos_label, average, sample_weight, zero_division)\u001b[0m\n\u001b[0;32m   1670\u001b[0m                                                  \u001b[0mwarn_for\u001b[0m\u001b[1;33m=\u001b[0m\u001b[1;33m(\u001b[0m\u001b[1;34m'precision'\u001b[0m\u001b[1;33m,\u001b[0m\u001b[1;33m)\u001b[0m\u001b[1;33m,\u001b[0m\u001b[1;33m\u001b[0m\u001b[1;33m\u001b[0m\u001b[0m\n\u001b[0;32m   1671\u001b[0m                                                  \u001b[0msample_weight\u001b[0m\u001b[1;33m=\u001b[0m\u001b[0msample_weight\u001b[0m\u001b[1;33m,\u001b[0m\u001b[1;33m\u001b[0m\u001b[1;33m\u001b[0m\u001b[0m\n\u001b[1;32m-> 1672\u001b[1;33m                                                  zero_division=zero_division)\n\u001b[0m\u001b[0;32m   1673\u001b[0m     \u001b[1;32mreturn\u001b[0m \u001b[0mp\u001b[0m\u001b[1;33m\u001b[0m\u001b[1;33m\u001b[0m\u001b[0m\n\u001b[0;32m   1674\u001b[0m \u001b[1;33m\u001b[0m\u001b[0m\n",
      "\u001b[1;32m~\\anaconda3\\lib\\site-packages\\sklearn\\metrics\\_classification.py\u001b[0m in \u001b[0;36mprecision_recall_fscore_support\u001b[1;34m(y_true, y_pred, beta, labels, pos_label, average, warn_for, sample_weight, zero_division)\u001b[0m\n\u001b[0;32m   1482\u001b[0m         \u001b[1;32mraise\u001b[0m \u001b[0mValueError\u001b[0m\u001b[1;33m(\u001b[0m\u001b[1;34m\"beta should be >=0 in the F-beta score\"\u001b[0m\u001b[1;33m)\u001b[0m\u001b[1;33m\u001b[0m\u001b[1;33m\u001b[0m\u001b[0m\n\u001b[0;32m   1483\u001b[0m     labels = _check_set_wise_labels(y_true, y_pred, average, labels,\n\u001b[1;32m-> 1484\u001b[1;33m                                     pos_label)\n\u001b[0m\u001b[0;32m   1485\u001b[0m \u001b[1;33m\u001b[0m\u001b[0m\n\u001b[0;32m   1486\u001b[0m     \u001b[1;31m# Calculate tp_sum, pred_sum, true_sum ###\u001b[0m\u001b[1;33m\u001b[0m\u001b[1;33m\u001b[0m\u001b[1;33m\u001b[0m\u001b[0m\n",
      "\u001b[1;32m~\\anaconda3\\lib\\site-packages\\sklearn\\metrics\\_classification.py\u001b[0m in \u001b[0;36m_check_set_wise_labels\u001b[1;34m(y_true, y_pred, average, labels, pos_label)\u001b[0m\n\u001b[0;32m   1299\u001b[0m                          str(average_options))\n\u001b[0;32m   1300\u001b[0m \u001b[1;33m\u001b[0m\u001b[0m\n\u001b[1;32m-> 1301\u001b[1;33m     \u001b[0my_type\u001b[0m\u001b[1;33m,\u001b[0m \u001b[0my_true\u001b[0m\u001b[1;33m,\u001b[0m \u001b[0my_pred\u001b[0m \u001b[1;33m=\u001b[0m \u001b[0m_check_targets\u001b[0m\u001b[1;33m(\u001b[0m\u001b[0my_true\u001b[0m\u001b[1;33m,\u001b[0m \u001b[0my_pred\u001b[0m\u001b[1;33m)\u001b[0m\u001b[1;33m\u001b[0m\u001b[1;33m\u001b[0m\u001b[0m\n\u001b[0m\u001b[0;32m   1302\u001b[0m     \u001b[0mpresent_labels\u001b[0m \u001b[1;33m=\u001b[0m \u001b[0munique_labels\u001b[0m\u001b[1;33m(\u001b[0m\u001b[0my_true\u001b[0m\u001b[1;33m,\u001b[0m \u001b[0my_pred\u001b[0m\u001b[1;33m)\u001b[0m\u001b[1;33m\u001b[0m\u001b[1;33m\u001b[0m\u001b[0m\n\u001b[0;32m   1303\u001b[0m     \u001b[1;32mif\u001b[0m \u001b[0maverage\u001b[0m \u001b[1;33m==\u001b[0m \u001b[1;34m'binary'\u001b[0m\u001b[1;33m:\u001b[0m\u001b[1;33m\u001b[0m\u001b[1;33m\u001b[0m\u001b[0m\n",
      "\u001b[1;32m~\\anaconda3\\lib\\site-packages\\sklearn\\metrics\\_classification.py\u001b[0m in \u001b[0;36m_check_targets\u001b[1;34m(y_true, y_pred)\u001b[0m\n\u001b[0;32m     88\u001b[0m     \u001b[1;32mif\u001b[0m \u001b[0mlen\u001b[0m\u001b[1;33m(\u001b[0m\u001b[0my_type\u001b[0m\u001b[1;33m)\u001b[0m \u001b[1;33m>\u001b[0m \u001b[1;36m1\u001b[0m\u001b[1;33m:\u001b[0m\u001b[1;33m\u001b[0m\u001b[1;33m\u001b[0m\u001b[0m\n\u001b[0;32m     89\u001b[0m         raise ValueError(\"Classification metrics can't handle a mix of {0} \"\n\u001b[1;32m---> 90\u001b[1;33m                          \"and {1} targets\".format(type_true, type_pred))\n\u001b[0m\u001b[0;32m     91\u001b[0m \u001b[1;33m\u001b[0m\u001b[0m\n\u001b[0;32m     92\u001b[0m     \u001b[1;31m# We can't have more than one value on y_type => The set is no more needed\u001b[0m\u001b[1;33m\u001b[0m\u001b[1;33m\u001b[0m\u001b[1;33m\u001b[0m\u001b[0m\n",
      "\u001b[1;31mValueError\u001b[0m: Classification metrics can't handle a mix of multiclass and multilabel-indicator targets"
     ]
    }
   ],
   "source": [
    "nn10.evaluate(x_cross_10.reshape(n_cross_samples,28*28)/255,y_cross_10.reshape(n_cross_labels,1))"
   ]
  },
  {
   "cell_type": "code",
   "execution_count": null,
   "metadata": {},
   "outputs": [],
   "source": []
  }
 ],
 "metadata": {
  "kernelspec": {
   "display_name": "Python 3",
   "language": "python",
   "name": "python3"
  },
  "language_info": {
   "codemirror_mode": {
    "name": "ipython",
    "version": 3
   },
   "file_extension": ".py",
   "mimetype": "text/x-python",
   "name": "python",
   "nbconvert_exporter": "python",
   "pygments_lexer": "ipython3",
   "version": "3.7.6"
  }
 },
 "nbformat": 4,
 "nbformat_minor": 4
}
