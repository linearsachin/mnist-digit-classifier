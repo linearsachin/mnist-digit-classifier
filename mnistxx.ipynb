{
 "cells": [
  {
   "cell_type": "code",
   "execution_count": 1,
   "metadata": {},
   "outputs": [],
   "source": [
    "import pandas as pd\n",
    "import numpy as np\n",
    "import matplotlib.pyplot as plt\n",
    "import matplotlib.image as mpimg\n",
    "from PIL import Image\n",
    "\n",
    "\n",
    "%matplotlib inline\n"
   ]
  },
  {
   "cell_type": "code",
   "execution_count": 220,
   "metadata": {},
   "outputs": [],
   "source": [
    "class NeuralNetwork():\n",
    "    def __init__(self,X,Y,nn_layers,n_iters=2000,alpha = 0.01,lambda_=10):\n",
    "        self.X = X\n",
    "        self.Y = Y\n",
    "        self.nn_layers= nn_layers\n",
    "        self.n_iters= n_iters\n",
    "        self.alpha= alpha\n",
    "        self.lambda_= lambda_\n",
    "        self.params = self.random_weights_initialization(nn_layers)\n",
    "        self.fp_cache = None\n",
    "        self.cost = None\n",
    "        \n",
    "    def tanh(self,z):\n",
    "        return np.tanh(z)\n",
    "    def sigmoid(self,z):\n",
    "        return 1 / (1+np.exp(-z))\n",
    "    def sigmoid_deriv(self,z):# z --> sigmoid(Z)\n",
    "        return z * (1-z)\n",
    "    def tanh_deriv(self,z): # z --> tanh(Z)\n",
    "        return 1 - (z)**2\n",
    "    def relu(self,Z):\n",
    "        z_copy = np.array(Z,copy=True)\n",
    "        return np.maximum(0,z_copy)\n",
    "    def relu_backward(self,dA, Z):\n",
    "        dZ = np.array(dA, copy = True)\n",
    "        dZ[Z <= 0] = 0\n",
    "        return dZ\n",
    "    def softmax(self,u):\n",
    "        return np.exp(u) / np.sum(np.exp(u), axis=0, keepdims=True)\n",
    "    def random_weights_initialization(self,n_layers):\n",
    "        params = {}\n",
    "\n",
    "        # n_layers --> (len-1) is no of layers and elements of list are no of neurons in (index+1)th layer\n",
    "\n",
    "        for i in range(1,len(n_layers)):\n",
    "            params[\"W\"+str(i)] = np.random.randn(n_layers[i-1],n_layers[i])  * np.sqrt(2/n_layers[i-1])\n",
    "            params[\"b\"+str(i)] = b3 = np.zeros((1,n_layers[i]))\n",
    "\n",
    "        return params\n",
    "    \n",
    "    \n",
    "    \n",
    "    def forward_prop(self,input_X,parameters):   \n",
    "        cache = {\n",
    "            \"A0\":input_X\n",
    "        }\n",
    "        last_index = int(len(parameters)/2)\n",
    "        for i in range(1,last_index):\n",
    "            cache[\"Z\"+str(i)] = np.dot(cache[\"A\"+str(i-1)],parameters[\"W\"+str(i)]) + parameters[\"b\"+str(i)]\n",
    "            cache[\"A\"+str(i)] = self.relu(cache[\"Z\"+str(i)])\n",
    "\n",
    "        cache[\"Z\"+str(last_index)] = np.dot(cache[\"A\"+str(last_index-1)],\n",
    "                                            parameters[\"W\"+str(last_index)])  + parameters[\"b\"+str(last_index)]\n",
    "        cache[\"A\"+str(last_index)] = self.sigmoid(cache[\"Z\"+str(last_index)])\n",
    "        self.fp_cache=cache\n",
    "        return cache[\"A\"+str(last_index)],cache\n",
    "    \n",
    "    \n",
    "    def compute_cost(self,pred_output,actual_output,parameters,lamdba):    \n",
    "        A = pred_output\n",
    "        y =actual_output\n",
    "        m = y.shape[0]\n",
    "        norm=0\n",
    "        for i in range(1,int(len(parameters)/2)):\n",
    "            norm += np.linalg.norm(parameters[\"W\"+str(i)])\n",
    "\n",
    "        cost_ =  (1./m)* np.sum((A-y)**2) + (lamdba * norm)/(2*m)\n",
    "        return np.squeeze(cost_)\n",
    "\n",
    "\n",
    "    def get_accuracy_value(self,Y_hat, Y):\n",
    "        testing = Y_hat.copy()\n",
    "        if Y_hat.shape[1]<=1:\n",
    "            testing[Y_hat>0.5]= 1 \n",
    "            testing[Y_hat <= 0.5]=0 \n",
    "        else:\n",
    "            testing = np.argmax(Y_hat,axis=1).reshape(Y.shape[0],1)\n",
    "            Y = np.argmax(Y,axis=1).reshape(Y.shape[0],1)\n",
    "#         print(testing.T,Y.T)\n",
    "#         print(testing.shape,Y.shape)\n",
    "        return (testing == Y).all(axis=1).mean()\n",
    "    \n",
    "    def backward_prop(self,Y,cache,parameters):\n",
    "\n",
    "        last_index = int(len(parameters)/2)\n",
    "        m = Y.shape[0]\n",
    "        back_cache = {}\n",
    "\n",
    "        delta3  = 2*(cache[\"A\"+str(last_index)] - Y) * self.sigmoid_deriv(cache[\"A\"+str(last_index)])\n",
    "        back_cache[\"dW\"+str(last_index)] = (np.dot(cache[\"A\"+str(last_index-1)].T,delta3)/ m ) + (self.lambda_ / (2 *m)) * parameters[\"W\"+str(last_index)]\n",
    "        back_cache[\"db\"+str(last_index)] =np.sum(delta3,axis=0,keepdims=True)/ m \n",
    "\n",
    "        delta = delta3\n",
    "        for i in reversed(range(1,last_index)):\n",
    "            delta =self.relu_backward(np.dot(delta,parameters[\"W\"+str(i+1)].T),cache[\"Z\"+str(i)])\n",
    "            back_cache[\"dW\"+str(i)] = (np.dot(cache[\"A\"+str(i-1)].T,delta) / m) + (self.lambda_ / (2 *m)) * parameters[\"W\"+str(i)]\n",
    "            back_cache[\"db\"+str(i)] = np.sum(delta,axis=0,keepdims=True)/ m\n",
    "\n",
    "        for i in range(1,(last_index)):\n",
    "            assert (parameters[\"W\"+str(i)].shape == back_cache[\"dW\"+str(i)].shape) \n",
    "\n",
    "        return back_cache\n",
    "    \n",
    "    def update_params(self,params,backward_cache,learning_rate,lamdba,m):\n",
    "        ferb = (learning_rate * lamdba)/m\n",
    "        last_index = int(len(params)/2)\n",
    "        for i in range(1,last_index+1):\n",
    "            params[\"W\"+str(i)] = (1-ferb)*params[\"W\"+str(i)]- (learning_rate * backward_cache[\"dW\"+str(i)])\n",
    "            params[\"b\"+str(i)] = params[\"b\"+str(i)]- (learning_rate * backward_cache[\"db\"+str(i)])\n",
    "        return params\n",
    "    \n",
    "    def train(self,print_cost=False):    \n",
    "        params  = self.random_weights_initialization(self.nn_layers)\n",
    "        J_cost =[]\n",
    "        print(\"Starting Training\")\n",
    "        for i in range(self.n_iters):\n",
    "\n",
    "            A3,cache = self.forward_prop(self.X,params)\n",
    "            J = self.compute_cost(A3,self.Y,params,self.lambda_)\n",
    "            J_cost.append(J)\n",
    "            if print_cost:\n",
    "                if (i%100 == 0):\n",
    "                    print(\"iter:\",str(i),\"cost:\",str(J),\"Accuracy:\",str(self.get_accuracy_value(A3,self.Y)))\n",
    "                    print(\"----------------------------------------------------------------------\")\n",
    "\n",
    "            back_cache = self.backward_prop(self.Y,cache,params)\n",
    "\n",
    "            self.params  = self.update_params(params,back_cache,self.alpha,self.lambda_,self.X.shape[0])\n",
    "        self.cost  = J_cost\n",
    "        print(\"Training Done.\")\n",
    "        print(\"With \\n\" + \"Cost: \"+str(J)+\" Accuracy: \"+str(self.get_accuracy_value(A3,self.Y)))\n",
    "        \n",
    "\n",
    "    \n",
    "    def predict(self,testX,threshold=0.5):    \n",
    "        a,_ = self.forward_prop(testX,self.params)\n",
    "        output = np.array(a,copy=True)\n",
    "        if a.shape[1]<=1:\n",
    "            output[output > threshold] = 1\n",
    "            output[output <= threshold] = 0   \n",
    "        else:\n",
    "            output = np.argmax(a,axis=1).reshape(testX.shape[0],1)\n",
    "\n",
    "        return output\n",
    "    \n",
    "    def evaluate(self,input_X,output_y,threshold=0.5):\n",
    "        predictions = self.predict(input_X,threshold)\n",
    "        print( \" precision:\" , str(precision_score(output_y,predictions,average='micro'))[:5],\"\\n\",\n",
    "        \"recall:\",str(recall_score(output_y,predictions,average='micro'))[:5],\"\\n\",\n",
    "        \"fl score:\",str(f1_score(output_y,predictions,average='micro'))[:5],\"\\n\",\n",
    "        \"accuracy:\",str((predictions == output_y).all(axis=1).mean())[:5])\n",
    "        results = confusion_matrix(output_y,predictions,average='micro')\n",
    "        fig, ax = plt.subplots()\n",
    "        ax.matshow(results)\n",
    "        for (i, j), z in np.ndenumerate(results):\n",
    "            ax.text(j, i, '{:0.1f}'.format(z), ha='center', va='center',\n",
    "                    bbox=dict(boxstyle='round', facecolor='white', edgecolor='0.3'))\n",
    "        plt.show()\n",
    "    \n",
    "    def plot_cost(self):\n",
    "        plt.plot(np.arange(len(self.cost)),self.cost)\n",
    "        plt.xlabel(\"Number of Iterations\")\n",
    "        plt.ylabel(\"Cost\")\n",
    "        plt.show()"
   ]
  },
  {
   "cell_type": "code",
   "execution_count": 161,
   "metadata": {},
   "outputs": [],
   "source": [
    "import sys, numpy as np \n",
    "from keras.datasets import mnist\n",
    "(x_train, y_train), (x_test, y_test) = mnist.load_data()\n"
   ]
  },
  {
   "cell_type": "markdown",
   "metadata": {},
   "source": [
    "Getting the Data for 1 and 0 to classify:"
   ]
  },
  {
   "cell_type": "code",
   "execution_count": 162,
   "metadata": {},
   "outputs": [
    {
     "name": "stdout",
     "output_type": "stream",
     "text": [
      "[15583 47406 27737 ...  9196 18572 10849]\n"
     ]
    }
   ],
   "source": [
    "y_1_train = np.where(y_train == 1)\n",
    "y_0_train = np.where(y_train == 0)\n",
    "index_train =np.append(y_1_train[0],y_0_train[0])\n",
    "np.random.shuffle(index_train)\n",
    "\n",
    "y_1_test = np.where(y_test == 1)\n",
    "y_0_test = np.where(y_test == 0)\n",
    "index_test =np.append(y_1_test[0],y_0_test[0])\n",
    "np.random.shuffle(index_test)\n",
    "\n",
    "\n",
    "# index\n",
    "x_train= x_train[(index_train)]\n",
    "y_train= y_train[(index_train)]\n",
    "x_test= x_test[(index_test)]\n",
    "y_test= y_test[(index_test)]\n",
    "\n",
    "print(index_train)\n"
   ]
  },
  {
   "cell_type": "code",
   "execution_count": 163,
   "metadata": {},
   "outputs": [
    {
     "data": {
      "text/plain": [
       "0"
      ]
     },
     "execution_count": 163,
     "metadata": {},
     "output_type": "execute_result"
    },
    {
     "data": {
      "image/png": "[encoded data removed]",
      "text/plain": [
       "<Figure size 432x288 with 1 Axes>"
      ]
     },
     "metadata": {
      "needs_background": "light"
     },
     "output_type": "display_data"
    }
   ],
   "source": [
    "n_samples_train = 12000\n",
    "i = np.random.randint(0, n_samples_train)\n",
    "img = Image.fromarray(x_train[i])\n",
    "plt.imshow(img)\n",
    "\n",
    "y_train[i]"
   ]
  },
  {
   "cell_type": "code",
   "execution_count": 164,
   "metadata": {},
   "outputs": [
    {
     "data": {
      "text/plain": [
       "((12000, 784), (12000, 1))"
      ]
     },
     "execution_count": 164,
     "metadata": {},
     "output_type": "execute_result"
    }
   ],
   "source": [
    "images, labels = (x_train[0:n_samples_train].reshape(n_samples_train,28*28) /255, y_train[0:n_samples_train].reshape(n_samples_train,1)) \n",
    "df = pd.DataFrame(images)\n",
    "images.shape,labels.shape"
   ]
  },
  {
   "cell_type": "code",
   "execution_count": 212,
   "metadata": {
    "scrolled": false
   },
   "outputs": [
    {
     "name": "stdout",
     "output_type": "stream",
     "text": [
      "Starting Training\n",
      "iter: 0 cost: 0.32018386709424185 Accuracy: 0.25025\n",
      "----------------------------------------------------------------------\n",
      "iter: 100 cost: 0.04813601100182163 Accuracy: 0.9946666666666667\n",
      "----------------------------------------------------------------------\n",
      "iter: 200 cost: 0.035973128105535546 Accuracy: 0.997\n",
      "----------------------------------------------------------------------\n",
      "iter: 300 cost: 0.032703980628387724 Accuracy: 0.9973333333333333\n",
      "----------------------------------------------------------------------\n",
      "iter: 400 cost: 0.03090121748399404 Accuracy: 0.9975\n",
      "----------------------------------------------------------------------\n",
      "iter: 500 cost: 0.029612114517635173 Accuracy: 0.9976666666666667\n",
      "----------------------------------------------------------------------\n",
      "iter: 600 cost: 0.028574185728120656 Accuracy: 0.998\n",
      "----------------------------------------------------------------------\n",
      "iter: 700 cost: 0.027681948298250575 Accuracy: 0.998\n",
      "----------------------------------------------------------------------\n",
      "iter: 800 cost: 0.02688907430738654 Accuracy: 0.99825\n",
      "----------------------------------------------------------------------\n",
      "iter: 900 cost: 0.026170142562633107 Accuracy: 0.99825\n",
      "----------------------------------------------------------------------\n",
      "iter: 1000 cost: 0.025509444759154374 Accuracy: 0.99825\n",
      "----------------------------------------------------------------------\n",
      "iter: 1100 cost: 0.024893213232744044 Accuracy: 0.99825\n",
      "----------------------------------------------------------------------\n",
      "iter: 1200 cost: 0.024315350760896415 Accuracy: 0.99825\n",
      "----------------------------------------------------------------------\n",
      "iter: 1300 cost: 0.02376971109817375 Accuracy: 0.99825\n",
      "----------------------------------------------------------------------\n",
      "iter: 1400 cost: 0.02325443375804785 Accuracy: 0.99825\n",
      "----------------------------------------------------------------------\n",
      "iter: 1500 cost: 0.02276862015380777 Accuracy: 0.9981666666666666\n",
      "----------------------------------------------------------------------\n",
      "iter: 1600 cost: 0.022308692406324174 Accuracy: 0.9981666666666666\n",
      "----------------------------------------------------------------------\n",
      "iter: 1700 cost: 0.02187188793563616 Accuracy: 0.9981666666666666\n",
      "----------------------------------------------------------------------\n",
      "iter: 1800 cost: 0.02145731110708929 Accuracy: 0.9981666666666666\n",
      "----------------------------------------------------------------------\n",
      "iter: 1900 cost: 0.021064121084261974 Accuracy: 0.9981666666666666\n",
      "----------------------------------------------------------------------\n",
      "Training Done.\n",
      "With \n",
      "Cost: 0.02069431432654924 Accuracy: 0.9981666666666666\n"
     ]
    }
   ],
   "source": [
    "# params_ , cost_ = train(images,labels,[images.shape[1],6,4,labels.shape[1]],n_iters=2000,alpha =  0.01,lambda_=10,)\n",
    "nn_arch=[images.shape[1],6,5,labels.shape[1]]\n",
    "nn =NeuralNetwork(images,labels,nn_arch,alpha=0.03,lambda_=100)\n",
    "nn.train(True)"
   ]
  },
  {
   "cell_type": "code",
   "execution_count": 213,
   "metadata": {},
   "outputs": [
    {
     "data": {
      "image/png": "[encoded data removed]",
      "text/plain": [
       "<Figure size 432x288 with 1 Axes>"
      ]
     },
     "metadata": {
      "needs_background": "light"
     },
     "output_type": "display_data"
    }
   ],
   "source": [
    "nn.plot_cost()"
   ]
  },
  {
   "cell_type": "markdown",
   "metadata": {},
   "source": [
    "Testing the Trained Neural Network"
   ]
  },
  {
   "cell_type": "code",
   "execution_count": 167,
   "metadata": {},
   "outputs": [],
   "source": [
    "from sklearn.metrics import confusion_matrix, classification_report\n",
    "from sklearn.metrics import precision_score, recall_score ,f1_score\n"
   ]
  },
  {
   "cell_type": "code",
   "execution_count": 168,
   "metadata": {},
   "outputs": [],
   "source": [
    "n_test_samples = x_test.shape[0]\n",
    "testX = x_test.reshape(n_test_samples,28*28)/255\n",
    "testY = y_test.reshape(n_test_samples,1)\n"
   ]
  },
  {
   "cell_type": "code",
   "execution_count": 169,
   "metadata": {},
   "outputs": [
    {
     "name": "stdout",
     "output_type": "stream",
     "text": [
      "Threshold: 0.5\n",
      "-------------test set-------------\n",
      " precision: 0.995 \n",
      " recall: 1.0 \n",
      " fl score: 0.997 \n",
      " accuracy: 0.997\n"
     ]
    },
    {
     "data": {
      "image/png": "[encoded data removed]",
      "text/plain": [
       "<Figure size 432x288 with 1 Axes>"
      ]
     },
     "metadata": {
      "needs_background": "light"
     },
     "output_type": "display_data"
    },
    {
     "name": "stdout",
     "output_type": "stream",
     "text": [
      "-------------train set-------------\n",
      " precision: 0.994 \n",
      " recall: 0.998 \n",
      " fl score: 0.996 \n",
      " accuracy: 0.996\n"
     ]
    },
    {
     "data": {
      "image/png": "[encoded data removed]",
      "text/plain": [
       "<Figure size 432x288 with 1 Axes>"
      ]
     },
     "metadata": {
      "needs_background": "light"
     },
     "output_type": "display_data"
    }
   ],
   "source": [
    "thres = 0.5\n",
    "print(\"Threshold:\",str(thres))\n",
    "print(\"-------------test set-------------\")\n",
    "nn.evaluate(testX,testY,thres)\n",
    "\n",
    "print(\"-------------train set-------------\")\n",
    "nn.evaluate(images,labels,thres)\n"
   ]
  },
  {
   "cell_type": "code",
   "execution_count": 170,
   "metadata": {},
   "outputs": [
    {
     "name": "stdout",
     "output_type": "stream",
     "text": [
      "Threshold: 0.8\n",
      "-------------test set-------------\n",
      " precision: 1.0 \n",
      " recall: 0.136 \n",
      " fl score: 0.240 \n",
      " accuracy: 0.536\n"
     ]
    },
    {
     "data": {
      "image/png": "[encoded data removed]",
      "text/plain": [
       "<Figure size 432x288 with 1 Axes>"
      ]
     },
     "metadata": {
      "needs_background": "light"
     },
     "output_type": "display_data"
    },
    {
     "name": "stdout",
     "output_type": "stream",
     "text": [
      "-------------train set-------------\n",
      " precision: 1.0 \n",
      " recall: 0.114 \n",
      " fl score: 0.204 \n",
      " accuracy: 0.527\n"
     ]
    },
    {
     "data": {
      "image/png": "[encoded data removed]",
      "text/plain": [
       "<Figure size 432x288 with 1 Axes>"
      ]
     },
     "metadata": {
      "needs_background": "light"
     },
     "output_type": "display_data"
    }
   ],
   "source": [
    "thres = 0.8\n",
    "print(\"Threshold:\",str(thres))\n",
    "print(\"-------------test set-------------\")\n",
    "nn.evaluate(testX,testY,thres)\n",
    "\n",
    "print(\"-------------train set-------------\")\n",
    "nn.evaluate(images,labels,thres)"
   ]
  },
  {
   "cell_type": "code",
   "execution_count": 171,
   "metadata": {},
   "outputs": [
    {
     "name": "stdout",
     "output_type": "stream",
     "text": [
      "Threshold: 0.3\n",
      "-------------test set-------------\n",
      " precision: 0.920 \n",
      " recall: 1.0 \n",
      " fl score: 0.958 \n",
      " accuracy: 0.953\n"
     ]
    },
    {
     "data": {
      "image/png": "[encoded data removed]",
      "text/plain": [
       "<Figure size 432x288 with 1 Axes>"
      ]
     },
     "metadata": {
      "needs_background": "light"
     },
     "output_type": "display_data"
    },
    {
     "name": "stdout",
     "output_type": "stream",
     "text": [
      "-------------train set-------------\n",
      " precision: 0.904 \n",
      " recall: 1.0 \n",
      " fl score: 0.950 \n",
      " accuracy: 0.943\n"
     ]
    },
    {
     "data": {
      "image/png": "[encoded data removed]",
      "text/plain": [
       "<Figure size 432x288 with 1 Axes>"
      ]
     },
     "metadata": {
      "needs_background": "light"
     },
     "output_type": "display_data"
    }
   ],
   "source": [
    "thres = 0.3\n",
    "print(\"Threshold:\",str(thres))\n",
    "print(\"-------------test set-------------\")\n",
    "nn.evaluate(testX,testY,thres)\n",
    "\n",
    "print(\"-------------train set-------------\")\n",
    "nn.evaluate(images,labels,thres)"
   ]
  },
  {
   "cell_type": "code",
   "execution_count": null,
   "metadata": {},
   "outputs": [],
   "source": []
  },
  {
   "cell_type": "code",
   "execution_count": 221,
   "metadata": {},
   "outputs": [],
   "source": [
    "(x_train_10, y_train_10), (x_test_10, y_test_10) = mnist.load_data()\n",
    "x_cross_10 = x_train_10[0:5000]\n",
    "y_cross_10 = y_train_10[0:5000]\n",
    "x_train_10 = x_train_10[5000:]\n",
    "y_train_10 = y_train_10[5000:]\n",
    "\n",
    "n_train_samples = x_train_10.shape[0]\n",
    "n_train_labels = y_train_10.shape[0]\n",
    "n_test_samples = x_test_10.shape[0]\n",
    "n_test_labels = y_test_10.shape[0]\n",
    "n_cross_samples = x_cross_10.shape[0]\n",
    "n_cross_labels = y_cross_10.shape[0]"
   ]
  },
  {
   "cell_type": "code",
   "execution_count": 222,
   "metadata": {},
   "outputs": [
    {
     "data": {
      "text/plain": [
       "((55000, 784), (55000, 1))"
      ]
     },
     "execution_count": 222,
     "metadata": {},
     "output_type": "execute_result"
    }
   ],
   "source": [
    "x_input = x_train_10.reshape(n_train_samples,28*28)/255\n",
    "y_output = y_train_10.reshape(n_train_labels,1)\n",
    "\n",
    "y_train_labels = np.zeros((n_train_labels,10))\n",
    "for i_row,j in enumerate(y_output):\n",
    "    y_train_labels[i_row][j]=1\n",
    "        \n",
    "x_input.shape,y_output.shape"
   ]
  },
  {
   "cell_type": "code",
   "execution_count": 224,
   "metadata": {},
   "outputs": [
    {
     "data": {
      "text/plain": [
       "{'W1': array([[ 0.1075901 , -0.06281268,  0.02382215, ..., -0.04190399,\n",
       "          0.04273909,  0.03526387],\n",
       "        [-0.04156662,  0.03643117, -0.09651428, ..., -0.00688117,\n",
       "          0.04526941, -0.0573232 ],\n",
       "        [ 0.0711191 ,  0.07260157, -0.04055945, ..., -0.03337422,\n",
       "          0.06996544, -0.11713906],\n",
       "        ...,\n",
       "        [ 0.10125822,  0.07909065,  0.11208726, ...,  0.08675186,\n",
       "         -0.10220702,  0.00952073],\n",
       "        [ 0.13781244, -0.02166347,  0.05159886, ...,  0.01456695,\n",
       "         -0.04641018, -0.01473903],\n",
       "        [ 0.00900316, -0.03663123, -0.01324888, ...,  0.03869005,\n",
       "         -0.11043899, -0.05895121]]),\n",
       " 'b1': array([[0., 0., 0., 0., 0., 0., 0., 0., 0., 0., 0., 0.]]),\n",
       " 'W2': array([[-0.15003073,  0.45304366, -0.49848882, -0.21138977,  0.53052531,\n",
       "         -0.53672174, -0.01809039, -0.31676441,  0.0963656 ,  0.06706046],\n",
       "        [-1.07819586,  0.51643994, -0.20853928,  0.42209212, -0.36782143,\n",
       "          0.21576732, -0.39502417,  0.22981575,  0.03461841, -0.21935661],\n",
       "        [ 0.70413236,  0.22693011,  0.20425982,  0.29686863, -0.49700453,\n",
       "         -0.05799381, -0.49291447, -0.67101621, -0.06957355,  0.03992613],\n",
       "        [ 0.07384977,  0.01715485,  0.1566734 , -0.16141304, -0.13109412,\n",
       "         -0.2210426 , -0.41855705,  0.27587589,  0.43554185,  0.20302657],\n",
       "        [ 0.41701511,  0.20781898, -0.277388  , -0.2483214 , -0.39889538,\n",
       "         -0.19209892, -0.18740059, -0.27567859,  0.15702258, -0.27482986],\n",
       "        [-0.67594144,  0.43692075, -0.01360093, -0.44487455, -0.41253695,\n",
       "         -0.05983238,  0.15859272, -0.23609323,  0.29949956, -0.57609112],\n",
       "        [-0.42469274,  0.5915505 , -0.05389127,  0.00757429,  0.14177314,\n",
       "          0.31039587, -0.51050723,  0.82528084,  0.72412417, -0.58877581],\n",
       "        [-0.60376041, -0.60439337,  0.63811839, -0.03413489, -0.84810489,\n",
       "         -0.20894115,  0.28615759,  0.61027493,  0.36483115, -0.22962333],\n",
       "        [-0.35149701, -0.22162229, -0.29761126, -0.14130686,  0.04205261,\n",
       "          0.18813182, -0.64623156,  0.71885478, -0.38375114,  0.07335404],\n",
       "        [ 0.41263677,  0.77230008, -0.0855808 , -0.4142131 , -0.05978943,\n",
       "         -0.43322719,  1.1471164 ,  0.03952695,  0.63395984,  0.01836569],\n",
       "        [-0.47285382,  0.57949172,  0.14804664,  0.3147152 ,  0.22822609,\n",
       "         -0.32628119,  0.12744918, -0.23278032, -0.2669945 , -0.11569589],\n",
       "        [-0.07237178,  0.03359946, -0.19462863,  0.70622189, -0.07002644,\n",
       "         -0.92859604, -0.35896358, -0.05515973,  0.22954357, -0.09858267]]),\n",
       " 'b2': array([[0., 0., 0., 0., 0., 0., 0., 0., 0., 0.]]),\n",
       " 'W3': array([[-0.00642075,  0.33076024,  0.6163671 , -0.47795768, -0.01656442,\n",
       "         -0.4781568 ,  0.33089145, -0.10742869, -0.00181127,  0.23199481],\n",
       "        [-0.20320094, -0.54390864,  0.12492537,  0.14375449, -0.85921744,\n",
       "          0.06969255,  0.12324729,  0.01443682, -0.29500729, -0.05688719],\n",
       "        [ 0.79834307,  0.24494137, -0.68715116,  0.36565669, -0.00219247,\n",
       "          0.16277345, -0.12763754,  0.4118254 ,  0.36341508,  0.37057948],\n",
       "        [-0.08463097,  0.16032722,  1.29693502,  0.26206364, -0.35816196,\n",
       "         -0.55578167, -1.20516144, -0.33841446,  0.79884174, -0.47127765],\n",
       "        [ 0.21342711, -0.50427154,  0.0432249 , -0.63686319, -0.40704619,\n",
       "          0.04924488, -0.93676233, -0.50473462, -0.02464755,  0.15992609],\n",
       "        [ 0.03969264,  0.29519163,  0.04915825, -0.15805225, -0.0619168 ,\n",
       "         -0.30162371, -0.76849797,  0.35134208,  0.3184001 ,  0.43632635],\n",
       "        [ 0.49327927, -0.15816546,  1.12639561, -0.55859151,  0.06138611,\n",
       "          0.28917482, -0.02939265,  0.52444406, -0.61793953,  0.7864565 ],\n",
       "        [-0.35560633,  0.81249258,  0.28205661,  0.0388409 ,  0.47895921,\n",
       "         -0.00526754, -0.70531625,  0.18141447, -0.77604718,  0.12676776],\n",
       "        [ 0.58328961,  0.85219003,  0.30376198, -0.63477241,  0.42638219,\n",
       "         -0.01733664, -0.59496534, -0.56642428, -0.46553286,  0.05860201],\n",
       "        [ 0.19563756, -0.20896937,  0.12430747,  0.04069398,  0.26931868,\n",
       "         -0.10754982, -0.02827246,  0.35103416, -0.52189787, -0.08199738]]),\n",
       " 'b3': array([[0., 0., 0., 0., 0., 0., 0., 0., 0., 0.]])}"
      ]
     },
     "execution_count": 224,
     "metadata": {},
     "output_type": "execute_result"
    }
   ],
   "source": [
    "nn10 = NeuralNetwork(x_input,y_train_labels,[x_input.shape[1],12,10,10],n_iters=3001,alpha=0.03,lambda_=100)\n",
    "nn10.params "
   ]
  },
  {
   "cell_type": "code",
   "execution_count": null,
   "metadata": {},
   "outputs": [
    {
     "name": "stdout",
     "output_type": "stream",
     "text": [
      "Starting Training\n",
      "iter: 0 cost: 2.6972108464323807 Accuracy: 0.08725454545454546\n",
      "----------------------------------------------------------------------\n",
      "iter: 100 cost: 0.9019498484805695 Accuracy: 0.20350909090909092\n",
      "----------------------------------------------------------------------\n",
      "iter: 200 cost: 0.8475394965395122 Accuracy: 0.3028181818181818\n",
      "----------------------------------------------------------------------\n",
      "iter: 300 cost: 0.8022509799394616 Accuracy: 0.3406363636363636\n",
      "----------------------------------------------------------------------\n",
      "iter: 400 cost: 0.7408282576542041 Accuracy: 0.4500909090909091\n",
      "----------------------------------------------------------------------\n",
      "iter: 500 cost: 0.6857906764260624 Accuracy: 0.5153454545454546\n",
      "----------------------------------------------------------------------\n",
      "iter: 600 cost: 0.6322719228293627 Accuracy: 0.5716181818181818\n",
      "----------------------------------------------------------------------\n",
      "iter: 700 cost: 0.5886151394347408 Accuracy: 0.6116727272727273\n",
      "----------------------------------------------------------------------\n",
      "iter: 800 cost: 0.5540322111194842 Accuracy: 0.6363454545454545\n",
      "----------------------------------------------------------------------\n",
      "iter: 900 cost: 0.5278589848808264 Accuracy: 0.6531636363636364\n",
      "----------------------------------------------------------------------\n",
      "iter: 1000 cost: 0.5085789080309817 Accuracy: 0.6633454545454546\n",
      "----------------------------------------------------------------------\n",
      "iter: 1100 cost: 0.49410746889364415 Accuracy: 0.6702181818181818\n",
      "----------------------------------------------------------------------\n",
      "iter: 1200 cost: 0.4827436103430137 Accuracy: 0.6758363636363637\n",
      "----------------------------------------------------------------------\n",
      "iter: 1300 cost: 0.47344375325962673 Accuracy: 0.6792727272727273\n",
      "----------------------------------------------------------------------\n",
      "iter: 1400 cost: 0.4655974113458705 Accuracy: 0.6828727272727273\n",
      "----------------------------------------------------------------------\n",
      "iter: 1500 cost: 0.4588138994562572 Accuracy: 0.6854727272727272\n",
      "----------------------------------------------------------------------\n",
      "iter: 1600 cost: 0.4528088669999007 Accuracy: 0.6879636363636363\n",
      "----------------------------------------------------------------------\n",
      "iter: 1700 cost: 0.44743155326655104 Accuracy: 0.6907818181818182\n",
      "----------------------------------------------------------------------\n",
      "iter: 1800 cost: 0.4425403365916255 Accuracy: 0.6941090909090909\n",
      "----------------------------------------------------------------------\n",
      "iter: 1900 cost: 0.4380339239929555 Accuracy: 0.6973090909090909\n",
      "----------------------------------------------------------------------\n",
      "iter: 2000 cost: 0.43385193153756785 Accuracy: 0.7011818181818181\n",
      "----------------------------------------------------------------------\n",
      "iter: 2100 cost: 0.4299343351839126 Accuracy: 0.7053272727272727\n",
      "----------------------------------------------------------------------\n",
      "iter: 2200 cost: 0.4262262820673229 Accuracy: 0.7096363636363636\n",
      "----------------------------------------------------------------------\n"
     ]
    }
   ],
   "source": [
    "nn10.train(True)"
   ]
  },
  {
   "cell_type": "code",
   "execution_count": null,
   "metadata": {},
   "outputs": [],
   "source": [
    "nn10.plot_cost()\n",
    "y_train_labels.shape"
   ]
  },
  {
   "cell_type": "code",
   "execution_count": null,
   "metadata": {},
   "outputs": [],
   "source": [
    "x = nn10.predict(x_cross_10.reshape(n_cross_samples,28*28)/255,0.5)"
   ]
  },
  {
   "cell_type": "code",
   "execution_count": null,
   "metadata": {},
   "outputs": [],
   "source": [
    "(x.reshape(n_cross_samples,1) == y_cross_10.reshape(n_cross_samples,1)).all(axis=1).mean()"
   ]
  },
  {
   "cell_type": "code",
   "execution_count": null,
   "metadata": {},
   "outputs": [],
   "source": [
    "nn10.evaluate(x_cross_10.reshape(n_cross_samples,28*28)/255,y_cross_10.reshape(n_cross_samples,1))"
   ]
  },
  {
   "cell_type": "code",
   "execution_count": null,
   "metadata": {},
   "outputs": [],
   "source": [
    "y_cross_10"
   ]
  },
  {
   "cell_type": "code",
   "execution_count": null,
   "metadata": {},
   "outputs": [],
   "source": []
  }
 ],
 "metadata": {
  "kernelspec": {
   "display_name": "Python 3",
   "language": "python",
   "name": "python3"
  },
  "language_info": {
   "codemirror_mode": {
    "name": "ipython",
    "version": 3
   },
   "file_extension": ".py",
   "mimetype": "text/x-python",
   "name": "python",
   "nbconvert_exporter": "python",
   "pygments_lexer": "ipython3",
   "version": "3.7.6"
  }
 },
 "nbformat": 4,
 "nbformat_minor": 4
}
