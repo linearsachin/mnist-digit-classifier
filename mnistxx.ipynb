{
 "cells": [
  {
   "cell_type": "code",
   "execution_count": 1,
   "metadata": {},
   "outputs": [],
   "source": [
    "import pandas as pd\n",
    "import numpy as np\n",
    "import matplotlib.pyplot as plt\n",
    "import matplotlib.image as mpimg\n",
    "from PIL import Image\n",
    "\n",
    "\n",
    "%matplotlib inline\n"
   ]
  },
  {
   "cell_type": "code",
   "execution_count": 305,
   "metadata": {},
   "outputs": [],
   "source": [
    "class NeuralNetwork():\n",
    "    def __init__(self,X,Y,nn_layers,n_iters=2000,alpha = 0.01,lambda_=10):\n",
    "        self.X = X\n",
    "        self.Y = Y\n",
    "        self.nn_layers= nn_layers\n",
    "        self.n_iters= n_iters\n",
    "        self.alpha= alpha\n",
    "        self.lambda_= lambda_\n",
    "        self.params = self.random_weights_initialization(nn_layers)\n",
    "        self.fp_cache = None\n",
    "        self.cost = None\n",
    "        \n",
    "    def tanh(self,z):\n",
    "        return np.tanh(z)\n",
    "    def sigmoid(self,z):\n",
    "        return 1 / (1+np.exp(-z))\n",
    "    def sigmoid_deriv(self,z):# z --> sigmoid(Z)\n",
    "        return z * (1-z)\n",
    "    def tanh_deriv(self,z): # z --> tanh(Z)\n",
    "        return 1 - (z)**2\n",
    "    def relu(self,Z):\n",
    "        z_copy = np.array(Z,copy=True)\n",
    "        return np.maximum(0,z_copy)\n",
    "    def relu_backward(self,dA, Z):\n",
    "        dZ = np.array(dA, copy = True)\n",
    "        dZ[Z <= 0] = 0\n",
    "        return dZ\n",
    "    def softmax(self,u):\n",
    "        return np.exp(u) / np.sum(np.exp(u), axis=0, keepdims=True)\n",
    "    def random_weights_initialization(self,n_layers):\n",
    "        params = {}\n",
    "\n",
    "        # n_layers --> (len-1) is no of layers and elements of list are no of neurons in (index+1)th layer\n",
    "\n",
    "        for i in range(1,len(n_layers)):\n",
    "            params[\"W\"+str(i)] = np.random.randn(n_layers[i-1],n_layers[i])  * np.sqrt(2/n_layers[i-1])\n",
    "            params[\"b\"+str(i)] = b3 = np.zeros((1,n_layers[i]))\n",
    "\n",
    "        return params\n",
    "    \n",
    "    \n",
    "    \n",
    "    def forward_prop(self,input_X,parameters):   \n",
    "        cache = {\n",
    "            \"A0\":input_X\n",
    "        }\n",
    "        last_index = int(len(parameters)/2)\n",
    "        for i in range(1,last_index):\n",
    "            cache[\"Z\"+str(i)] = np.dot(cache[\"A\"+str(i-1)],parameters[\"W\"+str(i)]) + parameters[\"b\"+str(i)]\n",
    "            cache[\"A\"+str(i)] = self.relu(cache[\"Z\"+str(i)])\n",
    "\n",
    "        cache[\"Z\"+str(last_index)] = np.dot(cache[\"A\"+str(last_index-1)],\n",
    "                                            parameters[\"W\"+str(last_index)])  + parameters[\"b\"+str(last_index)]\n",
    "        cache[\"A\"+str(last_index)] = self.sigmoid(cache[\"Z\"+str(last_index)])\n",
    "        self.fp_cache=cache\n",
    "        return cache[\"A\"+str(last_index)],cache\n",
    "    \n",
    "    \n",
    "    def compute_cost(self,pred_output,actual_output,parameters,lamdba):    \n",
    "        A = pred_output\n",
    "        y =actual_output\n",
    "        m = y.shape[0]\n",
    "        norm=0\n",
    "        for i in range(1,int(len(parameters)/2)):\n",
    "            norm += np.linalg.norm(parameters[\"W\"+str(i)])\n",
    "\n",
    "        cost_ =  (1./m)* np.sum((A-y)**2) + (lamdba * norm)/(2*m)\n",
    "        return np.squeeze(cost_)\n",
    "\n",
    "\n",
    "    def get_accuracy_value(self,Y_hat, Y):\n",
    "        testing = Y_hat.copy()\n",
    "        if Y_hat.shape[1]<=1:\n",
    "            testing[Y_hat>0.5]= 1 \n",
    "            testing[Y_hat <= 0.5]=0 \n",
    "        else:\n",
    "            testing = np.argmax(Y_hat,axis=1).reshape(Y.shape[0],1)\n",
    "            Y = np.argmax(Y,axis=1).reshape(Y.shape[0],1)\n",
    "#         print(testing.T,Y.T)\n",
    "#         print(testing.shape,Y.shape)\n",
    "        return (testing == Y).all(axis=1).mean()\n",
    "    \n",
    "    def backward_prop(self,Y,cache,parameters):\n",
    "\n",
    "        last_index = int(len(parameters)/2)\n",
    "        m = Y.shape[0]\n",
    "        back_cache = {}\n",
    "\n",
    "        delta3  = 2*(cache[\"A\"+str(last_index)] - Y) * self.sigmoid_deriv(cache[\"A\"+str(last_index)])\n",
    "        back_cache[\"dW\"+str(last_index)] = (np.dot(cache[\"A\"+str(last_index-1)].T,delta3)/ m ) + (self.lambda_ / (2 *m)) * parameters[\"W\"+str(last_index)]\n",
    "        back_cache[\"db\"+str(last_index)] =np.sum(delta3,axis=0,keepdims=True)/ m \n",
    "\n",
    "        delta = delta3\n",
    "        for i in reversed(range(1,last_index)):\n",
    "            delta =self.relu_backward(np.dot(delta,parameters[\"W\"+str(i+1)].T),cache[\"Z\"+str(i)])\n",
    "            back_cache[\"dW\"+str(i)] = (np.dot(cache[\"A\"+str(i-1)].T,delta) / m) + (self.lambda_ / (2 *m)) * parameters[\"W\"+str(i)]\n",
    "            back_cache[\"db\"+str(i)] = np.sum(delta,axis=0,keepdims=True)/ m\n",
    "\n",
    "        for i in range(1,(last_index)):\n",
    "            assert (parameters[\"W\"+str(i)].shape == back_cache[\"dW\"+str(i)].shape) \n",
    "\n",
    "        return back_cache\n",
    "    \n",
    "    def update_params(self,params,backward_cache,learning_rate,lamdba,m):\n",
    "        ferb = (learning_rate * lamdba)/m\n",
    "        last_index = int(len(params)/2)\n",
    "        for i in range(1,last_index+1):\n",
    "            params[\"W\"+str(i)] = (1-ferb)*params[\"W\"+str(i)]- (learning_rate * backward_cache[\"dW\"+str(i)])\n",
    "            params[\"b\"+str(i)] = params[\"b\"+str(i)]- (learning_rate * backward_cache[\"db\"+str(i)])\n",
    "        return params\n",
    "    \n",
    "    def train(self,print_cost=False):    \n",
    "        params  = self.random_weights_initialization(self.nn_layers)\n",
    "        J_cost =[]\n",
    "        print(\"Starting Training\")\n",
    "        for i in range(self.n_iters):\n",
    "\n",
    "            A3,cache = self.forward_prop(self.X,params)\n",
    "            J = self.compute_cost(A3,self.Y,params,self.lambda_)\n",
    "            J_cost.append(J)\n",
    "            if print_cost:\n",
    "                if (i%100 == 0):\n",
    "                    print(\"iter:\",str(i),\"cost:\",str(J),\"Accuracy:\",str(self.get_accuracy_value(A3,self.Y)))\n",
    "                    print(\"----------------------------------------------------------------------\")\n",
    "\n",
    "            back_cache = self.backward_prop(self.Y,cache,params)\n",
    "\n",
    "            self.params  = self.update_params(params,back_cache,self.alpha,self.lambda_,self.X.shape[0])\n",
    "        self.cost  = J_cost\n",
    "        print(\"Training Done.\")\n",
    "        print(\"With \\n\" + \"Cost: \"+str(J)+\" Accuracy: \"+str(self.get_accuracy_value(A3,self.Y)))\n",
    "        \n",
    "\n",
    "    \n",
    "    def predict(self,testX,threshold=0.5):    \n",
    "        a,_ = self.forward_prop(testX,self.params)\n",
    "        output = np.array(a,copy=True)\n",
    "        if a.shape[1]<=1:\n",
    "            output[output > threshold] = 1\n",
    "            output[output <= threshold] = 0   \n",
    "        else:\n",
    "            output = np.argmax(a,axis=1).reshape(testX.shape[0],1)\n",
    "\n",
    "        return output\n",
    "    \n",
    "    def evaluate(self,input_X,output_y,threshold=0.5):\n",
    "        predictions = self.predict(input_X,threshold)\n",
    "        print( \" precision:\" , str(precision_score(output_y,predictions,average='micro'))[:5],\"\\n\",\n",
    "        \"recall:\",str(recall_score(output_y,predictions,average='micro'))[:5],\"\\n\",\n",
    "        \"fl score:\",str(f1_score(output_y,predictions,average='micro'))[:5],\"\\n\",\n",
    "        \"accuracy:\",str((predictions == output_y).all(axis=1).mean())[:5])\n",
    "        results = confusion_matrix(output_y,predictions)\n",
    "        fig, ax = plt.subplots(figsize=(4,4))\n",
    "        ax.matshow(results,cmap=\"spring\")\n",
    "        for (i, j), z in np.ndenumerate(results):\n",
    "            ax.text(j, i, '{:0.1f}'.format(z), ha='center', va='center',\n",
    "                   )\n",
    "        plt.show()\n",
    "    \n",
    "    def plot_cost(self):\n",
    "        plt.plot(np.arange(len(self.cost)),self.cost)\n",
    "        plt.xlabel(\"Number of Iterations\")\n",
    "        plt.ylabel(\"Cost\")\n",
    "        plt.show()"
   ]
  },
  {
   "cell_type": "code",
   "execution_count": 306,
   "metadata": {},
   "outputs": [],
   "source": [
    "import sys, numpy as np \n",
    "from keras.datasets import mnist\n",
    "(x_train, y_train), (x_test, y_test) = mnist.load_data()\n"
   ]
  },
  {
   "cell_type": "markdown",
   "metadata": {},
   "source": [
    "Getting the Data for 1 and 0 to classify:"
   ]
  },
  {
   "cell_type": "code",
   "execution_count": 307,
   "metadata": {},
   "outputs": [
    {
     "name": "stdout",
     "output_type": "stream",
     "text": [
      "[38540 40335 55045 ... 11969 28291 27153]\n"
     ]
    }
   ],
   "source": [
    "y_1_train = np.where(y_train == 1)\n",
    "y_0_train = np.where(y_train == 0)\n",
    "index_train =np.append(y_1_train[0],y_0_train[0])\n",
    "np.random.shuffle(index_train)\n",
    "\n",
    "y_1_test = np.where(y_test == 1)\n",
    "y_0_test = np.where(y_test == 0)\n",
    "index_test =np.append(y_1_test[0],y_0_test[0])\n",
    "np.random.shuffle(index_test)\n",
    "\n",
    "\n",
    "# index\n",
    "x_train= x_train[(index_train)]\n",
    "y_train= y_train[(index_train)]\n",
    "x_test= x_test[(index_test)]\n",
    "y_test= y_test[(index_test)]\n",
    "\n",
    "print(index_train)\n"
   ]
  },
  {
   "cell_type": "code",
   "execution_count": 308,
   "metadata": {},
   "outputs": [
    {
     "data": {
      "text/plain": [
       "1"
      ]
     },
     "execution_count": 308,
     "metadata": {},
     "output_type": "execute_result"
    },
    {
     "data": {
      "image/png": "[encoded data removed]",
      "text/plain": [
       "<Figure size 432x288 with 1 Axes>"
      ]
     },
     "metadata": {
      "needs_background": "light"
     },
     "output_type": "display_data"
    }
   ],
   "source": [
    "n_samples_train = 12000\n",
    "i = np.random.randint(0, n_samples_train)\n",
    "img = Image.fromarray(x_train[i])\n",
    "plt.imshow(img)\n",
    "\n",
    "y_train[i]"
   ]
  },
  {
   "cell_type": "code",
   "execution_count": 309,
   "metadata": {},
   "outputs": [
    {
     "data": {
      "text/plain": [
       "((12000, 784), (12000, 1))"
      ]
     },
     "execution_count": 309,
     "metadata": {},
     "output_type": "execute_result"
    }
   ],
   "source": [
    "images, labels = (x_train[0:n_samples_train].reshape(n_samples_train,28*28) /255, y_train[0:n_samples_train].reshape(n_samples_train,1)) \n",
    "df = pd.DataFrame(images)\n",
    "images.shape,labels.shape"
   ]
  },
  {
   "cell_type": "code",
   "execution_count": 310,
   "metadata": {
    "scrolled": false
   },
   "outputs": [
    {
     "name": "stdout",
     "output_type": "stream",
     "text": [
      "Starting Training\n",
      "iter: 0 cost: 0.26290295790801516 Accuracy: 0.47633333333333333\n",
      "----------------------------------------------------------------------\n",
      "iter: 100 cost: 0.06890609489324258 Accuracy: 0.9941666666666666\n",
      "----------------------------------------------------------------------\n",
      "iter: 200 cost: 0.037886115452873834 Accuracy: 0.9961666666666666\n",
      "----------------------------------------------------------------------\n",
      "iter: 300 cost: 0.032696656324464675 Accuracy: 0.9971666666666666\n",
      "----------------------------------------------------------------------\n",
      "iter: 400 cost: 0.030433227773962013 Accuracy: 0.9974166666666666\n",
      "----------------------------------------------------------------------\n",
      "iter: 500 cost: 0.028988638111335046 Accuracy: 0.9975\n",
      "----------------------------------------------------------------------\n",
      "iter: 600 cost: 0.027899474142287328 Accuracy: 0.9975833333333334\n",
      "----------------------------------------------------------------------\n",
      "iter: 700 cost: 0.02700071804442631 Accuracy: 0.99775\n",
      "----------------------------------------------------------------------\n",
      "iter: 800 cost: 0.02621876699702797 Accuracy: 0.9976666666666667\n",
      "----------------------------------------------------------------------\n",
      "iter: 900 cost: 0.02551371617511051 Accuracy: 0.9978333333333333\n",
      "----------------------------------------------------------------------\n",
      "iter: 1000 cost: 0.0248635186722905 Accuracy: 0.9978333333333333\n",
      "----------------------------------------------------------------------\n",
      "iter: 1100 cost: 0.024258592691712495 Accuracy: 0.998\n",
      "----------------------------------------------------------------------\n",
      "iter: 1200 cost: 0.023691901163024158 Accuracy: 0.9980833333333333\n",
      "----------------------------------------------------------------------\n",
      "iter: 1300 cost: 0.02315859582251583 Accuracy: 0.9980833333333333\n",
      "----------------------------------------------------------------------\n",
      "iter: 1400 cost: 0.022655429399488038 Accuracy: 0.9981666666666666\n",
      "----------------------------------------------------------------------\n",
      "iter: 1500 cost: 0.022179881301370732 Accuracy: 0.9981666666666666\n",
      "----------------------------------------------------------------------\n",
      "iter: 1600 cost: 0.02172980166032073 Accuracy: 0.9981666666666666\n",
      "----------------------------------------------------------------------\n",
      "iter: 1700 cost: 0.021303480878749267 Accuracy: 0.9981666666666666\n",
      "----------------------------------------------------------------------\n",
      "iter: 1800 cost: 0.02089949990842957 Accuracy: 0.9981666666666666\n",
      "----------------------------------------------------------------------\n",
      "iter: 1900 cost: 0.02051656485952526 Accuracy: 0.9981666666666666\n",
      "----------------------------------------------------------------------\n",
      "Training Done.\n",
      "With \n",
      "Cost: 0.020157047272842628 Accuracy: 0.9981666666666666\n"
     ]
    }
   ],
   "source": [
    "# params_ , cost_ = train(images,labels,[images.shape[1],6,4,labels.shape[1]],n_iters=2000,alpha =  0.01,lambda_=10,)\n",
    "nn_arch=[images.shape[1],6,5,labels.shape[1]]\n",
    "nn =NeuralNetwork(images,labels,nn_arch,alpha=0.03,lambda_=100)\n",
    "nn.train(True)"
   ]
  },
  {
   "cell_type": "code",
   "execution_count": 311,
   "metadata": {},
   "outputs": [
    {
     "data": {
      "image/png": "[encoded data removed]",
      "text/plain": [
       "<Figure size 432x288 with 1 Axes>"
      ]
     },
     "metadata": {
      "needs_background": "light"
     },
     "output_type": "display_data"
    }
   ],
   "source": [
    "nn.plot_cost()"
   ]
  },
  {
   "cell_type": "markdown",
   "metadata": {},
   "source": [
    "Testing the Trained Neural Network"
   ]
  },
  {
   "cell_type": "code",
   "execution_count": 312,
   "metadata": {},
   "outputs": [],
   "source": [
    "from sklearn.metrics import confusion_matrix, classification_report\n",
    "from sklearn.metrics import precision_score, recall_score ,f1_score\n"
   ]
  },
  {
   "cell_type": "code",
   "execution_count": 313,
   "metadata": {},
   "outputs": [],
   "source": [
    "n_test_samples = x_test.shape[0]\n",
    "testX = x_test.reshape(n_test_samples,28*28)/255\n",
    "testY = y_test.reshape(n_test_samples,1)\n"
   ]
  },
  {
   "cell_type": "code",
   "execution_count": 314,
   "metadata": {},
   "outputs": [
    {
     "name": "stdout",
     "output_type": "stream",
     "text": [
      "Threshold: 0.5\n",
      "-------------test set-------------\n",
      " precision: 0.999 \n",
      " recall: 0.999 \n",
      " fl score: 0.999 \n",
      " accuracy: 0.999\n"
     ]
    },
    {
     "data": {
      "image/png": "[encoded data removed]",
      "text/plain": [
       "<Figure size 288x288 with 1 Axes>"
      ]
     },
     "metadata": {
      "needs_background": "light"
     },
     "output_type": "display_data"
    },
    {
     "name": "stdout",
     "output_type": "stream",
     "text": [
      "-------------train set-------------\n",
      " precision: 0.998 \n",
      " recall: 0.998 \n",
      " fl score: 0.998 \n",
      " accuracy: 0.998\n"
     ]
    },
    {
     "data": {
      "image/png": "[encoded data removed]",
      "text/plain": [
       "<Figure size 288x288 with 1 Axes>"
      ]
     },
     "metadata": {
      "needs_background": "light"
     },
     "output_type": "display_data"
    }
   ],
   "source": [
    "thres = 0.5\n",
    "print(\"Threshold:\",str(thres))\n",
    "print(\"-------------test set-------------\")\n",
    "nn.evaluate(testX,testY,thres)\n",
    "\n",
    "print(\"-------------train set-------------\")\n",
    "nn.evaluate(images,labels,thres)\n"
   ]
  },
  {
   "cell_type": "code",
   "execution_count": 315,
   "metadata": {},
   "outputs": [
    {
     "name": "stdout",
     "output_type": "stream",
     "text": [
      "Threshold: 0.8\n",
      "-------------test set-------------\n",
      " precision: 0.996 \n",
      " recall: 0.996 \n",
      " fl score: 0.996 \n",
      " accuracy: 0.996\n"
     ]
    },
    {
     "data": {
      "image/png": "[encoded data removed]",
      "text/plain": [
       "<Figure size 288x288 with 1 Axes>"
      ]
     },
     "metadata": {
      "needs_background": "light"
     },
     "output_type": "display_data"
    },
    {
     "name": "stdout",
     "output_type": "stream",
     "text": [
      "-------------train set-------------\n",
      " precision: 0.993 \n",
      " recall: 0.993 \n",
      " fl score: 0.993 \n",
      " accuracy: 0.993\n"
     ]
    },
    {
     "data": {
      "image/png": "[encoded data removed]",
      "text/plain": [
       "<Figure size 288x288 with 1 Axes>"
      ]
     },
     "metadata": {
      "needs_background": "light"
     },
     "output_type": "display_data"
    }
   ],
   "source": [
    "thres = 0.8\n",
    "print(\"Threshold:\",str(thres))\n",
    "print(\"-------------test set-------------\")\n",
    "nn.evaluate(testX,testY,thres)\n",
    "\n",
    "print(\"-------------train set-------------\")\n",
    "nn.evaluate(images,labels,thres)"
   ]
  },
  {
   "cell_type": "code",
   "execution_count": 316,
   "metadata": {},
   "outputs": [
    {
     "name": "stdout",
     "output_type": "stream",
     "text": [
      "Threshold: 0.3\n",
      "-------------test set-------------\n",
      " precision: 0.997 \n",
      " recall: 0.997 \n",
      " fl score: 0.997 \n",
      " accuracy: 0.997\n"
     ]
    },
    {
     "data": {
      "image/png": "[encoded data removed]",
      "text/plain": [
       "<Figure size 288x288 with 1 Axes>"
      ]
     },
     "metadata": {
      "needs_background": "light"
     },
     "output_type": "display_data"
    },
    {
     "name": "stdout",
     "output_type": "stream",
     "text": [
      "-------------train set-------------\n",
      " precision: 0.996 \n",
      " recall: 0.996 \n",
      " fl score: 0.996 \n",
      " accuracy: 0.996\n"
     ]
    },
    {
     "data": {
      "image/png": "[encoded data removed]",
      "text/plain": [
       "<Figure size 288x288 with 1 Axes>"
      ]
     },
     "metadata": {
      "needs_background": "light"
     },
     "output_type": "display_data"
    }
   ],
   "source": [
    "thres = 0.3\n",
    "print(\"Threshold:\",str(thres))\n",
    "print(\"-------------test set-------------\")\n",
    "nn.evaluate(testX,testY,thres)\n",
    "\n",
    "print(\"-------------train set-------------\")\n",
    "nn.evaluate(images,labels,thres)"
   ]
  },
  {
   "cell_type": "code",
   "execution_count": null,
   "metadata": {},
   "outputs": [],
   "source": []
  },
  {
   "cell_type": "code",
   "execution_count": 317,
   "metadata": {},
   "outputs": [],
   "source": [
    "(x_train_10, y_train_10), (x_test_10, y_test_10) = mnist.load_data()\n",
    "x_cross_10 = x_train_10[0:5000]\n",
    "y_cross_10 = y_train_10[0:5000]\n",
    "x_train_10 = x_train_10[5000:]\n",
    "y_train_10 = y_train_10[5000:]\n",
    "\n",
    "n_train_samples = x_train_10.shape[0]\n",
    "n_train_labels = y_train_10.shape[0]\n",
    "n_test_samples = x_test_10.shape[0]\n",
    "n_test_labels = y_test_10.shape[0]\n",
    "n_cross_samples = x_cross_10.shape[0]\n",
    "n_cross_labels = y_cross_10.shape[0]"
   ]
  },
  {
   "cell_type": "code",
   "execution_count": 318,
   "metadata": {},
   "outputs": [
    {
     "data": {
      "text/plain": [
       "((55000, 784), (55000, 1))"
      ]
     },
     "execution_count": 318,
     "metadata": {},
     "output_type": "execute_result"
    }
   ],
   "source": [
    "x_input = x_train_10.reshape(n_train_samples,28*28)/255\n",
    "y_output = y_train_10.reshape(n_train_labels,1)\n",
    "\n",
    "y_train_labels = np.zeros((n_train_labels,10))\n",
    "for i_row,j in enumerate(y_output):\n",
    "    y_train_labels[i_row][j]=1\n",
    "        \n",
    "x_input.shape,y_output.shape"
   ]
  },
  {
   "cell_type": "code",
   "execution_count": 319,
   "metadata": {},
   "outputs": [
    {
     "data": {
      "text/plain": [
       "{'W1': array([[-0.03651   ,  0.04716525,  0.16026142, ...,  0.09548926,\n",
       "         -0.11819076,  0.04198525],\n",
       "        [ 0.00196618, -0.03309098, -0.04765747, ..., -0.01926722,\n",
       "         -0.02001496,  0.00243729],\n",
       "        [ 0.06931089,  0.01104688,  0.00585236, ..., -0.01826756,\n",
       "          0.06294185, -0.02872439],\n",
       "        ...,\n",
       "        [-0.03530313,  0.03191708, -0.03054138, ..., -0.04116524,\n",
       "          0.03855416, -0.09995462],\n",
       "        [-0.03023696, -0.03322542, -0.0462247 , ..., -0.03426279,\n",
       "         -0.08456082, -0.00426821],\n",
       "        [ 0.03745021,  0.01431635, -0.00868479, ..., -0.01888931,\n",
       "         -0.04681154,  0.01319656]]),\n",
       " 'b1': array([[0., 0., 0., 0., 0., 0., 0., 0., 0., 0., 0., 0.]]),\n",
       " 'W2': array([[ 0.32783339, -0.27222758,  0.39406548, -0.14032439, -0.91815306,\n",
       "         -0.52304638,  0.18696136, -0.09727369, -0.31780689,  0.12289605],\n",
       "        [ 0.40589986, -0.37268977, -0.277077  ,  0.63179445, -0.41579436,\n",
       "          0.30168801, -0.33436708, -0.07451717,  0.06243692, -0.20815846],\n",
       "        [ 0.30713219, -0.03345654,  0.05838304,  0.40478222,  0.76612256,\n",
       "         -0.08118664,  0.44162962,  0.28471376, -0.19882141,  1.31467119],\n",
       "        [-0.5413273 ,  0.6719921 , -0.29022349,  0.72460634,  0.06100146,\n",
       "         -0.32340159,  0.40157442,  0.23596367, -0.17645039,  0.02908374],\n",
       "        [-0.48252235,  0.97130176, -0.39755016,  0.25335292, -0.24136948,\n",
       "          0.22607118, -0.09389318,  0.76541433,  0.42416274, -0.04125541],\n",
       "        [-0.01900632, -1.11478011,  0.02061256, -0.3368441 , -0.16460995,\n",
       "         -0.72903417, -0.11310712,  0.03591552, -0.5102993 , -0.44878547],\n",
       "        [-0.11004799,  0.42740521,  0.39458271,  0.26362756,  0.48033185,\n",
       "          0.16382756,  0.35647528, -0.09640151,  0.90171745, -0.0716324 ],\n",
       "        [ 0.07824995, -0.564524  , -0.57408473, -0.10805995, -0.2833007 ,\n",
       "         -0.03827497, -0.35117193, -0.44080448, -0.43414742,  0.02953931],\n",
       "        [-0.02160903,  0.62623349, -0.20493871, -0.59598404, -0.34003791,\n",
       "         -0.54786849,  0.72940543,  0.18379518,  0.15461223,  0.78671699],\n",
       "        [ 1.07593915, -0.55062893, -0.05485866, -0.04059029,  0.66020164,\n",
       "         -0.06946892,  0.21352003, -0.10927511, -0.22654223, -0.16714969],\n",
       "        [ 0.2732821 , -0.12394596, -0.44781983, -0.01465358,  0.5317123 ,\n",
       "         -0.15458089, -0.74693016,  0.68389879, -0.07993575, -0.50415962],\n",
       "        [-0.39413963,  0.61316274, -0.07973928, -0.08241335,  0.40162153,\n",
       "         -1.15718163,  0.27184664,  0.17455968, -0.84364355, -0.3918492 ]]),\n",
       " 'b2': array([[0., 0., 0., 0., 0., 0., 0., 0., 0., 0.]]),\n",
       " 'W3': array([[-0.08058927,  0.37988798,  0.1097007 ,  0.30125553,  0.07280866,\n",
       "         -0.67611737,  0.37129759,  0.27703861, -0.23971745, -0.34992666],\n",
       "        [ 0.45938901,  0.02863064,  0.05785267,  0.67285149,  0.02884127,\n",
       "          1.36954109,  0.05145138,  0.06853635, -0.48102749,  0.01035978],\n",
       "        [ 0.47702174, -0.16537934, -1.03585115, -0.06905824, -0.66947069,\n",
       "          0.06583051,  0.8889648 , -0.91608701,  0.7006411 , -0.24117455],\n",
       "        [-0.2839723 ,  0.1650673 ,  0.75856421,  0.40651023, -0.19844513,\n",
       "          0.28519326,  0.24628889,  0.23582645,  0.23252888, -0.59227221],\n",
       "        [-0.05399194,  0.5584742 , -1.15939491, -0.14429536, -0.05957178,\n",
       "         -0.17558263, -0.12210071, -0.13693403,  0.2424483 ,  0.27381833],\n",
       "        [ 0.5460011 ,  0.04386187, -0.51320425, -0.09301942, -0.42954771,\n",
       "          0.44787883,  0.29427423,  0.12238573,  0.05989195, -0.61017008],\n",
       "        [ 0.23948237, -0.33521736,  0.23802323,  0.32103161,  0.12326605,\n",
       "          0.09262386, -0.68021552, -0.27887324, -0.31026332,  0.17257188],\n",
       "        [-0.01047877,  0.56984572,  0.30485532,  0.23298847,  0.26543766,\n",
       "          0.48474698, -0.75499987, -0.23381618,  0.33177661, -0.42702934],\n",
       "        [ 0.06287436, -0.19704052, -0.39826857,  0.12662251,  0.29273276,\n",
       "          0.04371592,  0.00261395,  0.16399076,  0.15096618, -0.1672613 ],\n",
       "        [ 0.55827431,  0.14538494, -0.17332221,  0.07501576, -0.16356814,\n",
       "          0.87116883, -0.37377689,  0.37228298, -0.54381603, -0.36068547]]),\n",
       " 'b3': array([[0., 0., 0., 0., 0., 0., 0., 0., 0., 0.]])}"
      ]
     },
     "execution_count": 319,
     "metadata": {},
     "output_type": "execute_result"
    }
   ],
   "source": [
    "nn10 = NeuralNetwork(x_input,y_train_labels,[x_input.shape[1],12,10,10],n_iters=3001,alpha=0.03,lambda_=100)\n",
    "nn10.params "
   ]
  },
  {
   "cell_type": "code",
   "execution_count": null,
   "metadata": {},
   "outputs": [
    {
     "name": "stdout",
     "output_type": "stream",
     "text": [
      "Starting Training\n",
      "iter: 0 cost: 2.508792766838012 Accuracy: 0.11247272727272727\n",
      "----------------------------------------------------------------------\n",
      "iter: 100 cost: 0.9168518882833484 Accuracy: 0.2116909090909091\n",
      "----------------------------------------------------------------------\n",
      "iter: 200 cost: 0.8742706001369276 Accuracy: 0.2094\n",
      "----------------------------------------------------------------------\n",
      "iter: 300 cost: 0.845947295723672 Accuracy: 0.20978181818181818\n",
      "----------------------------------------------------------------------\n",
      "iter: 400 cost: 0.8223145744310111 Accuracy: 0.23065454545454545\n",
      "----------------------------------------------------------------------\n",
      "iter: 500 cost: 0.7928837226633996 Accuracy: 0.27949090909090907\n",
      "----------------------------------------------------------------------\n",
      "iter: 600 cost: 0.7754565870829977 Accuracy: 0.3281272727272727\n",
      "----------------------------------------------------------------------\n",
      "iter: 700 cost: 0.7612803933879316 Accuracy: 0.35767272727272725\n",
      "----------------------------------------------------------------------\n",
      "iter: 800 cost: 0.7465513330362726 Accuracy: 0.3881090909090909\n",
      "----------------------------------------------------------------------\n",
      "iter: 900 cost: 0.7281934907624825 Accuracy: 0.4285090909090909\n",
      "----------------------------------------------------------------------\n",
      "iter: 1000 cost: 0.7020675677621007 Accuracy: 0.47647272727272727\n",
      "----------------------------------------------------------------------\n",
      "iter: 1100 cost: 0.6631231032058019 Accuracy: 0.5393636363636364\n",
      "----------------------------------------------------------------------\n",
      "iter: 1200 cost: 0.6088112234446754 Accuracy: 0.596\n",
      "----------------------------------------------------------------------\n",
      "iter: 1300 cost: 0.5653716396143319 Accuracy: 0.6368363636363636\n",
      "----------------------------------------------------------------------\n",
      "iter: 1400 cost: 0.5307529003501633 Accuracy: 0.6723454545454546\n",
      "----------------------------------------------------------------------\n",
      "iter: 1500 cost: 0.4989301250757679 Accuracy: 0.6971636363636363\n",
      "----------------------------------------------------------------------\n",
      "iter: 1600 cost: 0.4700774473153927 Accuracy: 0.7197272727272728\n",
      "----------------------------------------------------------------------\n",
      "iter: 1700 cost: 0.4458591784786408 Accuracy: 0.7393272727272727\n",
      "----------------------------------------------------------------------\n",
      "iter: 1800 cost: 0.42534336899092473 Accuracy: 0.7526363636363637\n",
      "----------------------------------------------------------------------\n",
      "iter: 1900 cost: 0.4081195930344973 Accuracy: 0.7625636363636363\n",
      "----------------------------------------------------------------------\n",
      "iter: 2000 cost: 0.39379598830350554 Accuracy: 0.7688363636363637\n",
      "----------------------------------------------------------------------\n",
      "iter: 2100 cost: 0.38175963567792004 Accuracy: 0.7733818181818182\n",
      "----------------------------------------------------------------------\n",
      "iter: 2200 cost: 0.37139516662587424 Accuracy: 0.7775272727272727\n",
      "----------------------------------------------------------------------\n",
      "iter: 2300 cost: 0.362249606969736 Accuracy: 0.7808545454545455\n",
      "----------------------------------------------------------------------\n",
      "iter: 2400 cost: 0.3540713175085444 Accuracy: 0.7841272727272727\n",
      "----------------------------------------------------------------------\n",
      "iter: 2500 cost: 0.34681786880663146 Accuracy: 0.7867090909090909\n",
      "----------------------------------------------------------------------\n",
      "iter: 2600 cost: 0.3404484751137025 Accuracy: 0.7893272727272728\n",
      "----------------------------------------------------------------------\n",
      "iter: 2700 cost: 0.33474520560595455 Accuracy: 0.7911636363636364\n",
      "----------------------------------------------------------------------\n",
      "iter: 2800 cost: 0.32960961124751437 Accuracy: 0.7932727272727272\n",
      "----------------------------------------------------------------------\n"
     ]
    }
   ],
   "source": [
    "nn10.train(True)"
   ]
  },
  {
   "cell_type": "code",
   "execution_count": null,
   "metadata": {},
   "outputs": [],
   "source": [
    "nn10.plot_cost()\n",
    "y_train_labels.shape"
   ]
  },
  {
   "cell_type": "code",
   "execution_count": null,
   "metadata": {},
   "outputs": [],
   "source": [
    "x = nn10.predict(x_cross_10.reshape(n_cross_samples,28*28)/255,0.5)"
   ]
  },
  {
   "cell_type": "code",
   "execution_count": null,
   "metadata": {},
   "outputs": [],
   "source": [
    "(x.reshape(n_cross_samples,1) == y_cross_10.reshape(n_cross_samples,1)).all(axis=1).mean()"
   ]
  },
  {
   "cell_type": "code",
   "execution_count": null,
   "metadata": {},
   "outputs": [],
   "source": [
    "nn10.evaluate(x_cross_10.reshape(n_cross_samples,28*28)/255,y_cross_10.reshape(n_cross_samples,1))"
   ]
  },
  {
   "cell_type": "code",
   "execution_count": null,
   "metadata": {},
   "outputs": [],
   "source": []
  },
  {
   "cell_type": "code",
   "execution_count": null,
   "metadata": {},
   "outputs": [],
   "source": []
  }
 ],
 "metadata": {
  "kernelspec": {
   "display_name": "Python 3",
   "language": "python",
   "name": "python3"
  },
  "language_info": {
   "codemirror_mode": {
    "name": "ipython",
    "version": 3
   },
   "file_extension": ".py",
   "mimetype": "text/x-python",
   "name": "python",
   "nbconvert_exporter": "python",
   "pygments_lexer": "ipython3",
   "version": "3.7.6"
  }
 },
 "nbformat": 4,
 "nbformat_minor": 4
}
