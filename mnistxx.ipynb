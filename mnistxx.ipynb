{
 "cells": [
  {
   "cell_type": "code",
   "execution_count": 1,
   "metadata": {},
   "outputs": [],
   "source": [
    "import pandas as pd\n",
    "import numpy as np\n",
    "import matplotlib.pyplot as plt\n",
    "import matplotlib.image as mpimg\n",
    "from PIL import Image\n",
    "\n",
    "\n",
    "%matplotlib inline\n"
   ]
  },
  {
   "cell_type": "code",
   "execution_count": 231,
   "metadata": {},
   "outputs": [],
   "source": [
    "class NeuralNetwork():\n",
    "    def __init__(self,X,Y,nn_layers,n_iters=2000,alpha = 0.01,lambda_=10):\n",
    "        self.X = X\n",
    "        self.Y = Y\n",
    "        self.nn_layers= nn_layers\n",
    "        self.n_iters= n_iters\n",
    "        self.alpha= alpha\n",
    "        self.lambda_= lambda_\n",
    "        self.params = self.random_weights_initialization(nn_layers)\n",
    "        self.fp_cache = None\n",
    "        self.cost = None\n",
    "        \n",
    "    def tanh(self,z):\n",
    "        return np.tanh(z)\n",
    "    def sigmoid(self,z):\n",
    "        return 1 / (1+np.exp(-z))\n",
    "    def sigmoid_deriv(self,z):# z --> sigmoid(Z)\n",
    "        return z * (1-z)\n",
    "    def tanh_deriv(self,z): # z --> tanh(Z)\n",
    "        return 1 - (z)**2\n",
    "    def relu(self,Z):\n",
    "        z_copy = np.array(Z,copy=True)\n",
    "        return np.maximum(0,z_copy)\n",
    "    def relu_backward(self,dA, Z):\n",
    "        dZ = np.array(dA, copy = True)\n",
    "        dZ[Z <= 0] = 0\n",
    "        return dZ\n",
    "    def softmax(self,u):\n",
    "        return np.exp(u) / np.sum(np.exp(u), axis=0, keepdims=True)\n",
    "    def random_weights_initialization(self,n_layers):\n",
    "        params = {}\n",
    "\n",
    "        # n_layers --> (len-1) is no of layers and elements of list are no of neurons in (index+1)th layer\n",
    "\n",
    "        for i in range(1,len(n_layers)):\n",
    "            params[\"W\"+str(i)] = np.random.randn(n_layers[i-1],n_layers[i])  * np.sqrt(2/n_layers[i-1])\n",
    "            params[\"b\"+str(i)] = b3 = np.zeros((1,n_layers[i]))\n",
    "\n",
    "        return params\n",
    "    \n",
    "    \n",
    "    \n",
    "    def forward_prop(self,input_X,parameters):   \n",
    "        cache = {\n",
    "            \"A0\":input_X\n",
    "        }\n",
    "        last_index = int(len(parameters)/2)\n",
    "        for i in range(1,last_index):\n",
    "            cache[\"Z\"+str(i)] = np.dot(cache[\"A\"+str(i-1)],parameters[\"W\"+str(i)]) + parameters[\"b\"+str(i)]\n",
    "            cache[\"A\"+str(i)] = self.relu(cache[\"Z\"+str(i)])\n",
    "\n",
    "        cache[\"Z\"+str(last_index)] = np.dot(cache[\"A\"+str(last_index-1)],\n",
    "                                            parameters[\"W\"+str(last_index)])  + parameters[\"b\"+str(last_index)]\n",
    "        cache[\"A\"+str(last_index)] = self.sigmoid(cache[\"Z\"+str(last_index)])\n",
    "        self.fp_cache=cache\n",
    "        return cache[\"A\"+str(last_index)],cache\n",
    "    \n",
    "    \n",
    "    def compute_cost(self,pred_output,actual_output,parameters,lamdba):    \n",
    "        A = pred_output\n",
    "        y =actual_output\n",
    "        m = y.shape[0]\n",
    "        norm=0\n",
    "        for i in range(1,int(len(parameters)/2)):\n",
    "            norm += np.linalg.norm(parameters[\"W\"+str(i)])\n",
    "\n",
    "        cost_ =  (1./m)* np.sum((A-y)**2) + (lamdba * norm)/(2*m)\n",
    "        return np.squeeze(cost_)\n",
    "\n",
    "\n",
    "    def get_accuracy_value(self,Y_hat, Y):\n",
    "        testing = Y_hat.copy()\n",
    "        if Y_hat.shape[1]<=1:\n",
    "            testing[Y_hat>0.5]= 1 \n",
    "            testing[Y_hat <= 0.5]=0 \n",
    "        else:\n",
    "            testing = np.argmax(Y_hat,axis=1).reshape(Y.shape[0],1)\n",
    "            Y = np.argmax(Y,axis=1).reshape(Y.shape[0],1)\n",
    "#         print(testing.T,Y.T)\n",
    "#         print(testing.shape,Y.shape)\n",
    "        return (testing == Y).all(axis=1).mean()\n",
    "    \n",
    "    def backward_prop(self,Y,cache,parameters):\n",
    "\n",
    "        last_index = int(len(parameters)/2)\n",
    "        m = Y.shape[0]\n",
    "        back_cache = {}\n",
    "\n",
    "        delta3  = 2*(cache[\"A\"+str(last_index)] - Y) * self.sigmoid_deriv(cache[\"A\"+str(last_index)])\n",
    "        back_cache[\"dW\"+str(last_index)] = (np.dot(cache[\"A\"+str(last_index-1)].T,delta3)/ m ) + (self.lambda_ / (2 *m)) * parameters[\"W\"+str(last_index)]\n",
    "        back_cache[\"db\"+str(last_index)] =np.sum(delta3,axis=0,keepdims=True)/ m \n",
    "\n",
    "        delta = delta3\n",
    "        for i in reversed(range(1,last_index)):\n",
    "            delta =self.relu_backward(np.dot(delta,parameters[\"W\"+str(i+1)].T),cache[\"Z\"+str(i)])\n",
    "            back_cache[\"dW\"+str(i)] = (np.dot(cache[\"A\"+str(i-1)].T,delta) / m) + (self.lambda_ / (2 *m)) * parameters[\"W\"+str(i)]\n",
    "            back_cache[\"db\"+str(i)] = np.sum(delta,axis=0,keepdims=True)/ m\n",
    "\n",
    "        for i in range(1,(last_index)):\n",
    "            assert (parameters[\"W\"+str(i)].shape == back_cache[\"dW\"+str(i)].shape) \n",
    "\n",
    "        return back_cache\n",
    "    \n",
    "    def update_params(self,params,backward_cache,learning_rate,lamdba,m):\n",
    "        ferb = (learning_rate * lamdba)/m\n",
    "        last_index = int(len(params)/2)\n",
    "        for i in range(1,last_index+1):\n",
    "            params[\"W\"+str(i)] = (1-ferb)*params[\"W\"+str(i)]- (learning_rate * backward_cache[\"dW\"+str(i)])\n",
    "            params[\"b\"+str(i)] = params[\"b\"+str(i)]- (learning_rate * backward_cache[\"db\"+str(i)])\n",
    "        return params\n",
    "    \n",
    "    def train(self,print_cost=False):    \n",
    "        params  = self.random_weights_initialization(self.nn_layers)\n",
    "        J_cost =[]\n",
    "        print(\"Starting Training\")\n",
    "        for i in range(self.n_iters):\n",
    "\n",
    "            A3,cache = self.forward_prop(self.X,params)\n",
    "            J = self.compute_cost(A3,self.Y,params,self.lambda_)\n",
    "            J_cost.append(J)\n",
    "            if print_cost:\n",
    "                if (i%100 == 0):\n",
    "                    print(\"iter:\",str(i),\"cost:\",str(J),\"Accuracy:\",str(self.get_accuracy_value(A3,self.Y)))\n",
    "                    print(\"----------------------------------------------------------------------\")\n",
    "\n",
    "            back_cache = self.backward_prop(self.Y,cache,params)\n",
    "\n",
    "            self.params  = self.update_params(params,back_cache,self.alpha,self.lambda_,self.X.shape[0])\n",
    "        self.cost  = J_cost\n",
    "        print(\"Training Done.\")\n",
    "        print(\"With \\n\" + \"Cost: \"+str(J)+\" Accuracy: \"+str(self.get_accuracy_value(A3,self.Y)))\n",
    "        \n",
    "\n",
    "    \n",
    "    def predict(self,testX,threshold=0.5):    \n",
    "        a,_ = self.forward_prop(testX,self.params)\n",
    "        output = np.array(a,copy=True)\n",
    "        if a.shape[1]<=1:\n",
    "            output[output > threshold] = 1\n",
    "            output[output <= threshold] = 0   \n",
    "        else:\n",
    "            output = np.argmax(a,axis=1).reshape(testX.shape[0],1)\n",
    "\n",
    "        return output\n",
    "    \n",
    "    def evaluate(self,input_X,output_y,threshold=0.5):\n",
    "        predictions = self.predict(input_X,threshold)\n",
    "        print( \" precision:\" , str(precision_score(output_y,predictions,average='micro'))[:5],\"\\n\",\n",
    "        \"recall:\",str(recall_score(output_y,predictions,average='micro'))[:5],\"\\n\",\n",
    "        \"fl score:\",str(f1_score(output_y,predictions,average='micro'))[:5],\"\\n\",\n",
    "        \"accuracy:\",str((predictions == output_y).all(axis=1).mean())[:5])\n",
    "        results = confusion_matrix(output_y,predictions)\n",
    "        fig, ax = plt.subplots()\n",
    "        ax.matshow(results)\n",
    "        for (i, j), z in np.ndenumerate(results):\n",
    "            ax.text(j, i, '{:0.1f}'.format(z), ha='center', va='center',\n",
    "                    bbox=dict(boxstyle='round', facecolor='white', edgecolor='0.3'))\n",
    "        plt.show()\n",
    "    \n",
    "    def plot_cost(self):\n",
    "        plt.plot(np.arange(len(self.cost)),self.cost)\n",
    "        plt.xlabel(\"Number of Iterations\")\n",
    "        plt.ylabel(\"Cost\")\n",
    "        plt.show()"
   ]
  },
  {
   "cell_type": "code",
   "execution_count": 232,
   "metadata": {},
   "outputs": [],
   "source": [
    "import sys, numpy as np \n",
    "from keras.datasets import mnist\n",
    "(x_train, y_train), (x_test, y_test) = mnist.load_data()\n"
   ]
  },
  {
   "cell_type": "markdown",
   "metadata": {},
   "source": [
    "Getting the Data for 1 and 0 to classify:"
   ]
  },
  {
   "cell_type": "code",
   "execution_count": 233,
   "metadata": {},
   "outputs": [
    {
     "name": "stdout",
     "output_type": "stream",
     "text": [
      "[16076 35990 39527 ... 35681 13581 31138]\n"
     ]
    }
   ],
   "source": [
    "y_1_train = np.where(y_train == 1)\n",
    "y_0_train = np.where(y_train == 0)\n",
    "index_train =np.append(y_1_train[0],y_0_train[0])\n",
    "np.random.shuffle(index_train)\n",
    "\n",
    "y_1_test = np.where(y_test == 1)\n",
    "y_0_test = np.where(y_test == 0)\n",
    "index_test =np.append(y_1_test[0],y_0_test[0])\n",
    "np.random.shuffle(index_test)\n",
    "\n",
    "\n",
    "# index\n",
    "x_train= x_train[(index_train)]\n",
    "y_train= y_train[(index_train)]\n",
    "x_test= x_test[(index_test)]\n",
    "y_test= y_test[(index_test)]\n",
    "\n",
    "print(index_train)\n"
   ]
  },
  {
   "cell_type": "code",
   "execution_count": 234,
   "metadata": {},
   "outputs": [
    {
     "data": {
      "text/plain": [
       "1"
      ]
     },
     "execution_count": 234,
     "metadata": {},
     "output_type": "execute_result"
    },
    {
     "data": {
      "image/png": "[encoded data removed]",
      "text/plain": [
       "<Figure size 432x288 with 1 Axes>"
      ]
     },
     "metadata": {
      "needs_background": "light"
     },
     "output_type": "display_data"
    }
   ],
   "source": [
    "n_samples_train = 12000\n",
    "i = np.random.randint(0, n_samples_train)\n",
    "img = Image.fromarray(x_train[i])\n",
    "plt.imshow(img)\n",
    "\n",
    "y_train[i]"
   ]
  },
  {
   "cell_type": "code",
   "execution_count": 164,
   "metadata": {},
   "outputs": [
    {
     "data": {
      "text/plain": [
       "((12000, 784), (12000, 1))"
      ]
     },
     "execution_count": 164,
     "metadata": {},
     "output_type": "execute_result"
    }
   ],
   "source": [
    "images, labels = (x_train[0:n_samples_train].reshape(n_samples_train,28*28) /255, y_train[0:n_samples_train].reshape(n_samples_train,1)) \n",
    "df = pd.DataFrame(images)\n",
    "images.shape,labels.shape"
   ]
  },
  {
   "cell_type": "code",
   "execution_count": 212,
   "metadata": {
    "scrolled": false
   },
   "outputs": [
    {
     "name": "stdout",
     "output_type": "stream",
     "text": [
      "Starting Training\n",
      "iter: 0 cost: 0.32018386709424185 Accuracy: 0.25025\n",
      "----------------------------------------------------------------------\n",
      "iter: 100 cost: 0.04813601100182163 Accuracy: 0.9946666666666667\n",
      "----------------------------------------------------------------------\n",
      "iter: 200 cost: 0.035973128105535546 Accuracy: 0.997\n",
      "----------------------------------------------------------------------\n",
      "iter: 300 cost: 0.032703980628387724 Accuracy: 0.9973333333333333\n",
      "----------------------------------------------------------------------\n",
      "iter: 400 cost: 0.03090121748399404 Accuracy: 0.9975\n",
      "----------------------------------------------------------------------\n",
      "iter: 500 cost: 0.029612114517635173 Accuracy: 0.9976666666666667\n",
      "----------------------------------------------------------------------\n",
      "iter: 600 cost: 0.028574185728120656 Accuracy: 0.998\n",
      "----------------------------------------------------------------------\n",
      "iter: 700 cost: 0.027681948298250575 Accuracy: 0.998\n",
      "----------------------------------------------------------------------\n",
      "iter: 800 cost: 0.02688907430738654 Accuracy: 0.99825\n",
      "----------------------------------------------------------------------\n",
      "iter: 900 cost: 0.026170142562633107 Accuracy: 0.99825\n",
      "----------------------------------------------------------------------\n",
      "iter: 1000 cost: 0.025509444759154374 Accuracy: 0.99825\n",
      "----------------------------------------------------------------------\n",
      "iter: 1100 cost: 0.024893213232744044 Accuracy: 0.99825\n",
      "----------------------------------------------------------------------\n",
      "iter: 1200 cost: 0.024315350760896415 Accuracy: 0.99825\n",
      "----------------------------------------------------------------------\n",
      "iter: 1300 cost: 0.02376971109817375 Accuracy: 0.99825\n",
      "----------------------------------------------------------------------\n",
      "iter: 1400 cost: 0.02325443375804785 Accuracy: 0.99825\n",
      "----------------------------------------------------------------------\n",
      "iter: 1500 cost: 0.02276862015380777 Accuracy: 0.9981666666666666\n",
      "----------------------------------------------------------------------\n",
      "iter: 1600 cost: 0.022308692406324174 Accuracy: 0.9981666666666666\n",
      "----------------------------------------------------------------------\n",
      "iter: 1700 cost: 0.02187188793563616 Accuracy: 0.9981666666666666\n",
      "----------------------------------------------------------------------\n",
      "iter: 1800 cost: 0.02145731110708929 Accuracy: 0.9981666666666666\n",
      "----------------------------------------------------------------------\n",
      "iter: 1900 cost: 0.021064121084261974 Accuracy: 0.9981666666666666\n",
      "----------------------------------------------------------------------\n",
      "Training Done.\n",
      "With \n",
      "Cost: 0.02069431432654924 Accuracy: 0.9981666666666666\n"
     ]
    }
   ],
   "source": [
    "# params_ , cost_ = train(images,labels,[images.shape[1],6,4,labels.shape[1]],n_iters=2000,alpha =  0.01,lambda_=10,)\n",
    "nn_arch=[images.shape[1],6,5,labels.shape[1]]\n",
    "nn =NeuralNetwork(images,labels,nn_arch,alpha=0.03,lambda_=100)\n",
    "nn.train(True)"
   ]
  },
  {
   "cell_type": "code",
   "execution_count": 213,
   "metadata": {},
   "outputs": [
    {
     "data": {
      "image/png": "[encoded data removed]",
      "text/plain": [
       "<Figure size 432x288 with 1 Axes>"
      ]
     },
     "metadata": {
      "needs_background": "light"
     },
     "output_type": "display_data"
    }
   ],
   "source": [
    "nn.plot_cost()"
   ]
  },
  {
   "cell_type": "markdown",
   "metadata": {},
   "source": [
    "Testing the Trained Neural Network"
   ]
  },
  {
   "cell_type": "code",
   "execution_count": 167,
   "metadata": {},
   "outputs": [],
   "source": [
    "from sklearn.metrics import confusion_matrix, classification_report\n",
    "from sklearn.metrics import precision_score, recall_score ,f1_score\n"
   ]
  },
  {
   "cell_type": "code",
   "execution_count": 168,
   "metadata": {},
   "outputs": [],
   "source": [
    "n_test_samples = x_test.shape[0]\n",
    "testX = x_test.reshape(n_test_samples,28*28)/255\n",
    "testY = y_test.reshape(n_test_samples,1)\n"
   ]
  },
  {
   "cell_type": "code",
   "execution_count": 169,
   "metadata": {},
   "outputs": [
    {
     "name": "stdout",
     "output_type": "stream",
     "text": [
      "Threshold: 0.5\n",
      "-------------test set-------------\n",
      " precision: 0.995 \n",
      " recall: 1.0 \n",
      " fl score: 0.997 \n",
      " accuracy: 0.997\n"
     ]
    },
    {
     "data": {
      "image/png": "[encoded data removed]",
      "text/plain": [
       "<Figure size 432x288 with 1 Axes>"
      ]
     },
     "metadata": {
      "needs_background": "light"
     },
     "output_type": "display_data"
    },
    {
     "name": "stdout",
     "output_type": "stream",
     "text": [
      "-------------train set-------------\n",
      " precision: 0.994 \n",
      " recall: 0.998 \n",
      " fl score: 0.996 \n",
      " accuracy: 0.996\n"
     ]
    },
    {
     "data": {
      "image/png": "[encoded data removed]",
      "text/plain": [
       "<Figure size 432x288 with 1 Axes>"
      ]
     },
     "metadata": {
      "needs_background": "light"
     },
     "output_type": "display_data"
    }
   ],
   "source": [
    "thres = 0.5\n",
    "print(\"Threshold:\",str(thres))\n",
    "print(\"-------------test set-------------\")\n",
    "nn.evaluate(testX,testY,thres)\n",
    "\n",
    "print(\"-------------train set-------------\")\n",
    "nn.evaluate(images,labels,thres)\n"
   ]
  },
  {
   "cell_type": "code",
   "execution_count": 170,
   "metadata": {},
   "outputs": [
    {
     "name": "stdout",
     "output_type": "stream",
     "text": [
      "Threshold: 0.8\n",
      "-------------test set-------------\n",
      " precision: 1.0 \n",
      " recall: 0.136 \n",
      " fl score: 0.240 \n",
      " accuracy: 0.536\n"
     ]
    },
    {
     "data": {
      "image/png": "[encoded data removed]",
      "text/plain": [
       "<Figure size 432x288 with 1 Axes>"
      ]
     },
     "metadata": {
      "needs_background": "light"
     },
     "output_type": "display_data"
    },
    {
     "name": "stdout",
     "output_type": "stream",
     "text": [
      "-------------train set-------------\n",
      " precision: 1.0 \n",
      " recall: 0.114 \n",
      " fl score: 0.204 \n",
      " accuracy: 0.527\n"
     ]
    },
    {
     "data": {
      "image/png": "[encoded data removed]",
      "text/plain": [
       "<Figure size 432x288 with 1 Axes>"
      ]
     },
     "metadata": {
      "needs_background": "light"
     },
     "output_type": "display_data"
    }
   ],
   "source": [
    "thres = 0.8\n",
    "print(\"Threshold:\",str(thres))\n",
    "print(\"-------------test set-------------\")\n",
    "nn.evaluate(testX,testY,thres)\n",
    "\n",
    "print(\"-------------train set-------------\")\n",
    "nn.evaluate(images,labels,thres)"
   ]
  },
  {
   "cell_type": "code",
   "execution_count": 171,
   "metadata": {},
   "outputs": [
    {
     "name": "stdout",
     "output_type": "stream",
     "text": [
      "Threshold: 0.3\n",
      "-------------test set-------------\n",
      " precision: 0.920 \n",
      " recall: 1.0 \n",
      " fl score: 0.958 \n",
      " accuracy: 0.953\n"
     ]
    },
    {
     "data": {
      "image/png": "[encoded data removed]",
      "text/plain": [
       "<Figure size 432x288 with 1 Axes>"
      ]
     },
     "metadata": {
      "needs_background": "light"
     },
     "output_type": "display_data"
    },
    {
     "name": "stdout",
     "output_type": "stream",
     "text": [
      "-------------train set-------------\n",
      " precision: 0.904 \n",
      " recall: 1.0 \n",
      " fl score: 0.950 \n",
      " accuracy: 0.943\n"
     ]
    },
    {
     "data": {
      "image/png": "[encoded data removed]",
      "text/plain": [
       "<Figure size 432x288 with 1 Axes>"
      ]
     },
     "metadata": {
      "needs_background": "light"
     },
     "output_type": "display_data"
    }
   ],
   "source": [
    "thres = 0.3\n",
    "print(\"Threshold:\",str(thres))\n",
    "print(\"-------------test set-------------\")\n",
    "nn.evaluate(testX,testY,thres)\n",
    "\n",
    "print(\"-------------train set-------------\")\n",
    "nn.evaluate(images,labels,thres)"
   ]
  },
  {
   "cell_type": "code",
   "execution_count": null,
   "metadata": {},
   "outputs": [],
   "source": []
  },
  {
   "cell_type": "code",
   "execution_count": 235,
   "metadata": {},
   "outputs": [],
   "source": [
    "(x_train_10, y_train_10), (x_test_10, y_test_10) = mnist.load_data()\n",
    "x_cross_10 = x_train_10[0:5000]\n",
    "y_cross_10 = y_train_10[0:5000]\n",
    "x_train_10 = x_train_10[5000:]\n",
    "y_train_10 = y_train_10[5000:]\n",
    "\n",
    "n_train_samples = x_train_10.shape[0]\n",
    "n_train_labels = y_train_10.shape[0]\n",
    "n_test_samples = x_test_10.shape[0]\n",
    "n_test_labels = y_test_10.shape[0]\n",
    "n_cross_samples = x_cross_10.shape[0]\n",
    "n_cross_labels = y_cross_10.shape[0]"
   ]
  },
  {
   "cell_type": "code",
   "execution_count": 236,
   "metadata": {},
   "outputs": [
    {
     "data": {
      "text/plain": [
       "((55000, 784), (55000, 1))"
      ]
     },
     "execution_count": 236,
     "metadata": {},
     "output_type": "execute_result"
    }
   ],
   "source": [
    "x_input = x_train_10.reshape(n_train_samples,28*28)/255\n",
    "y_output = y_train_10.reshape(n_train_labels,1)\n",
    "\n",
    "y_train_labels = np.zeros((n_train_labels,10))\n",
    "for i_row,j in enumerate(y_output):\n",
    "    y_train_labels[i_row][j]=1\n",
    "        \n",
    "x_input.shape,y_output.shape"
   ]
  },
  {
   "cell_type": "code",
   "execution_count": 237,
   "metadata": {},
   "outputs": [
    {
     "data": {
      "text/plain": [
       "{'W1': array([[ 0.13676271,  0.06189762, -0.00561585, ...,  0.03709466,\n",
       "          0.0156146 ,  0.03115571],\n",
       "        [ 0.02316634,  0.08662956,  0.03073231, ..., -0.00460391,\n",
       "         -0.02801796, -0.0055858 ],\n",
       "        [-0.00537193,  0.04296177, -0.02874577, ..., -0.04933504,\n",
       "          0.01604059, -0.0201775 ],\n",
       "        ...,\n",
       "        [ 0.02685308,  0.0085015 , -0.01992452, ..., -0.07186004,\n",
       "         -0.0180789 , -0.02405809],\n",
       "        [-0.0204285 , -0.01194327,  0.0377246 , ..., -0.05233789,\n",
       "         -0.0445934 , -0.04259078],\n",
       "        [ 0.02414052,  0.00733728,  0.05107245, ..., -0.04088199,\n",
       "          0.09211392, -0.03175288]]),\n",
       " 'b1': array([[0., 0., 0., 0., 0., 0., 0., 0., 0., 0., 0., 0.]]),\n",
       " 'W2': array([[ 0.07046444,  0.55337046,  0.12235296,  1.15902337,  0.18842996,\n",
       "         -0.15195062,  0.26426834,  0.83299751,  0.49540224, -0.4931515 ],\n",
       "        [ 0.02016823,  0.52413012,  0.01813998,  0.29649861, -0.00406853,\n",
       "          0.80647812, -0.14161467, -0.10850122, -0.6383153 ,  0.21302638],\n",
       "        [ 1.01856251, -0.0041084 , -0.50480334, -0.04720719, -0.65678537,\n",
       "          0.32008235,  0.27966654,  0.38090856,  0.67826575, -0.47203173],\n",
       "        [-0.43493771, -0.14211603, -0.0095126 ,  0.08713178,  0.44879076,\n",
       "          0.09055144, -0.98520663, -0.14371331, -0.33298029, -0.51114438],\n",
       "        [-0.42342566,  0.32961368,  0.31583268,  0.6211374 , -0.51652263,\n",
       "         -0.35234847,  0.42923898, -0.42885228, -0.50135263,  0.70268476],\n",
       "        [ 0.77317634, -0.17805836,  0.56965951, -0.10785232, -0.66844973,\n",
       "          0.0484984 , -0.37019522, -0.08710434,  0.79769438, -0.27903624],\n",
       "        [-0.21145648,  0.3056492 ,  0.45390908, -0.51221458, -0.08729558,\n",
       "         -0.00933539,  0.62427713, -0.07143478,  0.22058784, -0.37965919],\n",
       "        [-0.40045282, -0.6654065 , -0.05266475,  0.19881694,  0.19464825,\n",
       "          0.37119802,  0.24466115,  0.6291685 , -0.44675629, -0.15799714],\n",
       "        [-0.58652395, -0.18838916,  0.25815491, -0.06728958,  0.10705425,\n",
       "         -0.119474  , -0.26845246, -0.56174787,  0.24416087, -0.4412949 ],\n",
       "        [ 0.16932148,  0.03667682, -0.19417154, -0.35070819, -0.61446681,\n",
       "          0.03723742, -0.49050352, -0.54536202,  0.2495838 , -0.2912598 ],\n",
       "        [ 0.34910657,  0.35419907, -0.14018471, -0.02377496, -0.05362166,\n",
       "         -0.17531366,  0.15200866, -0.20048453, -0.55804776, -0.36304785],\n",
       "        [ 0.71772658,  0.54543083,  0.69917859,  0.28285522, -0.27469933,\n",
       "         -0.210635  ,  0.48188945,  0.57124369, -0.16663461, -0.7796721 ]]),\n",
       " 'b2': array([[0., 0., 0., 0., 0., 0., 0., 0., 0., 0.]]),\n",
       " 'W3': array([[ 6.38384484e-01, -6.89284957e-02, -6.72512567e-01,\n",
       "          3.21132431e-01, -7.50547234e-01,  3.38142913e-01,\n",
       "         -2.52832299e-01, -9.05588830e-01, -3.57837772e-01,\n",
       "         -1.04908060e+00],\n",
       "        [-2.03002518e-01,  7.37061499e-02,  3.90009751e-01,\n",
       "         -8.36021685e-01, -7.90176740e-01,  5.31669034e-01,\n",
       "         -8.31083539e-01,  7.37570622e-01, -7.71978807e-01,\n",
       "          4.02039163e-01],\n",
       "        [-2.18963292e-01,  1.01524148e+00,  5.78625102e-01,\n",
       "          4.79709097e-01, -2.69262268e-01, -1.41278002e-01,\n",
       "         -6.21385252e-01, -1.03767020e-01, -3.64872285e-01,\n",
       "         -3.43284532e-01],\n",
       "        [-1.07364687e+00,  5.13919419e-02, -1.76306858e-01,\n",
       "         -7.66624957e-01, -7.63674965e-01,  9.95738032e-01,\n",
       "          2.85851592e-01, -5.97131691e-01, -2.05984227e-02,\n",
       "          1.58111935e-01],\n",
       "        [-4.42937602e-01,  3.62116176e-02,  1.00150665e+00,\n",
       "         -2.44038467e-01, -3.48050699e-01, -2.40150998e-01,\n",
       "          8.27330017e-02,  6.62980454e-04,  1.54363719e-01,\n",
       "          3.92715920e-01],\n",
       "        [ 1.65304053e-02,  6.46345948e-01, -3.41221282e-02,\n",
       "          1.12566806e-01,  2.42398405e-01, -3.44177516e-01,\n",
       "          5.82102531e-01, -3.91309438e-01,  8.51380308e-02,\n",
       "          2.76175540e-01],\n",
       "        [ 9.40931582e-02, -9.82449534e-02,  1.79217327e-01,\n",
       "          2.35340102e-01,  3.01654626e-02,  9.92285988e-01,\n",
       "          3.73477253e-01, -2.56555326e-01,  2.12935788e-01,\n",
       "         -2.40148996e-01],\n",
       "        [ 3.28946099e-01, -7.43970024e-01, -2.97033672e-01,\n",
       "          5.37285478e-01, -2.64168090e-01,  7.27580368e-01,\n",
       "         -3.58701601e-01, -3.02027584e-01,  6.99977453e-01,\n",
       "         -2.81753147e-01],\n",
       "        [ 6.90603967e-01, -1.06065854e-01, -9.41838734e-01,\n",
       "         -8.65601875e-02, -5.00736112e-01, -5.05799092e-01,\n",
       "          1.13601278e-01, -3.06066009e-02,  1.53380828e-01,\n",
       "          4.68969483e-01],\n",
       "        [ 2.50986072e-01, -4.70674455e-01, -8.77447509e-01,\n",
       "          9.31398272e-02,  7.04378288e-01, -3.88348724e-01,\n",
       "         -7.40545931e-01,  4.98536042e-02,  1.52615148e-01,\n",
       "         -1.86501740e-02]]),\n",
       " 'b3': array([[0., 0., 0., 0., 0., 0., 0., 0., 0., 0.]])}"
      ]
     },
     "execution_count": 237,
     "metadata": {},
     "output_type": "execute_result"
    }
   ],
   "source": [
    "nn10 = NeuralNetwork(x_input,y_train_labels,[x_input.shape[1],12,10,10],n_iters=3001,alpha=0.03,lambda_=100)\n",
    "nn10.params "
   ]
  },
  {
   "cell_type": "code",
   "execution_count": null,
   "metadata": {},
   "outputs": [
    {
     "name": "stdout",
     "output_type": "stream",
     "text": [
      "Starting Training\n",
      "iter: 0 cost: 2.7589807111188556 Accuracy: 0.10129090909090908\n",
      "----------------------------------------------------------------------\n",
      "iter: 100 cost: 0.9031845952022608 Accuracy: 0.1489272727272727\n",
      "----------------------------------------------------------------------\n",
      "iter: 200 cost: 0.869651882940848 Accuracy: 0.1960909090909091\n",
      "----------------------------------------------------------------------\n",
      "iter: 300 cost: 0.8525575684232184 Accuracy: 0.2226\n",
      "----------------------------------------------------------------------\n",
      "iter: 400 cost: 0.8401097148961716 Accuracy: 0.25387272727272725\n",
      "----------------------------------------------------------------------\n",
      "iter: 500 cost: 0.8154541078502053 Accuracy: 0.33054545454545453\n",
      "----------------------------------------------------------------------\n",
      "iter: 600 cost: 0.7700575703900793 Accuracy: 0.37825454545454545\n",
      "----------------------------------------------------------------------\n",
      "iter: 700 cost: 0.7206116818762583 Accuracy: 0.4122\n",
      "----------------------------------------------------------------------\n",
      "iter: 800 cost: 0.6743573510922537 Accuracy: 0.4874909090909091\n",
      "----------------------------------------------------------------------\n",
      "iter: 900 cost: 0.632748721973854 Accuracy: 0.5498181818181819\n",
      "----------------------------------------------------------------------\n",
      "iter: 1000 cost: 0.5939163992151061 Accuracy: 0.6027090909090909\n",
      "----------------------------------------------------------------------\n",
      "iter: 1100 cost: 0.5584370458885555 Accuracy: 0.6300363636363636\n",
      "----------------------------------------------------------------------\n",
      "iter: 1200 cost: 0.5280103681734707 Accuracy: 0.6455818181818181\n",
      "----------------------------------------------------------------------\n",
      "iter: 1300 cost: 0.5036733368218594 Accuracy: 0.6590181818181818\n",
      "----------------------------------------------------------------------\n",
      "iter: 1400 cost: 0.4848128011693024 Accuracy: 0.6708545454545455\n",
      "----------------------------------------------------------------------\n",
      "iter: 1500 cost: 0.46999515472157427 Accuracy: 0.6817272727272727\n",
      "----------------------------------------------------------------------\n",
      "iter: 1600 cost: 0.4578979441839331 Accuracy: 0.6938727272727273\n",
      "----------------------------------------------------------------------\n",
      "iter: 1700 cost: 0.44797440284713935 Accuracy: 0.7050363636363637\n",
      "----------------------------------------------------------------------\n",
      "iter: 1800 cost: 0.4396481618177169 Accuracy: 0.7157454545454546\n",
      "----------------------------------------------------------------------\n",
      "iter: 1900 cost: 0.4323601393625683 Accuracy: 0.7243454545454545\n",
      "----------------------------------------------------------------------\n",
      "iter: 2000 cost: 0.42576403026011433 Accuracy: 0.7324\n",
      "----------------------------------------------------------------------\n",
      "iter: 2100 cost: 0.4196183680507469 Accuracy: 0.7395272727272727\n",
      "----------------------------------------------------------------------\n",
      "iter: 2200 cost: 0.41376538195917245 Accuracy: 0.7454363636363637\n",
      "----------------------------------------------------------------------\n",
      "iter: 2300 cost: 0.4080706017062193 Accuracy: 0.7514181818181818\n",
      "----------------------------------------------------------------------\n",
      "iter: 2400 cost: 0.40246259960455033 Accuracy: 0.7572363636363636\n",
      "----------------------------------------------------------------------\n",
      "iter: 2500 cost: 0.39688392695891195 Accuracy: 0.7611272727272728\n",
      "----------------------------------------------------------------------\n",
      "iter: 2600 cost: 0.39136254757691913 Accuracy: 0.7647636363636363\n",
      "----------------------------------------------------------------------\n",
      "iter: 2700 cost: 0.38591547915508234 Accuracy: 0.7681454545454546\n",
      "----------------------------------------------------------------------\n"
     ]
    }
   ],
   "source": [
    "nn10.train(True)"
   ]
  },
  {
   "cell_type": "code",
   "execution_count": null,
   "metadata": {},
   "outputs": [],
   "source": [
    "nn10.plot_cost()\n",
    "y_train_labels.shape"
   ]
  },
  {
   "cell_type": "code",
   "execution_count": null,
   "metadata": {},
   "outputs": [],
   "source": [
    "x = nn10.predict(x_cross_10.reshape(n_cross_samples,28*28)/255,0.5)"
   ]
  },
  {
   "cell_type": "code",
   "execution_count": null,
   "metadata": {},
   "outputs": [],
   "source": [
    "(x.reshape(n_cross_samples,1) == y_cross_10.reshape(n_cross_samples,1)).all(axis=1).mean()"
   ]
  },
  {
   "cell_type": "code",
   "execution_count": null,
   "metadata": {},
   "outputs": [],
   "source": [
    "nn10.evaluate(x_cross_10.reshape(n_cross_samples,28*28)/255,y_cross_10.reshape(n_cross_samples,1))"
   ]
  },
  {
   "cell_type": "code",
   "execution_count": null,
   "metadata": {},
   "outputs": [],
   "source": []
  },
  {
   "cell_type": "code",
   "execution_count": null,
   "metadata": {},
   "outputs": [],
   "source": []
  }
 ],
 "metadata": {
  "kernelspec": {
   "display_name": "Python 3",
   "language": "python",
   "name": "python3"
  },
  "language_info": {
   "codemirror_mode": {
    "name": "ipython",
    "version": 3
   },
   "file_extension": ".py",
   "mimetype": "text/x-python",
   "name": "python",
   "nbconvert_exporter": "python",
   "pygments_lexer": "ipython3",
   "version": "3.7.6"
  }
 },
 "nbformat": 4,
 "nbformat_minor": 4
}
